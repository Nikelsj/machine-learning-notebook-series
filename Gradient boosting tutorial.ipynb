{
 "cells": [
  {
   "cell_type": "markdown",
   "metadata": {},
   "source": [
    "#### Gradient boosting tutorial\n",
    "\n",
    "As ensemble model is really powerful than just one model, the ensemble contain two parts: bagging and boosting, the bagging algorithm representation is RandomForest algorithm, and the boosting algorithm representation is gradient boosting.\n",
    "The difference between bagging and boosting is that for the bagging criteria is to use the voting or averaging method, and the boosting is to fit the model and the sequencial model residual. The gradient boosting means that for the next model is to fit on the residual multiply with the learning rate. Here is just to implement this with DecisonTree combined using sklearn module."
   ]
  },
  {
   "cell_type": "code",
   "execution_count": 15,
   "metadata": {},
   "outputs": [],
   "source": [
    "# there is to use the digits dataset\n",
    "from sklearn.datasets import load_digits\n",
    "from sklearn.tree import DecisionTreeRegressor\n",
    "import numpy as np\n",
    "import matplotlib.pyplot as plt\n",
    "from sklearn.model_selection import train_test_split\n",
    "from sklearn import metrics\n",
    "\n",
    "# x, y = load_digits(return_X_y=True)\n",
    "# just random some dataset\n",
    "x, y = np.random.randn(10000, 3), np.random.random(10000, )\n",
    "\n",
    "xtrain, xtest, ytrain, ytest = train_test_split(x, y, test_size=.2, random_state=1234)"
   ]
  },
  {
   "cell_type": "code",
   "execution_count": 16,
   "metadata": {},
   "outputs": [],
   "source": [
    "# define the rmse function\n",
    "def rmse_loss(y, pred):\n",
    "    return np.sqrt(metrics.mean_squared_error(y, pred))"
   ]
  },
  {
   "cell_type": "code",
   "execution_count": 17,
   "metadata": {},
   "outputs": [
    {
     "name": "stdout",
     "output_type": "stream",
     "text": [
      "training step:  0\n",
      "training step:  5\n",
      "training step:  10\n",
      "training step:  15\n",
      "training step:  20\n",
      "training step:  25\n"
     ]
    }
   ],
   "source": [
    "train_rmse_list = []\n",
    "test_rmse_list = []\n",
    "model_list = []\n",
    "res_list = []\n",
    "\n",
    "n_trees = 30\n",
    "\n",
    "ytrain_data = ytrain.copy()\n",
    "\n",
    "# loop for the n_trees \n",
    "for i in range(n_trees):\n",
    "    if i % 5 == 0:\n",
    "        print(\"training step: \", i)\n",
    "    \n",
    "    dt = DecisionTreeRegressor()\n",
    "    \n",
    "    if i == 0:\n",
    "        # model should fit on the train and train label\n",
    "        dt.fit(xtrain, ytrain_data)\n",
    "        pred = dt.predict(xtrain)\n",
    "        train_rmse_list.append(rmse_loss(ytrain, pred))\n",
    "        pred_test = dt.predict(xtest)\n",
    "        test_rmse_list.append(rmse_loss(ytest, pred_test))\n",
    "        residual = ytrain_data - pred\n",
    "    else:\n",
    "        # if not the first time to fit the model should fit on the residual, and the prediction is based on the previous\n",
    "        # model training model prediction and combined with residual\n",
    "        # train_data += residual\n",
    "        dt.fit(xtrain, residual)\n",
    "        # change the prediction\n",
    "        pred += dt.predict(xtrain)\n",
    "        train_rmse_list.append(rmse_loss(ytrain, pred))\n",
    "        pred_test = dt.predict(xtest)\n",
    "        test_rmse_list.append(rmse_loss(ytest, pred_test))\n",
    "        residual = ytrain - pred\n",
    "    \n",
    "    model_list.append(dt)\n",
    "        \n",
    "    "
   ]
  },
  {
   "cell_type": "code",
   "execution_count": 18,
   "metadata": {},
   "outputs": [
    {
     "name": "stderr",
     "output_type": "stream",
     "text": [
      "No handles with labels found to put in legend.\n"
     ]
    },
    {
     "data": {
      "image/png": "[encoded data removed]",
      "text/plain": [
       "<Figure size 864x576 with 2 Axes>"
      ]
     },
     "metadata": {},
     "output_type": "display_data"
    }
   ],
   "source": [
    "# plot the train rmse and test rmse\n",
    "fig, ax = plt.subplots(1, 2, figsize=(12, 8))\n",
    "ax[0].plot(train_rmse_list)\n",
    "ax[0].set_title(\"Train RMSE\")\n",
    "\n",
    "ax[1].plot(test_rmse_list)\n",
    "ax[1].set_title(\"Test RMSE\")\n",
    "\n",
    "plt.legend()\n",
    "plt.show()"
   ]
  },
  {
   "cell_type": "code",
   "execution_count": null,
   "metadata": {},
   "outputs": [],
   "source": []
  }
 ],
 "metadata": {
  "kernelspec": {
   "display_name": "Python 3",
   "language": "python",
   "name": "python3"
  },
  "language_info": {
   "codemirror_mode": {
    "name": "ipython",
    "version": 3
   },
   "file_extension": ".py",
   "mimetype": "text/x-python",
   "name": "python",
   "nbconvert_exporter": "python",
   "pygments_lexer": "ipython3",
   "version": "3.6.5"
  }
 },
 "nbformat": 4,
 "nbformat_minor": 2
}
