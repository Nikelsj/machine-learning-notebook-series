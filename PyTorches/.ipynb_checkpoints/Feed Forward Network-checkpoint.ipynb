{
 "cells": [
  {
   "cell_type": "markdown",
   "metadata": {},
   "source": [
    "### Feed Forward Network\n",
    "\n",
    "This is to implement feed forward network based on PyTorch. \n",
    "\n",
    "For feed forward network, here I just want to show maybe there are many layers with dense connection with each other. \n",
    "\n",
    "As you could implement as many layers you want, but one thing should remember is **vanishing / exploding gradient** problem! \n",
    "\n",
    "Easy way to understand: if you have 5 layers and each layer gradient is 10, then with 5 layers' pass, then the gradient will be 10 ** 5 as we will do multiply with each layer, that's vanishing gradient; suppose you just get gradient with 0.1, then when you pass gradient to first layer, the gradient is just 0.1 ** 5=0.00001, so small! so you couldn't learn anything! \n",
    "\n",
    "There you many other way to solve this: `Relu`, `BatchNormalization`, `RNN`, `CNN`, etc. I will make it deeper in future tutorials."
   ]
  },
  {
   "cell_type": "code",
   "execution_count": 1,
   "metadata": {},
   "outputs": [],
   "source": [
    "import torch\n",
    "import torch.nn as nn\n",
    "import torch.optim as optim\n",
    "import torch.nn.functional as F\n",
    "import matplotlib.pyplot as plt\n",
    "from matplotlib import style\n",
    "from sklearn.datasets import load_iris\n",
    "from sklearn.model_selection import train_test_split\n",
    "import tempfile\n",
    "import shutil\n",
    "import os\n",
    "\n",
    "style.use('ggplot')"
   ]
  },
  {
   "cell_type": "code",
   "execution_count": 2,
   "metadata": {},
   "outputs": [],
   "source": [
    "# hyper-parameters\n",
    "input_size = 4\n",
    "output_size = 3\n",
    "hidden_units = 128\n",
    "learning_rate = .01\n",
    "epochs = 300"
   ]
  },
  {
   "cell_type": "code",
   "execution_count": 3,
   "metadata": {},
   "outputs": [],
   "source": [
    "# define feed forward network\n",
    "class FeedForwardNet(nn.Module):\n",
    "    def __init__(self):\n",
    "        super(FeedForwardNet, self).__init__()\n",
    "        self.fc1 = nn.Linear(input_size, hidden_units)\n",
    "        self.fc2 = nn.Linear(hidden_units, output_size)\n",
    "\n",
    "    def forward(self, x):\n",
    "        # fix this error: add x.float()\n",
    "        # RuntimeError: Expected object of scalar type Float but got scalar type Double for argument #4 'mat1'\n",
    "        x = x.float()\n",
    "        x = F.relu(F.dropout(self.fc1(x)))   # also add dropout to prevent overfiting\n",
    "        x = F.relu(self.fc2(x))\n",
    "        x = F.softmax(input=x, dim=1)   # make sum to 1 with row use softmax\n",
    "        return x"
   ]
  },
  {
   "cell_type": "code",
   "execution_count": 4,
   "metadata": {},
   "outputs": [],
   "source": [
    "# load data\n",
    "x, y = load_iris(return_X_y=True)\n",
    "\n",
    "# split data to train and test data\n",
    "xtrain, xtest, ytrain, ytest = train_test_split(x, y, test_size=.2, random_state=1234)\n",
    "\n",
    "# convert ndarray to Tensor\n",
    "xtrain = torch.from_numpy(xtrain)\n",
    "xtest = torch.from_numpy(xtest)\n",
    "\n",
    "# as for multi-class, pytorch need label type to be long()!\n",
    "# for binary, to change type to float()\n",
    "ytrain = torch.from_numpy(ytrain).long().squeeze_()\n",
    "ytest = torch.from_numpy(ytest).long().squeeze_()\n"
   ]
  },
  {
   "cell_type": "code",
   "execution_count": 5,
   "metadata": {},
   "outputs": [
    {
     "name": "stdout",
     "output_type": "stream",
     "text": [
      "Model Structure:  FeedForwardNet(\n",
      "  (fc1): Linear(in_features=4, out_features=128, bias=True)\n",
      "  (fc2): Linear(in_features=128, out_features=3, bias=True)\n",
      ")\n"
     ]
    }
   ],
   "source": [
    "# instant our model\n",
    "model = FeedForwardNet()\n",
    "print(\"Model Structure: \", model)"
   ]
  },
  {
   "cell_type": "code",
   "execution_count": 6,
   "metadata": {},
   "outputs": [],
   "source": [
    "# instant optimizer and loss object\n",
    "optimizer = optim.SGD(model.parameters(), lr=learning_rate)\n",
    "criterion = nn.CrossEntropyLoss()"
   ]
  },
  {
   "cell_type": "code",
   "execution_count": 7,
   "metadata": {},
   "outputs": [],
   "source": [
    "# store train loss and test loss\n",
    "train_loss_list = []\n",
    "test_loss_list = []"
   ]
  },
  {
   "cell_type": "code",
   "execution_count": 8,
   "metadata": {},
   "outputs": [
    {
     "name": "stdout",
     "output_type": "stream",
     "text": [
      "{Epoch: 0, train loss: 1.15, test loss: 1.18}\n",
      "{Epoch: 10, train loss: 1.12, test loss: 1.09}\n",
      "{Epoch: 20, train loss: 1.11, test loss: 1.14}\n",
      "{Epoch: 30, train loss: 1.09, test loss: 1.07}\n",
      "{Epoch: 40, train loss: 1.07, test loss: 1.05}\n",
      "{Epoch: 50, train loss: 1.03, test loss: 1.01}\n",
      "{Epoch: 60, train loss: 0.99, test loss: 1.02}\n",
      "{Epoch: 70, train loss: 0.97, test loss: 1.03}\n",
      "{Epoch: 80, train loss: 0.95, test loss: 1.04}\n",
      "{Epoch: 90, train loss: 0.94, test loss: 1.01}\n",
      "{Epoch: 100, train loss: 0.94, test loss: 1.05}\n",
      "{Epoch: 110, train loss: 0.93, test loss: 1.04}\n",
      "{Epoch: 120, train loss: 0.91, test loss: 1.01}\n",
      "{Epoch: 130, train loss: 0.92, test loss: 1.00}\n",
      "{Epoch: 140, train loss: 0.91, test loss: 0.99}\n",
      "{Epoch: 150, train loss: 0.89, test loss: 0.99}\n",
      "{Epoch: 160, train loss: 0.89, test loss: 1.00}\n",
      "{Epoch: 170, train loss: 0.87, test loss: 0.96}\n",
      "{Epoch: 180, train loss: 0.89, test loss: 1.01}\n",
      "{Epoch: 190, train loss: 0.88, test loss: 0.94}\n",
      "{Epoch: 200, train loss: 0.89, test loss: 0.95}\n",
      "{Epoch: 210, train loss: 0.86, test loss: 0.91}\n",
      "{Epoch: 220, train loss: 0.87, test loss: 0.96}\n",
      "{Epoch: 230, train loss: 0.86, test loss: 0.96}\n",
      "{Epoch: 240, train loss: 0.87, test loss: 0.93}\n",
      "{Epoch: 250, train loss: 0.85, test loss: 0.92}\n",
      "{Epoch: 260, train loss: 0.85, test loss: 0.88}\n",
      "{Epoch: 270, train loss: 0.88, test loss: 0.92}\n",
      "{Epoch: 280, train loss: 0.86, test loss: 0.91}\n",
      "{Epoch: 290, train loss: 0.85, test loss: 0.88}\n"
     ]
    }
   ],
   "source": [
    "# start training, oohu\n",
    "for epoch in range(epochs):\n",
    "    # get train prediction\n",
    "    pred_train = model(xtrain)\n",
    "\n",
    "    # get loss\n",
    "    loss_train = criterion(pred_train, ytrain)\n",
    "\n",
    "    # backward step\n",
    "    optimizer.zero_grad()\n",
    "    loss_train.backward()\n",
    "\n",
    "    # get the gradient of model parameters\n",
    "    optimizer.step()\n",
    "\n",
    "    # get test loss\n",
    "    # we don't need gradient for test data\n",
    "    with torch.no_grad():\n",
    "        pred_test = model(xtest)\n",
    "        loss_test = criterion(pred_test, ytest)\n",
    "\n",
    "    train_loss_list.append(loss_train)\n",
    "    test_loss_list.append(loss_test)\n",
    "\n",
    "    if epoch % 10 == 0:\n",
    "        print(\"{Epoch: %d, train loss: %.2f, test loss: %.2f}\" % (epoch, loss_train, loss_test))\n"
   ]
  },
  {
   "cell_type": "code",
   "execution_count": 11,
   "metadata": {},
   "outputs": [
    {
     "data": {
      "image/png": "[encoded data removed]",
      "text/plain": [
       "<Figure size 432x288 with 1 Axes>"
      ]
     },
     "metadata": {},
     "output_type": "display_data"
    }
   ],
   "source": [
    "# then we could plot the train and test data loss curve\n",
    "plt.plot(range(len(train_loss_list)), train_loss_list, label='training_loss')\n",
    "plt.plot(range(len(test_loss_list)), test_loss_list, label='testing_loss')\n",
    "\n",
    "plt.title(\"Training and testing loss curve\")\n",
    "plt.xlabel(\"Epochs\")\n",
    "plt.ylabel(\"Loss\")\n",
    "plt.grid(True)\n",
    "plt.legend()\n",
    "\n",
    "plt.show()\n",
    "\n",
    "# in fact, you could see that we do make our training and testing loss descrease, maybe we could iterater\n",
    "# more steps, or you could add more units, but one thing to remember that we couldn't make it too deeper!"
   ]
  },
  {
   "cell_type": "code",
   "execution_count": 12,
   "metadata": {},
   "outputs": [
    {
     "name": "stdout",
     "output_type": "stream",
     "text": [
      "Get model: ['model.ckpt']\n"
     ]
    }
   ],
   "source": [
    "# we could save our trained model checkpoint to disk, here I just save\n",
    "# it to a temperate folder, you could just change the path you want\n",
    "tmp_path = tempfile.mkdtemp()\n",
    "torch.save(model.state_dict(), os.path.join(tmp_path, 'model.ckpt'))\n",
    "print(\"Get model:\", os.listdir(tmp_path))\n",
    "# remove the temperate folder\n",
    "shutil.rmtree(tmp_path)"
   ]
  },
  {
   "cell_type": "code",
   "execution_count": null,
   "metadata": {},
   "outputs": [],
   "source": []
  }
 ],
 "metadata": {
  "kernelspec": {
   "display_name": "Python 3",
   "language": "python",
   "name": "python3"
  },
  "language_info": {
   "codemirror_mode": {
    "name": "ipython",
    "version": 3
   },
   "file_extension": ".py",
   "mimetype": "text/x-python",
   "name": "python",
   "nbconvert_exporter": "python",
   "pygments_lexer": "ipython3",
   "version": "3.6.5"
  }
 },
 "nbformat": 4,
 "nbformat_minor": 2
}
