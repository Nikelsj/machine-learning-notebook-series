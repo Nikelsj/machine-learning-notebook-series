{
 "cells": [
  {
   "cell_type": "markdown",
   "metadata": {},
   "source": [
    "### Linear Regression\n",
    "\n",
    "This is to implement the linear regression with PyTorch. Linear regression is just with: y = w * x + b.As I write the code, I use SGD as optimizer with learning rate with 1,I get **nan loss**, how is that possible? This is caused by exploding vanish problem: [Why training deep learning difficult?](http://neuralnetworksanddeeplearning.com/chap5.html), so I just choose more advance optimizer with Adam, in fact, with Adam we don't need to set learning rate as it is a self-adapt solution, but I also change the default learning rate I find that it's more efficient!"
   ]
  },
  {
   "cell_type": "code",
   "execution_count": 1,
   "metadata": {},
   "outputs": [],
   "source": [
    "import torch\n",
    "import torch.nn as nn\n",
    "import torch.optim as optim\n",
    "from sklearn.datasets import load_boston\n",
    "import matplotlib.pyplot as plt\n",
    "from matplotlib import style\n",
    "import tempfile\n",
    "import os\n",
    "import shutil\n",
    "\n",
    "style.use('ggplot')"
   ]
  },
  {
   "cell_type": "code",
   "execution_count": 2,
   "metadata": {},
   "outputs": [],
   "source": [
    "# hyper-parameters\n",
    "input_size = 13\n",
    "output_size = 1\n",
    "epochs = 300\n",
    "learning_rate = .01"
   ]
  },
  {
   "cell_type": "code",
   "execution_count": 3,
   "metadata": {},
   "outputs": [],
   "source": [
    "class LinearNet(nn.Module):\n",
    "    def __init__(self):\n",
    "        super(LinearNet, self).__init__()\n",
    "        self.fc = nn.Linear(input_size, output_size)\n",
    "        # as features is 13D also we need to keep the bias\n",
    "        # the output is just 1D with regression prediction\n",
    "\n",
    "    def forward(self, x):\n",
    "        x = x.float()\n",
    "        x = self.fc(x)\n",
    "        return x"
   ]
  },
  {
   "cell_type": "code",
   "execution_count": 4,
   "metadata": {},
   "outputs": [],
   "source": [
    "# Make dataset\n",
    "# here I just load boston data from sklearn for linear regression\n",
    "x, y = load_boston(return_X_y=True)\n",
    "y = y.reshape(-1, 1)\n",
    "\n",
    "# we should split data to train and test\n",
    "train_position = int(len(x) * .9)\n",
    "xtrain = x[:train_position]\n",
    "ytrain = y[:train_position]\n",
    "xtest = x[train_position:]\n",
    "ytest = y[train_position:]\n",
    "\n",
    "# we should convert data to Tensor\n",
    "xtrain = torch.from_numpy(xtrain)\n",
    "xtest = torch.from_numpy(xtest)\n",
    "\n",
    "# have to convert the target to float type\n",
    "ytrain = torch.from_numpy(ytrain).view(-1, 1).float()\n",
    "ytest = torch.from_numpy(ytest).view(-1, 1).float()"
   ]
  },
  {
   "cell_type": "code",
   "execution_count": 5,
   "metadata": {},
   "outputs": [
    {
     "name": "stdout",
     "output_type": "stream",
     "text": [
      "Model Structure:  LinearNet(\n",
      "  (fc): Linear(in_features=13, out_features=1, bias=True)\n",
      ")\n"
     ]
    }
   ],
   "source": [
    "# after load data, we should create our model\n",
    "model = LinearNet()\n",
    "print(\"Model Structure: \", model)"
   ]
  },
  {
   "cell_type": "code",
   "execution_count": 6,
   "metadata": {},
   "outputs": [],
   "source": [
    "# we should create the optimizer and loss function\n",
    "# optimizer = optim.SGD(model.parameters(), lr=learning_rate)\n",
    "optimizer = optim.Adam(model.parameters(), lr=learning_rate)\n",
    "criterion = nn.MSELoss()"
   ]
  },
  {
   "cell_type": "code",
   "execution_count": 7,
   "metadata": {},
   "outputs": [],
   "source": [
    "# to store training loss and test loss\n",
    "train_loss_list = []\n",
    "test_loss_list = []"
   ]
  },
  {
   "cell_type": "code",
   "execution_count": 8,
   "metadata": {},
   "outputs": [
    {
     "name": "stdout",
     "output_type": "stream",
     "text": [
      "[Epoch: 0, train loss: 1671.98, test loss: 1561.54]\n",
      "[Epoch: 10, train loss: 379.62, test loss: 405.67]\n",
      "[Epoch: 20, train loss: 145.88, test loss: 194.82]\n",
      "[Epoch: 30, train loss: 84.86, test loss: 64.24]\n",
      "[Epoch: 40, train loss: 77.00, test loss: 51.92]\n",
      "[Epoch: 50, train loss: 75.03, test loss: 45.17]\n",
      "[Epoch: 60, train loss: 72.95, test loss: 42.49]\n",
      "[Epoch: 70, train loss: 70.95, test loss: 40.36]\n",
      "[Epoch: 80, train loss: 69.13, test loss: 38.46]\n",
      "[Epoch: 90, train loss: 67.44, test loss: 37.71]\n",
      "[Epoch: 100, train loss: 65.87, test loss: 36.02]\n",
      "[Epoch: 110, train loss: 64.40, test loss: 35.89]\n",
      "[Epoch: 120, train loss: 63.05, test loss: 34.73]\n",
      "[Epoch: 130, train loss: 61.80, test loss: 34.45]\n",
      "[Epoch: 140, train loss: 60.65, test loss: 34.03]\n",
      "[Epoch: 150, train loss: 59.58, test loss: 33.60]\n",
      "[Epoch: 160, train loss: 58.60, test loss: 33.43]\n",
      "[Epoch: 170, train loss: 57.69, test loss: 33.19]\n",
      "[Epoch: 180, train loss: 56.84, test loss: 32.99]\n",
      "[Epoch: 190, train loss: 56.04, test loss: 32.85]\n",
      "[Epoch: 200, train loss: 55.30, test loss: 32.69]\n",
      "[Epoch: 210, train loss: 54.60, test loss: 32.54]\n",
      "[Epoch: 220, train loss: 53.94, test loss: 32.39]\n",
      "[Epoch: 230, train loss: 53.31, test loss: 32.24]\n",
      "[Epoch: 240, train loss: 52.72, test loss: 32.08]\n",
      "[Epoch: 250, train loss: 52.16, test loss: 31.92]\n",
      "[Epoch: 260, train loss: 51.62, test loss: 31.75]\n",
      "[Epoch: 270, train loss: 51.12, test loss: 31.57]\n",
      "[Epoch: 280, train loss: 50.63, test loss: 31.39]\n",
      "[Epoch: 290, train loss: 50.17, test loss: 31.21]\n"
     ]
    }
   ],
   "source": [
    "# start training epochs\n",
    "for epoch in range(epochs):\n",
    "    # get the prediction on train data\n",
    "    out = model(xtrain)\n",
    "\n",
    "    # get the loss based on train data\n",
    "    loss = criterion(out, ytrain)\n",
    "\n",
    "    # backward step to get the gradient\n",
    "    optimizer.zero_grad()\n",
    "    loss.backward()\n",
    "\n",
    "    # update the model parameters\n",
    "    optimizer.step()\n",
    "\n",
    "    # make the test loss based on updated parameters\n",
    "    # we don't need the gradient for test data\n",
    "    with torch.no_grad():\n",
    "        out_test = model(xtest)\n",
    "        loss_test = criterion(out_test, ytest)\n",
    "\n",
    "    train_loss_list.append(loss)\n",
    "    test_loss_list.append(loss_test)\n",
    "\n",
    "    if epoch % 10 == 0:\n",
    "        print(\"[Epoch: %d, train loss: %.2f, test loss: %.2f]\" %\n",
    "              (epoch, loss.item(), loss_test.item()))"
   ]
  },
  {
   "cell_type": "code",
   "execution_count": 9,
   "metadata": {},
   "outputs": [
    {
     "data": {
      "image/png": "[encoded data removed]",
      "text/plain": [
       "<Figure size 432x288 with 1 Axes>"
      ]
     },
     "metadata": {},
     "output_type": "display_data"
    }
   ],
   "source": [
    "# then we could plot the train and test data loss curve\n",
    "plt.plot(range(len(train_loss_list)), train_loss_list, label='training_loss')\n",
    "plt.plot(range(len(test_loss_list)), test_loss_list, label='testing_loss')\n",
    "\n",
    "plt.title(\"Training and testing loss curve\")\n",
    "plt.xlabel(\"Epochs\")\n",
    "plt.ylabel(\"Loss\")\n",
    "plt.grid(True)\n",
    "plt.legend()\n",
    "\n",
    "plt.show()\n",
    "\n",
    "# as you could see that we don't find the training and testing loss decrease, that's a good news"
   ]
  },
  {
   "cell_type": "code",
   "execution_count": 10,
   "metadata": {},
   "outputs": [
    {
     "name": "stdout",
     "output_type": "stream",
     "text": [
      "Get model: ['model.ckpt']\n"
     ]
    }
   ],
   "source": [
    "# we could save our trained model checkpoint to disk, here I just save\n",
    "# it to a temperate folder, you could just change the path you want\n",
    "tmp_path = tempfile.mkdtemp()\n",
    "torch.save(model.state_dict(), os.path.join(tmp_path, 'model.ckpt'))\n",
    "print(\"Get model:\", os.listdir(tmp_path))\n",
    "# remove the temperate folder\n",
    "shutil.rmtree(tmp_path)"
   ]
  },
  {
   "cell_type": "code",
   "execution_count": null,
   "metadata": {},
   "outputs": [],
   "source": []
  }
 ],
 "metadata": {
  "kernelspec": {
   "display_name": "Python 3",
   "language": "python",
   "name": "python3"
  },
  "language_info": {
   "codemirror_mode": {
    "name": "ipython",
    "version": 3
   },
   "file_extension": ".py",
   "mimetype": "text/x-python",
   "name": "python",
   "nbconvert_exporter": "python",
   "pygments_lexer": "ipython3",
   "version": "3.6.5"
  }
 },
 "nbformat": 4,
 "nbformat_minor": 2
}
