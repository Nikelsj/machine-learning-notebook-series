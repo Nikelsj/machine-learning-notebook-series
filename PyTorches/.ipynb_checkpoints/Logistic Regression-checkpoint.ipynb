{
 "cells": [
  {
   "cell_type": "markdown",
   "metadata": {},
   "source": [
    "### Logistic Regression\n",
    "\n",
    "This is to implement logistic regression based on PyTorch. \n",
    "\n",
    "As the only difference between logistic regression and linear regression is that logistic regression will add a **sigmoid function** based on linear regression to convert output to 0 to 1 represents the `probability of each class`, one thing to notice: logistic regression could just do binary classification, but we could use other solutions to make it to fit on multi-class classification problem. **sigmoid function = 1. / (1. + exp(-x))**. \n",
    "\n",
    "One thing that I recommend: if you just want to make Linear Regression or Logistic Regression, please just use something else module like sklearn if your data isn't very large!R"
   ]
  },
  {
   "cell_type": "code",
   "execution_count": 1,
   "metadata": {},
   "outputs": [],
   "source": [
    "import torch\n",
    "import torch.nn as nn\n",
    "import torch.optim as optim\n",
    "import torch.nn.functional as F\n",
    "import matplotlib.pyplot as plt\n",
    "from matplotlib import style\n",
    "from sklearn.datasets import load_iris\n",
    "from sklearn.model_selection import train_test_split\n",
    "import tempfile\n",
    "import shutil\n",
    "import os\n",
    "\n",
    "style.use(\"ggplot\")"
   ]
  },
  {
   "cell_type": "code",
   "execution_count": 2,
   "metadata": {},
   "outputs": [],
   "source": [
    "# hyper-parameters\n",
    "input_size = 4\n",
    "output_size = 2\n",
    "learning_rate = .01\n",
    "epochs = 500"
   ]
  },
  {
   "cell_type": "code",
   "execution_count": 3,
   "metadata": {},
   "outputs": [],
   "source": [
    "# logistic regression class\n",
    "class LogisticNet(nn.Module):\n",
    "    def __init__(self):\n",
    "        super(LogisticNet, self).__init__()\n",
    "        self.fc = nn.Linear(input_size, output_size)\n",
    "\n",
    "    def forward(self, x):\n",
    "        x = x.float()    # convert to float data type\n",
    "        # x = F.relu(self.fc(x))    # linear combine with features\n",
    "        x = torch.sigmoid(self.fc(x))   # convert linear output to probability\n",
    "        return x"
   ]
  },
  {
   "cell_type": "code",
   "execution_count": 5,
   "metadata": {},
   "outputs": [],
   "source": [
    "# Get data\n",
    "# just use Iris data set as example and get the two classes\n",
    "x, y = load_iris(return_X_y=True)\n",
    "x, y = x[:100], y[:100]\n",
    "\n",
    "# split data to train and test data\n",
    "xtrain, xtest, ytrain, ytest = train_test_split(x, y, test_size=.2, random_state=1234)\n",
    "\n",
    "# convert ndarray to Tensor\n",
    "xtrain = torch.from_numpy(xtrain)\n",
    "xtest = torch.from_numpy(xtest)\n",
    "# here for label we call squeeze_() function to remove the 1D dimension in case\n",
    "# you could reference this for why need this for cross-entropy:\n",
    "# https://stackoverflow.com/questions/49206550/pytorch-error-multi-target-not-supported-in-crossentropyloss\n",
    "ytrain = torch.from_numpy(ytrain).long().squeeze_()    # convert to n * 1 as float type\n",
    "ytest = torch.from_numpy(ytest).long().squeeze_()"
   ]
  },
  {
   "cell_type": "code",
   "execution_count": 6,
   "metadata": {},
   "outputs": [
    {
     "name": "stdout",
     "output_type": "stream",
     "text": [
      "Model Structure:  LogisticNet(\n",
      "  (fc): Linear(in_features=4, out_features=2, bias=True)\n",
      ")\n"
     ]
    }
   ],
   "source": [
    "# as we get data, then we could instance our model\n",
    "model = LogisticNet()\n",
    "print(\"Model Structure: \", model)"
   ]
  },
  {
   "cell_type": "code",
   "execution_count": 7,
   "metadata": {},
   "outputs": [],
   "source": [
    "# then we could instance our training optimizer and evaluation metrics\n",
    "optimizer = optim.Adam(model.parameters(), lr=learning_rate)\n",
    "criterion = nn.CrossEntropyLoss()"
   ]
  },
  {
   "cell_type": "code",
   "execution_count": 8,
   "metadata": {},
   "outputs": [],
   "source": [
    "# store training and testing loss\n",
    "train_loss_list = []\n",
    "test_loss_list = []"
   ]
  },
  {
   "cell_type": "code",
   "execution_count": 9,
   "metadata": {},
   "outputs": [
    {
     "name": "stdout",
     "output_type": "stream",
     "text": [
      "{Epoch: 0, train loss: 0.68, test loss: 0.63}\n",
      "{Epoch: 10, train loss: 0.65, test loss: 0.59}\n",
      "{Epoch: 20, train loss: 0.60, test loss: 0.55}\n",
      "{Epoch: 30, train loss: 0.54, test loss: 0.51}\n",
      "{Epoch: 40, train loss: 0.49, test loss: 0.48}\n",
      "{Epoch: 50, train loss: 0.46, test loss: 0.45}\n",
      "{Epoch: 60, train loss: 0.43, test loss: 0.43}\n",
      "{Epoch: 70, train loss: 0.41, test loss: 0.41}\n",
      "{Epoch: 80, train loss: 0.40, test loss: 0.40}\n",
      "{Epoch: 90, train loss: 0.39, test loss: 0.39}\n",
      "{Epoch: 100, train loss: 0.38, test loss: 0.38}\n",
      "{Epoch: 110, train loss: 0.37, test loss: 0.37}\n",
      "{Epoch: 120, train loss: 0.37, test loss: 0.37}\n",
      "{Epoch: 130, train loss: 0.36, test loss: 0.36}\n",
      "{Epoch: 140, train loss: 0.36, test loss: 0.36}\n",
      "{Epoch: 150, train loss: 0.35, test loss: 0.35}\n",
      "{Epoch: 160, train loss: 0.35, test loss: 0.35}\n",
      "{Epoch: 170, train loss: 0.35, test loss: 0.35}\n",
      "{Epoch: 180, train loss: 0.35, test loss: 0.35}\n",
      "{Epoch: 190, train loss: 0.34, test loss: 0.34}\n",
      "{Epoch: 200, train loss: 0.34, test loss: 0.34}\n",
      "{Epoch: 210, train loss: 0.34, test loss: 0.34}\n",
      "{Epoch: 220, train loss: 0.34, test loss: 0.34}\n",
      "{Epoch: 230, train loss: 0.34, test loss: 0.34}\n",
      "{Epoch: 240, train loss: 0.34, test loss: 0.34}\n",
      "{Epoch: 250, train loss: 0.33, test loss: 0.34}\n",
      "{Epoch: 260, train loss: 0.33, test loss: 0.33}\n",
      "{Epoch: 270, train loss: 0.33, test loss: 0.33}\n",
      "{Epoch: 280, train loss: 0.33, test loss: 0.33}\n",
      "{Epoch: 290, train loss: 0.33, test loss: 0.33}\n",
      "{Epoch: 300, train loss: 0.33, test loss: 0.33}\n",
      "{Epoch: 310, train loss: 0.33, test loss: 0.33}\n",
      "{Epoch: 320, train loss: 0.33, test loss: 0.33}\n",
      "{Epoch: 330, train loss: 0.33, test loss: 0.33}\n",
      "{Epoch: 340, train loss: 0.33, test loss: 0.33}\n",
      "{Epoch: 350, train loss: 0.33, test loss: 0.33}\n",
      "{Epoch: 360, train loss: 0.33, test loss: 0.33}\n",
      "{Epoch: 370, train loss: 0.33, test loss: 0.33}\n",
      "{Epoch: 380, train loss: 0.33, test loss: 0.33}\n",
      "{Epoch: 390, train loss: 0.33, test loss: 0.33}\n",
      "{Epoch: 400, train loss: 0.32, test loss: 0.33}\n",
      "{Epoch: 410, train loss: 0.32, test loss: 0.33}\n",
      "{Epoch: 420, train loss: 0.32, test loss: 0.32}\n",
      "{Epoch: 430, train loss: 0.32, test loss: 0.32}\n",
      "{Epoch: 440, train loss: 0.32, test loss: 0.32}\n",
      "{Epoch: 450, train loss: 0.32, test loss: 0.32}\n",
      "{Epoch: 460, train loss: 0.32, test loss: 0.32}\n",
      "{Epoch: 470, train loss: 0.32, test loss: 0.32}\n",
      "{Epoch: 480, train loss: 0.32, test loss: 0.32}\n",
      "{Epoch: 490, train loss: 0.32, test loss: 0.32}\n"
     ]
    }
   ],
   "source": [
    "# we get whole things we need, then we could start training\n",
    "for epoch in range(epochs):\n",
    "    # get the first pass prediction\n",
    "    pred_train = model(xtrain)\n",
    "\n",
    "    # then get the loss compare with truth data and prediction data\n",
    "    loss_train = criterion(pred_train, ytrain)\n",
    "\n",
    "    # then we could do the backward step to get the whole parameters' gradient\n",
    "    optimizer.zero_grad()\n",
    "    loss_train.backward()\n",
    "\n",
    "    # after get the gradient, we should update our model parameter according to the optimizer change logic\n",
    "    optimizer.step()\n",
    "\n",
    "    # then we could evaluate our trained model on test data to get the loss\n",
    "    # also here we don't need the gradient for test data\n",
    "    with torch.no_grad():\n",
    "        pred_test = model(xtest)\n",
    "        loss_test = criterion(pred_test, ytest)\n",
    "\n",
    "    # get the training loss and test loss\n",
    "    train_loss_list.append(loss_train)\n",
    "    test_loss_list.append(loss_test)\n",
    "\n",
    "    if epoch % 10 == 0:\n",
    "        print(\"{Epoch: %d, train loss: %.2f, test loss: %.2f}\" % (epoch, loss_train, loss_test))\n"
   ]
  },
  {
   "cell_type": "code",
   "execution_count": 12,
   "metadata": {},
   "outputs": [
    {
     "data": {
      "image/png": "[encoded data removed]",
      "text/plain": [
       "<Figure size 432x288 with 1 Axes>"
      ]
     },
     "metadata": {},
     "output_type": "display_data"
    }
   ],
   "source": [
    "# then we could plot the train and test data loss curve\n",
    "plt.plot(range(len(train_loss_list)), train_loss_list, label='training_loss')\n",
    "plt.plot(range(len(test_loss_list)), test_loss_list, label='testing_loss')\n",
    "\n",
    "plt.title(\"Training and testing loss curve\")\n",
    "plt.xlabel(\"Epochs\")\n",
    "plt.ylabel(\"Loss\")\n",
    "plt.grid(True)\n",
    "plt.legend()\n",
    "\n",
    "plt.show()\n",
    "# this is so great the we found that we do make both train and test loss decrease!\n",
    "# also you would find that the loss doesn't change after 300 epochs, that means we converge to local mimimum."
   ]
  },
  {
   "cell_type": "code",
   "execution_count": 13,
   "metadata": {},
   "outputs": [
    {
     "name": "stdout",
     "output_type": "stream",
     "text": [
      "Get model: ['model.ckpt']\n"
     ]
    }
   ],
   "source": [
    "# we could save our trained model checkpoint to disk, here I just save\n",
    "# it to a temperate folder, you could just change the path you want\n",
    "tmp_path = tempfile.mkdtemp()\n",
    "torch.save(model.state_dict(), os.path.join(tmp_path, 'model.ckpt'))\n",
    "print(\"Get model:\", os.listdir(tmp_path))\n",
    "# remove the temperate folder\n",
    "shutil.rmtree(tmp_path)"
   ]
  },
  {
   "cell_type": "code",
   "execution_count": null,
   "metadata": {},
   "outputs": [],
   "source": []
  }
 ],
 "metadata": {
  "kernelspec": {
   "display_name": "Python 3",
   "language": "python",
   "name": "python3"
  },
  "language_info": {
   "codemirror_mode": {
    "name": "ipython",
    "version": 3
   },
   "file_extension": ".py",
   "mimetype": "text/x-python",
   "name": "python",
   "nbconvert_exporter": "python",
   "pygments_lexer": "ipython3",
   "version": "3.6.5"
  }
 },
 "nbformat": 4,
 "nbformat_minor": 2
}
