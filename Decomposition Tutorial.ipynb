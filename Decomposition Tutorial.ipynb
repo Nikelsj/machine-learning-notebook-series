{
 "cells": [
  {
   "cell_type": "markdown",
   "metadata": {},
   "source": [
    "### Dimension Reduction Tutorial\n",
    "\n",
    "What is Dimension reduction and when we should use dimension reduction? In fact if we have too many features supporse you have 1000 features, but you just want to do 2-classes classification problems and you just have 1000 samples, so you will have 1000 rows and 1000 columns of data sample matrix, if you just use Logistic Regression algorithm to fit the model, you will have 1000 weights... so many right? But maybe there are just 10 features will make the decision to classify! so why not we just make the data to be just 10 features means 10 dimensions, so that we could just make the model just to fit on these 10 features. \n",
    "\n",
    "But how could we find the 10 features to represent the 1000 features? this is dimension reduction! in fact, there are many ways to do this, but the most common is PCA, SVD and use deep learning to reduct the dimension of data.\n",
    "These tutorial will just focus on PCA and SVD, if I have time, you will show you the deep learning algorithms..."
   ]
  },
  {
   "cell_type": "code",
   "execution_count": 1,
   "metadata": {},
   "outputs": [],
   "source": [
    "import numpy as np\n",
    "from sklearn.decomposition import PCA, TruncatedSVD\n",
    "from sklearn.linear_model import LogisticRegression\n",
    "import warnings\n",
    "\n",
    "warnings.simplefilter('ignore')\n",
    "\n",
    "# first make some samples datas, rows means samples and columns means features\n",
    "data = np.random.random((1000, 1000))\n",
    "# make sample label with randint from 0 to 2 with 1000 samples\n",
    "label = np.random.randint(0, 2, size=(1000, ))"
   ]
  },
  {
   "cell_type": "code",
   "execution_count": 2,
   "metadata": {},
   "outputs": [
    {
     "name": "stdout",
     "output_type": "stream",
     "text": [
      "original data shape: (1000, 1000)\n",
      "Unique label:  [0 1]\n",
      "model score:  1.0\n",
      "model weights shape:  (1, 1000)\n"
     ]
    }
   ],
   "source": [
    "print('original data shape:', data.shape)\n",
    "print(\"Unique label: \", np.unique(label))\n",
    "\n",
    "# as we have data and label, so we could fit the model with logistic regression\n",
    "lr = LogisticRegression()\n",
    "\n",
    "lr.fit(data, label)\n",
    "\n",
    "# the model score on the whole data, the model fitting step is not important here, I just want to show you the weights!\n",
    "print(\"model score: \", lr.score(data, label))\n",
    "\n",
    "# lr.coef_ is the weights after fit the model\n",
    "# you could see that the weights have 1000D\n",
    "print(\"model weights shape: \", lr.coef_.shape)"
   ]
  },
  {
   "cell_type": "code",
   "execution_count": 3,
   "metadata": {},
   "outputs": [
    {
     "name": "stdout",
     "output_type": "stream",
     "text": [
      "PCA paramaters:  {'copy': True, 'iterated_power': 'auto', 'n_components': 10, 'random_state': None, 'svd_solver': 'auto', 'tol': 0.0, 'whiten': False}\n",
      "new data shape: (1000, 10)\n",
      "new data score: 0.535\n",
      "new data fitted on lr weights' shape:  (1, 10)\n",
      "new data lr weights:  [[-0.00307752 -0.02038235 -0.12726397 -0.0713661  -0.10436164 -0.05740923\n",
      "   0.04759382  0.03613644 -0.19775737  0.0008349 ]]\n"
     ]
    }
   ],
   "source": [
    "# here we use PCA to make the data to lower dimension\n",
    "# the most important parameter for PCA is `n_components` means how many dimensions that you want your new data to be.\n",
    "pca = PCA(n_components=10)\n",
    "print(\"PCA paramaters: \", pca.get_params())\n",
    "\n",
    "# fit the model\n",
    "pca.fit(data)\n",
    "\n",
    "# convert original data to new data\n",
    "new_data = pca.transform(data)\n",
    "\n",
    "print(\"new data shape:\", new_data.shape)\n",
    "\n",
    "lr.fit(new_data, label)\n",
    "\n",
    "print(\"new data score:\", lr.score(new_data, label))\n",
    "\n",
    "# this is the more important thing, new data fitted model weights shape!\n",
    "# as you can see that for the new data, the weights is just 10!\n",
    "# but the model accuracy is lower than before, so we should choose how many dimension that you should use during the work!\n",
    "print(\"new data fitted on lr weights' shape: \", lr.coef_.shape)\n",
    "print(\"new data lr weights: \", lr.coef_)\n"
   ]
  },
  {
   "cell_type": "code",
   "execution_count": 4,
   "metadata": {},
   "outputs": [],
   "source": [
    "# here I just show you that with different dimension, we will have different accuracy score!\n",
    "score_list = []\n",
    "# what dimensions we want to choose\n",
    "components_list = [10, 20, 50, 100, 200, 500]\n",
    "for c in components_list:\n",
    "    pca.n_components = c\n",
    "    pca.fit(data)\n",
    "    pca_data = pca.transform(data)\n",
    "    lr.fit(pca_data, label)\n",
    "    score_list.append(lr.score(pca_data, label))\n",
    "    \n"
   ]
  },
  {
   "cell_type": "code",
   "execution_count": 12,
   "metadata": {},
   "outputs": [
    {
     "data": {
      "image/png": "[encoded data removed]",
      "text/plain": [
       "<Figure size 432x288 with 1 Axes>"
      ]
     },
     "metadata": {},
     "output_type": "display_data"
    }
   ],
   "source": [
    "# after we have fit the model, then we would plot the score\n",
    "import matplotlib.pyplot as plt\n",
    "\n",
    "plt.scatter(components_list, score_list)\n",
    "plt.title(\"different components score\")\n",
    "plt.show()"
   ]
  },
  {
   "cell_type": "markdown",
   "metadata": {},
   "source": [
    "**One important thing**\n",
    "\n",
    "In fact, we couldn't find the best components by using the model fitted than to get model test score! PCA uses the variance to judge how much information in data, so the real use case is use the variance_ratio to find the best components numbers. I will show you."
   ]
  },
  {
   "cell_type": "code",
   "execution_count": 11,
   "metadata": {},
   "outputs": [
    {
     "data": {
      "image/png": "[encoded data removed]",
      "text/plain": [
       "<Figure size 432x288 with 1 Axes>"
      ]
     },
     "metadata": {},
     "output_type": "display_data"
    }
   ],
   "source": [
    "# to find the best components, we should make a new PCA object without setting n_components\n",
    "pca = PCA()\n",
    "\n",
    "# then just fit the data\n",
    "pca.fit(data)\n",
    "\n",
    "# the most important thing is to get the ratio list\n",
    "variance_ratio_list = pca.explained_variance_ratio_\n",
    "\n",
    "# as there are so many features, here I just choose first 30 components to show you,\n",
    "# we have the plot, how many components we choose? For this plot, maybe 10 is better?\n",
    "# this data made by myself, real data is really mass, so the curve shouldn't like this.\n",
    "plt.plot(range(len(variance_ratio_list))[:30], variance_ratio_list[:30])\n",
    "plt.show()"
   ]
  },
  {
   "cell_type": "markdown",
   "metadata": {},
   "source": [
    "#### Tips:\n",
    "As we can see that with different components, we do have different score, but here I just show the case, in the real life, we should use other technology to choose how many dimension we should choose, there is a trade-off between accuracy and inference time(as you have more weights, you have to do more computation and will be slower!) You should know this!\n",
    "\n",
    "But we have do more is just to make the model more accurate for most case, in fact in big company, there should be like what I have said!\n",
    "\n",
    "**Important thing**:\n",
    "\n",
    "The PCA has some benifits, you should remember these!!!\n",
    "\n",
    "1. reduce the data dimension to be lower, then you could get more variance data, so model could focus on important parts not on the unrelated features.\n",
    "2. we could plot the high dimension data with PCA like to make the data to be 2D that we could plot.\n",
    "3. reduce some noise feature influence the model training parts.\n"
   ]
  },
  {
   "cell_type": "code",
   "execution_count": 13,
   "metadata": {},
   "outputs": [
    {
     "name": "stdout",
     "output_type": "stream",
     "text": [
      "data shape: (150, 4)\n",
      "new data shape: (150, 2)\n"
     ]
    },
    {
     "data": {
      "image/png": "[encoded data removed]",
      "text/plain": [
       "<Figure size 432x288 with 1 Axes>"
      ]
     },
     "metadata": {},
     "output_type": "display_data"
    }
   ],
   "source": [
    "# here I show you that with PCA we could plot the data\n",
    "from sklearn.datasets import load_iris\n",
    "\n",
    "x, y = load_iris(return_X_y=True)\n",
    "\n",
    "# you should know that iris data is 4D\n",
    "print(\"data shape:\", x.shape)\n",
    "\n",
    "pca = PCA(n_components=2)\n",
    "# we could even just use `fit_transform` to make the data to be 2D\n",
    "x_new = pca.fit_transform(x)\n",
    "\n",
    "print(\"new data shape:\", x_new.shape)\n",
    "\n",
    "# plot diference class with PCA result\n",
    "uni_label = np.unique(y)\n",
    "\n",
    "for i in range(len(uni_label)):\n",
    "    plt.scatter(x_new[y==i, 0], x_new[y==i, 1], label='class_' + str(i))\n",
    "\n",
    "plt.legend()\n",
    "\n",
    "plt.show()"
   ]
  },
  {
   "cell_type": "code",
   "execution_count": 14,
   "metadata": {},
   "outputs": [
    {
     "name": "stdout",
     "output_type": "stream",
     "text": [
      "data shape: (150, 4)\n",
      "new data shape: (150, 2)\n"
     ]
    },
    {
     "data": {
      "image/png": "[encoded data removed]",
      "text/plain": [
       "<Figure size 432x288 with 1 Axes>"
      ]
     },
     "metadata": {},
     "output_type": "display_data"
    }
   ],
   "source": [
    "# PCA use many times in real life, but here I show you with another dimension reduction technology with SVD\n",
    "\n",
    "from sklearn.datasets import load_iris\n",
    "\n",
    "x, y = load_iris(return_X_y=True)\n",
    "\n",
    "# you should know that iris data is 4D\n",
    "print(\"data shape:\", x.shape)\n",
    "\n",
    "svd = TruncatedSVD(n_components=2)\n",
    "# we could even just use `fit_transform` to make the data to be 2D\n",
    "x_new = svd.fit_transform(x)\n",
    "\n",
    "print(\"new data shape:\", x_new.shape)\n",
    "\n",
    "# plot diference class with TruncatedSVD result\n",
    "uni_label = np.unique(y)\n",
    "\n",
    "for i in range(len(uni_label)):\n",
    "    plt.scatter(x_new[y==i, 0], x_new[y==i, 1], label='class_' + str(i))\n",
    "\n",
    "plt.legend()\n",
    "\n",
    "plt.show()"
   ]
  },
  {
   "cell_type": "markdown",
   "metadata": {},
   "source": [
    "You could see that both PCA and SVD will make the data to be lower dimension, but they will make the data to be different position like the plot show. But both solutions make the same class to be closer to each other, right? This is the powerful parts of dimension reduction!\n",
    "\n",
    "### Final words\n",
    "\n",
    "I have showed you that for the both parts for dimension reduction, after you have finished the whole parts, if you have any questions, just take a note and if I have time, I will explain to you!\n",
    "\n",
    "You have noticed that for writing the code implement something is really easy, but the most important part is to know how these work? If you have time, you could search with GOOGLE with `PCA tutorial` something like that key words to find some more useful info that you could use. I really recommend you should take actions to read some english web that after you continue using english web, then one day you will find that it isn't so hard than you have ever thought just like me!"
   ]
  },
  {
   "cell_type": "code",
   "execution_count": null,
   "metadata": {},
   "outputs": [],
   "source": []
  },
  {
   "cell_type": "code",
   "execution_count": null,
   "metadata": {},
   "outputs": [],
   "source": []
  },
  {
   "cell_type": "code",
   "execution_count": null,
   "metadata": {},
   "outputs": [],
   "source": []
  },
  {
   "cell_type": "code",
   "execution_count": null,
   "metadata": {},
   "outputs": [],
   "source": []
  }
 ],
 "metadata": {
  "kernelspec": {
   "display_name": "Python 3",
   "language": "python",
   "name": "python3"
  },
  "language_info": {
   "codemirror_mode": {
    "name": "ipython",
    "version": 3
   },
   "file_extension": ".py",
   "mimetype": "text/x-python",
   "name": "python",
   "nbconvert_exporter": "python",
   "pygments_lexer": "ipython3",
   "version": "3.6.5"
  }
 },
 "nbformat": 4,
 "nbformat_minor": 2
}
