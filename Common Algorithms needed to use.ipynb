{
 "cells": [
  {
   "cell_type": "markdown",
   "metadata": {},
   "source": [
    "### Common algorithms tutorial\n",
    "\n",
    "As data are provided and you have processed data with preprocessing step like standard, MinMaxScaler, etc. steps to make data that could be used to train your model, so next thing should be considerred is that which algorithms that you should use? As there are really many algorithms for each question! You should just try some common algorirthms first!\n",
    "\n",
    "Here I just come up with some common algorithms that I would use for training the model, in fact, this tutorial is used to make you know what algorithms that you could or should use first, the logic of each algorithm I will teach you when I have time!\n",
    "\n",
    "One thing to notice that for writing the code is not the most difficult part, the logic and inherent logic of each algorithm is hardest! But you know what? most people don't know the how each algorithm works, they just use it! so don't worry about the math, I will teach you!\n",
    "\n",
    "This tutorial will focus on both **classification, regression and clustering** problems, this is just your plan for this month! You should implement with bellow tutorial to be familar with these algorithms!\n",
    "\n",
    "Here I List the common algorithms for each problem(You will notice that for both classification and regression, some algorithms could be both used!):\n",
    "\n",
    "**Classification**\n",
    "    \n",
    "1. Logistic Regression\n",
    "2. Decision Tree\n",
    "3. KNN\n",
    "4. Random Forest\n",
    "5. Gradient Boosting Tree\n",
    "6. SVM(support vector classifier)\n",
    "7. Adaboost\n",
    "\n",
    "**Regression**\n",
    "\n",
    "1. Linear Regression\n",
    "2. SVR(support vector regression)\n",
    "3. Decision Tree regression\n",
    "4. KNN regression\n",
    "5. Random Forest regression\n",
    "6. Gradient boosting tree regression\n",
    "\n",
    "**Clustering**\n",
    "\n",
    "1. KMeans\n",
    "\n",
    "Here we start!"
   ]
  },
  {
   "cell_type": "code",
   "execution_count": 59,
   "metadata": {},
   "outputs": [],
   "source": [
    "# import modules\n",
    "import numpy as np\n",
    "import pandas as pd\n",
    "import warnings\n",
    "import matplotlib.pyplot as plt\n",
    "from sklearn.datasets import load_digits\n",
    "\n",
    "# this is the algirithms that we could use for classification, regression, clustering!\n",
    "from sklearn.linear_model import LogisticRegression, LinearRegression\n",
    "from sklearn.svm import SVC, SVR\n",
    "from sklearn.neighbors import KNeighborsClassifier, KNeighborsRegressor\n",
    "from sklearn.tree import DecisionTreeClassifier, DecisionTreeRegressor\n",
    "from sklearn.ensemble import RandomForestClassifier, RandomForestRegressor\n",
    "from sklearn.ensemble import GradientBoostingClassifier, GradientBoostingRegressor\n",
    "from sklearn.ensemble import AdaBoostClassifier\n",
    "from sklearn.cluster import KMeans\n",
    "\n",
    "# preprocessing\n",
    "from sklearn.preprocessing import StandardScaler, MinMaxScaler, PolynomialFeatures\n",
    "\n",
    "# decomposition\n",
    "from sklearn.decomposition import PCA\n",
    "\n",
    "# for model selection\n",
    "from sklearn.model_selection import train_test_split, GridSearchCV\n",
    "# to make pipeline\n",
    "from sklearn.pipeline import make_pipeline\n",
    "# to evaluate our model\n",
    "from sklearn import metrics\n",
    "\n",
    "warnings.simplefilter('ignore')"
   ]
  },
  {
   "cell_type": "markdown",
   "metadata": {},
   "source": [
    "#### Classification problem"
   ]
  },
  {
   "cell_type": "code",
   "execution_count": 13,
   "metadata": {},
   "outputs": [
    {
     "name": "stdout",
     "output_type": "stream",
     "text": [
      "How many samples: 1797\n",
      "How many unique labels: 10 \n",
      "Unique label list: [0 1 2 3 4 5 6 7 8 9]\n",
      "Data shape:  (1797, 64)\n"
     ]
    }
   ],
   "source": [
    "# Here I just use the digits data sets with sklearn\n",
    "# One thing you should notice is that what the most important part is how to use each algorithm\n",
    "# for data set is really easy to load! Just with pandas\n",
    "x, y = load_digits(return_X_y=True)\n",
    "\n",
    "# get info of data\n",
    "print(\"How many samples: %d\" % len(x))\n",
    "print(\"How many unique labels: %d \" % len(np.unique(y)))\n",
    "print(\"Unique label list:\", np.unique(y))\n",
    "print(\"Data shape: \", x.shape)\n",
    "\n",
    "# as you could see that what we need to do is just to make a classifier \n",
    "# to inference a new data with 64 Dimension for each label it belongs to!"
   ]
  },
  {
   "cell_type": "code",
   "execution_count": 12,
   "metadata": {},
   "outputs": [
    {
     "data": {
      "image/png": "[encoded data removed]",
      "text/plain": [
       "<Figure size 432x288 with 1 Axes>"
      ]
     },
     "metadata": {},
     "output_type": "display_data"
    }
   ],
   "source": [
    "# Here I just sample one data to show you want data we have\n",
    "sample_data = x[0]\n",
    "sample_label = y[0]\n",
    "\n",
    "plt.imshow(sample_data.reshape(8, 8))\n",
    "plt.title(\"image belongs to %d \" % sample_label)\n",
    "\n",
    "plt.show()"
   ]
  },
  {
   "cell_type": "code",
   "execution_count": 21,
   "metadata": {},
   "outputs": [],
   "source": [
    "# as the data is really easy to classifier, so here just add some noise[gaussian noise] to the data\n",
    "# Gaussian noise with mean 3, standard diviation 4\n",
    "x = x + np.random.normal(loc=3, scale=4, size=x.shape)"
   ]
  },
  {
   "cell_type": "code",
   "execution_count": 22,
   "metadata": {},
   "outputs": [
    {
     "data": {
      "image/png": "[encoded data removed]",
      "text/plain": [
       "<Figure size 432x288 with 1 Axes>"
      ]
     },
     "metadata": {},
     "output_type": "display_data"
    }
   ],
   "source": [
    "# you would wonder, after add the noise, what data becomes for new?\n",
    "sample_data_new = x[0]\n",
    "\n",
    "plt.imshow(sample_data_new.reshape(8, 8))\n",
    "plt.title(\"New sample belongs also to %d\" % sample_label)\n",
    "\n",
    "plt.show()\n",
    "\n",
    "# you see? not as good enough as before, right? Not easy for us also for machine learning"
   ]
  },
  {
   "cell_type": "code",
   "execution_count": 23,
   "metadata": {},
   "outputs": [],
   "source": [
    "# first thing we should split the data to train and test data\n",
    "xtrain, xtest, ytrain, ytest = train_test_split(x, y, test_size=.2, random_state=1234)"
   ]
  },
  {
   "cell_type": "code",
   "execution_count": 29,
   "metadata": {},
   "outputs": [
    {
     "name": "stdout",
     "output_type": "stream",
     "text": [
      "Baseline model accuracy:  0.8277777777777777\n"
     ]
    }
   ],
   "source": [
    "# with easy model to build baseline\n",
    "# you should remember what is *baseline*! baseline is just means that if we use \n",
    "# machine learning, how much accuracy that we could get\n",
    "\n",
    "# Here I just make logistic regression without parameters choosen as baseline\n",
    "lr = LogisticRegression()\n",
    "\n",
    "# fit model\n",
    "lr.fit(xtrain, ytrain)\n",
    "\n",
    "# get the predictioni\n",
    "pred_lr = lr.predict(xtest)\n",
    "\n",
    "base_score = metrics.accuracy_score(ytest, pred_lr)\n",
    "# you see, the baseline is just 83% accuracy\n",
    "print(\"Baseline model accuracy: \", metrics.accuracy_score(ytest, pred_lr))"
   ]
  },
  {
   "cell_type": "code",
   "execution_count": 42,
   "metadata": {},
   "outputs": [],
   "source": [
    "# here I just make the helper function to evaluate the model\n",
    "def evaluate_estimator(name, score):\n",
    "    # how much improvement compare with baseline\n",
    "    impro_ratio = (score - base_score) / base_score * 100\n",
    "    \n",
    "    print(\"For model %s, accuracy score: %.2f, with improment %.2f %s.\" % (name, score, impro_ratio, \"%\"))"
   ]
  },
  {
   "cell_type": "markdown",
   "metadata": {},
   "source": [
    "#### SVC"
   ]
  },
  {
   "cell_type": "code",
   "execution_count": 43,
   "metadata": {},
   "outputs": [
    {
     "name": "stdout",
     "output_type": "stream",
     "text": [
      "Accuracy for SVC:  0.07777777777777778\n",
      "For model SVC, accuracy score: 0.08, with improment -90.60 %.\n"
     ]
    }
   ],
   "source": [
    "clf = SVC()\n",
    "\n",
    "clf.fit(xtrain, ytrain)\n",
    "\n",
    "pred_clf = clf.predict(xtest)\n",
    "\n",
    "score_clf = metrics.accuracy_score(ytest, pred_clf)\n",
    "# for svm, the most powful machine leaning algrithm, the accuracy is just 7%? kidding? but how this happen?\n",
    "print(\"Accuracy for SVC: \", metrics.accuracy_score(ytest, pred_clf))\n",
    "\n",
    "evaluate_estimator(clf.__class__.__name__, score_clf)"
   ]
  },
  {
   "cell_type": "code",
   "execution_count": 44,
   "metadata": {},
   "outputs": [
    {
     "name": "stdout",
     "output_type": "stream",
     "text": [
      "Accuracy for SVC new: 0.9\n",
      "For model SVC, accuracy score: 0.90, with improment 8.72 %.\n"
     ]
    }
   ],
   "source": [
    "# in fact, the reason for svm, accuracy is so low is that svm suppose the data should be standard[Guassian!]\n",
    "# so here I just make data to be standard!\n",
    "\n",
    "scaler = StandardScaler(with_mean=True, with_std=True)\n",
    "scaler.fit(xtrain)\n",
    "\n",
    "xtrain_scaler = scaler.transform(xtrain)\n",
    "# you have to transform test data according train data!\n",
    "xtest_scaler = scaler.transform(xtest)\n",
    "\n",
    "# refit svm\n",
    "clf.fit(xtrain_scaler, ytrain)\n",
    "\n",
    "pred_clf_new = clf.predict(xtest_scaler)\n",
    "\n",
    "score_clf_new = metrics.accuracy_score(ytest, pred_clf_new)\n",
    "# you see? the accuracy is 90%!!! so great! do you feel the preprossing is really important right?\n",
    "print(\"Accuracy for SVC new:\", clf.score(xtest_scaler, ytest))\n",
    "\n",
    "# we do improve the model result!\n",
    "evaluate_estimator(clf.__class__.__name__, score_clf_new)"
   ]
  },
  {
   "cell_type": "markdown",
   "metadata": {},
   "source": [
    "#### KNN"
   ]
  },
  {
   "cell_type": "code",
   "execution_count": 45,
   "metadata": {},
   "outputs": [
    {
     "name": "stdout",
     "output_type": "stream",
     "text": [
      "For model KNeighborsClassifier, accuracy score: 0.90, with improment 8.72 %.\n"
     ]
    }
   ],
   "source": [
    "knn = KNeighborsClassifier(n_neighbors=5)\n",
    "\n",
    "knn.fit(xtrain, ytrain)\n",
    "\n",
    "pred_knn = knn.predict(xtest)\n",
    "\n",
    "score_knn = metrics.accuracy_score(ytest, pred_knn)\n",
    "\n",
    "# for knn, we also get 90% accuracy, so good!\n",
    "evaluate_estimator(knn.__class__.__name__, score_knn)"
   ]
  },
  {
   "cell_type": "code",
   "execution_count": 47,
   "metadata": {},
   "outputs": [
    {
     "name": "stdout",
     "output_type": "stream",
     "text": [
      "Get best parameter:  {'n_neighbors': 20}\n",
      "For model KNeighborsClassifier, accuracy score: 0.90, with improment 8.39 %.\n"
     ]
    }
   ],
   "source": [
    "# Here I just make grid search to find the best parameter: n_neighbors\n",
    "param_grid = {\"n_neighbors\":[3, 5, 9, 10, 20]}\n",
    "\n",
    "grid = GridSearchCV(estimator=knn, param_grid=param_grid, cv=10)\n",
    "\n",
    "# fit the grid with cross-validation\n",
    "grid.fit(xtrain, ytrain)\n",
    "\n",
    "# get the best estimator\n",
    "knn_best = grid.best_estimator_\n",
    "\n",
    "print(\"Get best parameter: \", grid.best_params_)\n",
    "\n",
    "pred_knn_grid = knn_best.predict(xtest)\n",
    "\n",
    "score_knn_grid = metrics.accuracy_score(ytest, pred_knn_grid)\n",
    "\n",
    "# even if we use grid search to find the best parameter, we still get 90% accuracy, so I stop to try with KNN\n",
    "evaluate_estimator(knn.__class__.__name__, score_knn_grid)"
   ]
  },
  {
   "cell_type": "markdown",
   "metadata": {},
   "source": [
    "#### Random Forest"
   ]
  },
  {
   "cell_type": "code",
   "execution_count": 48,
   "metadata": {},
   "outputs": [
    {
     "name": "stdout",
     "output_type": "stream",
     "text": [
      "For model RandomForestClassifier, accuracy score: 0.78, with improment -6.04 %.\n"
     ]
    }
   ],
   "source": [
    "rfc = RandomForestClassifier()\n",
    "\n",
    "rfc.fit(xtrain, ytrain)\n",
    "\n",
    "pred_rfc = rfc.predict(xtest)\n",
    "\n",
    "score_rfc = metrics.accuracy_score(ytest, pred_rfc)\n",
    "\n",
    "# you see? even the ensemble great model random forest, we don't get much improment! not good than baseline!\n",
    "# one thing to notice that the data is changed by myself, in fact for real data, random forest is really algorithm that\n",
    "# should try!\n",
    "evaluate_estimator(rfc.__class__.__name__, score_rfc)"
   ]
  },
  {
   "cell_type": "code",
   "execution_count": 51,
   "metadata": {},
   "outputs": [
    {
     "name": "stdout",
     "output_type": "stream",
     "text": [
      "Get best parameter:  {'n_estimators': 300}\n",
      "For model RandomForestClassifier, accuracy score: 0.90, with improment 8.72 %.\n"
     ]
    }
   ],
   "source": [
    "# I just want to tune the n_estimator parameter for random forest\n",
    "param_grid = {\"n_estimators\": [10, 30, 50, 100, 200, 300]}\n",
    "\n",
    "grid = GridSearchCV(estimator=rfc, param_grid = param_grid, cv=10)\n",
    "\n",
    "grid.fit(xtrain, ytrain)\n",
    "\n",
    "rfc_best = grid.best_estimator_\n",
    "print(\"Get best parameter: \", grid.best_params_)\n",
    "\n",
    "pred_rfc_grid = rfc_best.predict(xtest)\n",
    "\n",
    "score_rfc_grid = metrics.accuracy_score(ytest, pred_rfc_grid)\n",
    "\n",
    "# you see? even if we use random forest, we still improve the model accuracy to 90%! with parameter chosen!\n",
    "evaluate_estimator(rfc_best.__class__.__name__, score_rfc_grid)"
   ]
  },
  {
   "cell_type": "markdown",
   "metadata": {},
   "source": [
    "#### Gradient boosting Tree"
   ]
  },
  {
   "cell_type": "code",
   "execution_count": 53,
   "metadata": {},
   "outputs": [
    {
     "name": "stdout",
     "output_type": "stream",
     "text": [
      "For model GradientBoostingClassifier, accuracy score: 0.84, with improment 1.68 %.\n"
     ]
    }
   ],
   "source": [
    "gbc = GradientBoostingClassifier()\n",
    "\n",
    "gbc.fit(xtrain, ytrain)\n",
    "\n",
    "pred_gbc = gbc.predict(xtest)\n",
    "\n",
    "score_gbc = metrics.accuracy_score(ytest, pred_gbc)\n",
    "\n",
    "# enha, with just default with improment 1.68%\n",
    "evaluate_estimator(gbc.__class__.__name__, score_gbc)"
   ]
  },
  {
   "cell_type": "markdown",
   "metadata": {},
   "source": [
    "#### Adaboost"
   ]
  },
  {
   "cell_type": "code",
   "execution_count": 60,
   "metadata": {},
   "outputs": [
    {
     "name": "stdout",
     "output_type": "stream",
     "text": [
      "For model AdaBoostClassifier, accuracy score: 0.71, with improment -14.43 %.\n"
     ]
    }
   ],
   "source": [
    "abc = AdaBoostClassifier()\n",
    "\n",
    "abc.fit(xtrain, ytrain)\n",
    "\n",
    "pred_abc = abc.predict(xtest)\n",
    "\n",
    "score_abc = metrics.accuracy_score(ytest, pred_abc)\n",
    "\n",
    "# even the adaboost is also an ensemble algorithm, not too good...\n",
    "evaluate_estimator(abc.__class__.__name__, score_abc)"
   ]
  },
  {
   "cell_type": "markdown",
   "metadata": {},
   "source": [
    "#### Decision Tree"
   ]
  },
  {
   "cell_type": "code",
   "execution_count": 62,
   "metadata": {},
   "outputs": [
    {
     "name": "stdout",
     "output_type": "stream",
     "text": [
      "For model AdaBoostClassifier, accuracy score: 0.71, with improment -14.43 %.\n"
     ]
    }
   ],
   "source": [
    "dtc = DecisionTreeClassifier()\n",
    "\n",
    "dtc.fit(xtrain, ytrain)\n",
    "\n",
    "pred_dtc = dtc.predict(xtest)\n",
    "\n",
    "score_dtc = metrics.accuracy_score(ytest, pred_abc)\n",
    "\n",
    "# decision tree not work well on this dataset!\n",
    "evaluate_estimator(abc.__class__.__name__, score_dtc)"
   ]
  },
  {
   "cell_type": "markdown",
   "metadata": {},
   "source": [
    "### Important thing to notice\n",
    "\n",
    "As here I just work with some sample datasets, also I add some noise to the data that make some algorithms not work well on this dataset, but in real life, there isn't one alogrithm could beat whole other algorithms!!!\n",
    "\n",
    "So that we have to try many algorithms to find which algorithms do well on the dataset you are given! \n",
    "\n",
    "Here I just list some really common algorithm that could be used in real work life! One thing to notice that in fact I don't try many preprocessing step aka feature engineering step, but the feature engineering is the most important part! You should remember that!"
   ]
  },
  {
   "cell_type": "markdown",
   "metadata": {},
   "source": [
    "### Regression problem"
   ]
  },
  {
   "cell_type": "code",
   "execution_count": 65,
   "metadata": {},
   "outputs": [
    {
     "name": "stdout",
     "output_type": "stream",
     "text": [
      "Data shape:  (506, 13)\n"
     ]
    }
   ],
   "source": [
    "# here I just make the boston house price sample data\n",
    "from sklearn.datasets import load_boston\n",
    "\n",
    "x, y = load_boston(return_X_y=True)\n",
    "\n",
    "# get data info\n",
    "print(\"Data shape: \", x.shape)"
   ]
  },
  {
   "cell_type": "code",
   "execution_count": 66,
   "metadata": {},
   "outputs": [
    {
     "data": {
      "image/png": "[encoded data removed]",
      "text/plain": [
       "<Figure size 432x288 with 1 Axes>"
      ]
     },
     "metadata": {},
     "output_type": "display_data"
    }
   ],
   "source": [
    "# plot the label to get insight what regression problem that we need to fit\n",
    "plt.plot(y)\n",
    "plt.title(\"Boston house price\")\n",
    "\n",
    "# you see? maybe there is some trends in the data\n",
    "plt.show()"
   ]
  },
  {
   "cell_type": "code",
   "execution_count": 68,
   "metadata": {},
   "outputs": [],
   "source": [
    "# we should split data to train and test data\n",
    "# we couldn't use random_split to get train and data,\n",
    "# as we need to make train data to start from the really beginner to some position\n",
    "# test data will start that position to the end\n",
    "\n",
    "# I just want to make the train data from 0 to 480, you could change that\n",
    "position = 480\n",
    "\n",
    "xtrain, ytrain = x[:position], y[:position ]\n",
    "xtest, ytest = x[position: ], y[position: ]"
   ]
  },
  {
   "cell_type": "code",
   "execution_count": 71,
   "metadata": {},
   "outputs": [
    {
     "name": "stdout",
     "output_type": "stream",
     "text": [
      "Baseline RMSE:  3.8617839951801156\n"
     ]
    }
   ],
   "source": [
    "# first make baseline score\n",
    "# here just use Linear regression\n",
    "lr = LinearRegression()\n",
    "\n",
    "# start to fit model\n",
    "lr.fit(xtrain, ytrain)\n",
    "\n",
    "pred_lr = lr.predict(xtest)\n",
    "\n",
    "rmse_base = np.sqrt(metrics.mean_squared_error(ytest, pred_lr))\n",
    "\n",
    "print(\"Baseline RMSE: \", rmse_base)"
   ]
  },
  {
   "cell_type": "code",
   "execution_count": 78,
   "metadata": {},
   "outputs": [],
   "source": [
    "# here I just use *root mean sqaure error* function to evaluate the model\n",
    "def evaluate_reg(estimator, pred):\n",
    "    est_name = estimator.__class__.__name__\n",
    "    rsme = np.sqrt(metrics.mean_squared_error(ytest, pred))\n",
    "    imp_ratio = (rmse_base - rsme) / rsme\n",
    "    print(\"For estimator: %s, Root mean sqaure error is %.2f, with improment: %.2f\" % (est_name, rsme, imp_ratio))"
   ]
  },
  {
   "cell_type": "markdown",
   "metadata": {},
   "source": [
    "#### KNN regression"
   ]
  },
  {
   "cell_type": "code",
   "execution_count": 79,
   "metadata": {},
   "outputs": [
    {
     "name": "stdout",
     "output_type": "stream",
     "text": [
      "For estimator: KNeighborsRegressor, Root mean sqaure error is 4.79, with improment: -0.19\n"
     ]
    }
   ],
   "source": [
    "knn_re = KNeighborsRegressor()\n",
    "\n",
    "knn_re.fit(xtrain, ytrain)\n",
    "\n",
    "pred_knn = knn_re.predict(xtest)\n",
    "\n",
    "# with KNN regression, not too good...\n",
    "evaluate_reg(knn_re, pred_knn)"
   ]
  },
  {
   "cell_type": "code",
   "execution_count": 84,
   "metadata": {},
   "outputs": [
    {
     "name": "stdout",
     "output_type": "stream",
     "text": [
      "Get best parameter:  {'n_neighbors': 20}\n",
      "For estimator: KNeighborsRegressor, Root mean sqaure error is 5.05, with improment: -0.23\n"
     ]
    }
   ],
   "source": [
    "param_grid = {\"n_neighbors\":[3, 5, 10, 20, 40, ]}\n",
    "\n",
    "grid = GridSearchCV(estimator=knn_re, param_grid=param_grid, cv=10)\n",
    "\n",
    "grid.fit(xtrain, ytrain)\n",
    "\n",
    "knn_re_best = grid.best_estimator_\n",
    "print(\"Get best parameter: \", grid.best_params_)\n",
    "\n",
    "pred_knn_grid = knn_re_best.predict(xtest)\n",
    "\n",
    "# even with grid seach, without any improment\n",
    "evaluate_reg(knn_re_best, pred_knn_grid)"
   ]
  },
  {
   "cell_type": "markdown",
   "metadata": {},
   "source": [
    "#### Random Forest Regression"
   ]
  },
  {
   "cell_type": "code",
   "execution_count": 85,
   "metadata": {},
   "outputs": [
    {
     "name": "stdout",
     "output_type": "stream",
     "text": [
      "For estimator: RandomForestRegressor, Root mean sqaure error is 4.62, with improment: -0.16\n"
     ]
    }
   ],
   "source": [
    "rfr = RandomForestRegressor()\n",
    "\n",
    "rfr.fit(xtrain, ytrain)\n",
    "\n",
    "pred_rfr = rfr.predict(xtest)\n",
    "\n",
    "# with random forest regression, not improvement!\n",
    "evaluate_reg(rfr, pred_rfr)"
   ]
  },
  {
   "cell_type": "code",
   "execution_count": 86,
   "metadata": {},
   "outputs": [
    {
     "name": "stdout",
     "output_type": "stream",
     "text": [
      "Get best parameter: {'n_estimators': 250}\n",
      "For estimator: RandomForestRegressor, Root mean sqaure error is 4.51, with improment: -0.14\n"
     ]
    }
   ],
   "source": [
    "# if you find that your code take much time!, you shouldn't make too many parameter to try\n",
    "param_grid = {\"n_estimators\": [10, 50, 100, 200, 250]}\n",
    "\n",
    "grid = GridSearchCV(estimator=rfr, param_grid=param_grid, cv=10)\n",
    "\n",
    "grid.fit(xtrain, ytrain)\n",
    "\n",
    "rfr_best = grid.best_estimator_\n",
    "print(\"Get best parameter:\", grid.best_params_)\n",
    "\n",
    "pred_rfr_grid = grid.predict(xtest)\n",
    "\n",
    "# even with grid seach, not improment!\n",
    "evaluate_reg(rfr_best, pred_rfr_grid)"
   ]
  },
  {
   "cell_type": "markdown",
   "metadata": {},
   "source": [
    "#### Gradient boosting regression"
   ]
  },
  {
   "cell_type": "code",
   "execution_count": 87,
   "metadata": {},
   "outputs": [
    {
     "name": "stdout",
     "output_type": "stream",
     "text": [
      "For estimator: GradientBoostingRegressor, Root mean sqaure error is 4.21, with improment: -0.08\n"
     ]
    }
   ],
   "source": [
    "gbr = GradientBoostingRegressor()\n",
    "\n",
    "gbr.fit(xtrain, ytrain)\n",
    "\n",
    "pred_gbr = gbr.predict(xtest)\n",
    "\n",
    "# not too good\n",
    "evaluate_reg(gbr, pred_gbr)"
   ]
  },
  {
   "cell_type": "markdown",
   "metadata": {},
   "source": [
    "#### Decision Tree regression"
   ]
  },
  {
   "cell_type": "code",
   "execution_count": 88,
   "metadata": {},
   "outputs": [
    {
     "name": "stdout",
     "output_type": "stream",
     "text": [
      "For estimator: DecisionTreeRegressor, Root mean sqaure error is 4.54, with improment: -0.15\n"
     ]
    }
   ],
   "source": [
    "dtr = DecisionTreeRegressor()\n",
    "\n",
    "dtr.fit(xtrain,  ytrain)\n",
    "\n",
    "pred_dtr = dtr.predict(xtest)\n",
    "\n",
    "evaluate_reg(dtr, pred_dtr)"
   ]
  },
  {
   "cell_type": "markdown",
   "metadata": {},
   "source": [
    "#### One thing to notice\n",
    "\n",
    "You find that for the regression problem, the best algorithm is linear regression, but in fact, you should really do some feature engineering step during the model training step! I don't do any feature engineering for the use case to show you the common algorithms for regression!"
   ]
  },
  {
   "cell_type": "markdown",
   "metadata": {},
   "source": [
    "#### Clustering\n",
    "\n",
    "What is clustering? suppose you have 100000 samples as people, you want to come up with an algorithm to split these data to  3 parts, each cluster means different group like teen, adult and older like something, but we don't have the true label each sample belongs to which cluster! so for Clustering problem, it is called **Unsupervised Learning**!"
   ]
  },
  {
   "cell_type": "code",
   "execution_count": 89,
   "metadata": {},
   "outputs": [],
   "source": [
    "# here I just use iris data\n",
    "from sklearn.datasets import load_iris\n",
    "\n",
    "x, y = load_iris(return_X_y=True)\n",
    "\n",
    "# in fact for clustering, we don't need to split data to train and test, as we don't have the true label for each sample!"
   ]
  },
  {
   "cell_type": "code",
   "execution_count": 90,
   "metadata": {},
   "outputs": [],
   "source": [
    "kmeans = KMeans(n_clusters=3, random_state=123)\n",
    "\n",
    "# fit the model\n",
    "kmeans.fit(x)\n",
    "\n",
    "# get the prediction for each sample, means which class it belongs to \n",
    "pred_kmeans = kmeans.predict(x)"
   ]
  },
  {
   "cell_type": "code",
   "execution_count": 93,
   "metadata": {},
   "outputs": [
    {
     "data": {
      "image/png": "[encoded data removed]",
      "text/plain": [
       "<Figure size 432x288 with 1 Axes>"
      ]
     },
     "metadata": {},
     "output_type": "display_data"
    }
   ],
   "source": [
    "# as I want to show you the plot for each class that the model prediction, \n",
    "# so here I use PCA to make data to 2D for plotting\n",
    "pca = PCA(n_components=2)\n",
    "\n",
    "pca.fit(x)\n",
    "\n",
    "x_pca = pca.transform(x)\n",
    "\n",
    "# plot the data for each sample\n",
    "for i in range(3):\n",
    "    plt.scatter(x_pca[i== pred_kmeans, 0], x_pca[i == pred_kmeans, 1], label= \"class+\" + str(i))\n",
    "    \n",
    "plt.legend()\n",
    "plt.show()"
   ]
  },
  {
   "cell_type": "markdown",
   "metadata": {},
   "source": [
    "### Final words\n",
    "\n",
    "You could see that we do make the clustering problem good, as each different class do seperate apart with each other! But as we don't have the label, so if we need to get the info that which class belongs to what category, so we have to manually check the data and label, so that we could get the insight! \n",
    "\n",
    "So that's the the whole parts for classification, regression and clustering common algorithms, in fact, for each part, there are many other algorithms that we could use! \n",
    "\n",
    "Keep tuned, I will show you more!"
   ]
  },
  {
   "cell_type": "code",
   "execution_count": null,
   "metadata": {},
   "outputs": [],
   "source": []
  }
 ],
 "metadata": {
  "kernelspec": {
   "display_name": "Python 3",
   "language": "python",
   "name": "python3"
  },
  "language_info": {
   "codemirror_mode": {
    "name": "ipython",
    "version": 3
   },
   "file_extension": ".py",
   "mimetype": "text/x-python",
   "name": "python",
   "nbconvert_exporter": "python",
   "pygments_lexer": "ipython3",
   "version": "3.6.5"
  }
 },
 "nbformat": 4,
 "nbformat_minor": 2
}
