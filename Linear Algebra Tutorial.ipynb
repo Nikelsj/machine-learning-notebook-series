{
 "cells": [
  {
   "cell_type": "markdown",
   "metadata": {},
   "source": [
    "### Linear Algebra\n",
    "As linear albebra is really important in computer science and machine learning, so this is a tutorial for linear algebra, as the math that we could use in machine learning we don't need to much math in fact, but the linear algegra is the most important and fundamental operations that we could use!\n",
    "So here I write one tutorial for the basic linear algebra tutorial also with some python code and some Chinese comments for the name that we could use.\n",
    "\n",
    "Here we start!"
   ]
  },
  {
   "cell_type": "code",
   "execution_count": 67,
   "metadata": {},
   "outputs": [],
   "source": [
    "# we just use the numpy module for explain\n",
    "import numpy as np\n",
    "\n",
    "# a tip: we would use the numpy module, np.linalg.   (linalg of numpy module mean linear algebra)"
   ]
  },
  {
   "cell_type": "code",
   "execution_count": 2,
   "metadata": {},
   "outputs": [],
   "source": [
    "# as linear algebra is used to solve the one-varaible function like this:\n",
    "# 4x1 − 5x2 = −13\n",
    "# −2x1 + 3x2 = 9.\n",
    "# we could extract the content variable and X and result to matrix to reprensent it: AX = b\n",
    "A = np.matrix(np.array([[4, -5], [-2, 3]]))\n",
    "b = np.matrix(np.array([-13, 9]))\n",
    "\n",
    "# matrix is really similiar to np.ndarray, but some with some more useful properties"
   ]
  },
  {
   "cell_type": "code",
   "execution_count": 5,
   "metadata": {},
   "outputs": [
    {
     "name": "stdout",
     "output_type": "stream",
     "text": [
      "A shape: (2, 2)\n",
      "b shape: (1, 2)\n"
     ]
    }
   ],
   "source": [
    "# first is to get the shape of matrix, just as np.ndarray\n",
    "# tips: computer would store matrix or array with column\n",
    "print(\"A shape:\", A.shape)\n",
    "# so A belongs to R(2, 2); 2 as rows and 2 as columns\n",
    "print(\"b shape:\", b.shape)\n",
    "# b belongs to R(1, 2)  "
   ]
  },
  {
   "cell_type": "markdown",
   "metadata": {},
   "source": [
    "### Matrix multiplication\n",
    "\n",
    "Matrix multiplication is most useful in the computer science! you could reference with the multiply with our previous explain in papers!\n",
    "\n",
    "One important thing is: np.dot(A, B), where A (- (m, n) and B (- (n, t)!   A's columns must equal to B's rows! otherwise, two matrix couldn't be multiplied!"
   ]
  },
  {
   "cell_type": "code",
   "execution_count": 7,
   "metadata": {},
   "outputs": [
    {
     "name": "stdout",
     "output_type": "stream",
     "text": [
      "result: [[ 7.1506582  -4.18467223]\n",
      " [ 3.210101   -1.28557004]\n",
      " [-1.49054211  1.04165342]\n",
      " [ 0.10695623  0.41318964]]\n"
     ]
    }
   ],
   "source": [
    "# example for dot product: 向量内积\n",
    "A = np.matrix(np.random.randn(4, 5))\n",
    "B = np.matrix(np.random.randn(5, 2))\n",
    "\n",
    "print(\"result:\", np.dot(A, B))    "
   ]
  },
  {
   "cell_type": "code",
   "execution_count": 29,
   "metadata": {},
   "outputs": [
    {
     "data": {
      "text/plain": [
       "matrix([[1, 2],\n",
       "        [3, 4]])"
      ]
     },
     "execution_count": 29,
     "metadata": {},
     "output_type": "execute_result"
    }
   ],
   "source": [
    "# here is more readable example \n",
    "# this is matrix * matrix\n",
    "data = np.matrix(np.arange(1, 5).reshape(2, -1)) \n",
    "# -1 means we don't know how much columns, but in fact we know that it is 2 * 2, but we also could do this\n",
    "data"
   ]
  },
  {
   "cell_type": "code",
   "execution_count": 9,
   "metadata": {},
   "outputs": [
    {
     "name": "stdout",
     "output_type": "stream",
     "text": [
      "data dot product with data:  [[ 7 10]\n",
      " [15 22]]\n"
     ]
    }
   ],
   "source": [
    "print(\"data dot product with data: \", np.dot(data, data))\n",
    "# result is computed with 1th row, 1th column: 1 * 1 + 2 * 3 = 7; 1th row 2th column: 1 * 2 + 2 * 4 = 10\n",
    "# others you could compute with yourself"
   ]
  },
  {
   "cell_type": "code",
   "execution_count": 14,
   "metadata": {},
   "outputs": [
    {
     "name": "stdout",
     "output_type": "stream",
     "text": [
      "vector shape: (2, 1)\n",
      "matrix * vector: [[ 5]\n",
      " [-3]]\n",
      "data shape: (2, 2)\n",
      "vector is: (2, 1)\n",
      "matrix * vector shape: (2, 1)\n"
     ]
    }
   ],
   "source": [
    "# matrix * vector\n",
    "data_vector = np.matrix(b.reshape(2, -1))\n",
    "print(\"vector shape:\", data_vector.shape)\n",
    "\n",
    "res = np.dot(data, data_vector)\n",
    "print(\"matrix * vector:\", res)\n",
    "\n",
    "print(\"data shape:\", data.shape)\n",
    "print(\"vector is:\", data_vector.shape)\n",
    "print(\"matrix * vector shape:\", res.shape)"
   ]
  },
  {
   "cell_type": "code",
   "execution_count": 18,
   "metadata": {},
   "outputs": [
    {
     "name": "stdout",
     "output_type": "stream",
     "text": [
      "left shape: (1, 2)\n",
      "right shape: (2, 1)\n",
      "result shape: (1, 1)\n",
      "result is: [[250]]\n"
     ]
    }
   ],
   "source": [
    "# vector * vector\n",
    "data_vector_left = np.matrix(b.reshape(-1, 2)) # 1*2\n",
    "data_vector_right = np.matrix(b.reshape(2, -1)) # 2*1\n",
    "\n",
    "res = np.dot(data_vector_left, data_vector_right)\n",
    "\n",
    "print(\"left shape:\", data_vector_left.shape)\n",
    "print(\"right shape:\", data_vector_right.shape)\n",
    "print(\"result shape:\", res.shape)\n",
    "print(\"result is:\",res)   # just one value"
   ]
  },
  {
   "cell_type": "markdown",
   "metadata": {},
   "source": [
    "#### Important property\n",
    "\n",
    "Here is some important property that should know for linear algebra! Also with comments."
   ]
  },
  {
   "cell_type": "code",
   "execution_count": 22,
   "metadata": {},
   "outputs": [
    {
     "name": "stdout",
     "output_type": "stream",
     "text": [
      "Identity matrix shape: (4, 3)\n"
     ]
    },
    {
     "data": {
      "text/plain": [
       "matrix([[1., 1., 1.],\n",
       "        [1., 1., 1.],\n",
       "        [1., 1., 1.],\n",
       "        [1., 1., 1.]])"
      ]
     },
     "execution_count": 22,
     "metadata": {},
     "output_type": "execute_result"
    }
   ],
   "source": [
    "# 1. Identity matrix （单位阵，全部为1）\n",
    "# identity matrix with any matrix multiply will result same matrix!\n",
    "iden_matrix = np.matrix(np.ones((4, 3)))\n",
    "print(\"Identity matrix shape:\", iden_matrix.shape)\n",
    "iden_matrix"
   ]
  },
  {
   "cell_type": "code",
   "execution_count": 24,
   "metadata": {},
   "outputs": [
    {
     "data": {
      "text/plain": [
       "matrix([[1, 0, 0],\n",
       "        [0, 2, 0],\n",
       "        [0, 0, 3]])"
      ]
     },
     "execution_count": 24,
     "metadata": {},
     "output_type": "execute_result"
    }
   ],
   "source": [
    "# 2. Diagonal matrix （对角阵: 对角线有值，其他为0）\n",
    "dia_matrix = np.matrix(np.diag([1, 2, 3]))\n",
    "dia_matrix"
   ]
  },
  {
   "cell_type": "code",
   "execution_count": 31,
   "metadata": {},
   "outputs": [
    {
     "name": "stdout",
     "output_type": "stream",
     "text": [
      "original: [[1 2]\n",
      " [3 4]]\n",
      "transpose: [[1 3]\n",
      " [2 4]]\n"
     ]
    }
   ],
   "source": [
    "# 3. Transpose （转置， 对角线位置不变，其他位置对应替换）\n",
    "print('original:', data)\n",
    "print('transpose:', data.T)"
   ]
  },
  {
   "cell_type": "code",
   "execution_count": 38,
   "metadata": {},
   "outputs": [
    {
     "name": "stdout",
     "output_type": "stream",
     "text": [
      "(A.T).T = A: True\n",
      "(A * B).T = B.T * A.T:  True\n",
      "(A + B).T = A.T + B.T:  True\n"
     ]
    }
   ],
   "source": [
    "# 3.1 transpose property\n",
    "A = np.matrix(np.random.randn(4, 3))\n",
    "B = np.matrix(np.random.randn(3, 2))\n",
    "\n",
    "# (A.T).T = A\n",
    "print(\"(A.T).T = A:\", np.allclose(A.T.T, A))\n",
    "\n",
    "# (A * B).T = B.T * A.T\n",
    "print(\"(A * B).T = B.T * A.T: \", np.allclose(np.dot(A, B).T, np.dot(B.T, A.T) ))\n",
    "\n",
    "# (A + B).T = A.T + B.T\n",
    "print(\"(A + B).T = A.T + B.T: \", np.allclose((A + A).T, A.T + A.T))"
   ]
  },
  {
   "cell_type": "code",
   "execution_count": 42,
   "metadata": {},
   "outputs": [
    {
     "name": "stdout",
     "output_type": "stream",
     "text": [
      "original matrix: [[1 2]\n",
      " [3 4]]\n",
      "trace of matrix data: 5\n"
     ]
    }
   ],
   "source": [
    "# 4. Trace （迹， 对角线值的和）\n",
    "print(\"original matrix:\", data)\n",
    "\n",
    "print(\"trace of matrix data:\", np.trace(data))  # with 1 + 4 = 5"
   ]
  },
  {
   "cell_type": "code",
   "execution_count": 51,
   "metadata": {},
   "outputs": [
    {
     "name": "stdout",
     "output_type": "stream",
     "text": [
      "trace(A) = trace(A.T): True\n",
      "trace(A + B) = trace(A) + trace(B):  True\n",
      "trace(t*A) = t* trace(A):  True\n",
      "trace(A * B) = trace(B * A):  True\n"
     ]
    }
   ],
   "source": [
    "# 4.1 trace property\n",
    "A = np.matrix(np.random.randn(4, 4))\n",
    "B = np.matrix(np.random.randn(4, 4))  # another matrix with same shape of A, but with different value, you could check\n",
    "\n",
    "# trace(A) = trace(A.T)\n",
    "print(\"trace(A) = trace(A.T):\", np.trace(data) == np.trace(data.T))\n",
    "\n",
    "# trace(A + B) = trace(A) + trace(B)\n",
    "print(\"trace(A + B) = trace(A) + trace(B): \", np.allclose(np.trace(A + B), np.trace(A) + np.trace(B)))\n",
    "\n",
    "# trace(t*A) = t* trace(A), t is just a constant number\n",
    "print(\"trace(t*A) = t* trace(A): \", np.allclose(np.trace(3 * A), 3 * np.trace(A)))\n",
    "\n",
    "# trace(A * B) = trace(B * A), s.t. A, B are square matrix\n",
    "print(\"trace(A * B) = trace(B * A): \", np.allclose(np.trace(np.dot(A, B)), np.trace(np.dot(B, A))))"
   ]
  },
  {
   "cell_type": "code",
   "execution_count": 57,
   "metadata": {},
   "outputs": [
    {
     "name": "stdout",
     "output_type": "stream",
     "text": [
      "org vector: [[-13]\n",
      " [  9]]\n",
      "L1 norm of A: 22.0\n",
      "L2 norm of A: 15.811388300841896\n"
     ]
    }
   ],
   "source": [
    "# 5. Norm (中文定量？ 主要用来求距离, 中学的欧式距离), norm seperate 3 classes；l1-norm, l2-norm(Euclidean distance) and lp-norm, \n",
    "# the function to compute the norm of l2 is: np.sqrt(np.sum(x)), norm is used to compute the distance with (vector)!\n",
    "print(\"org vector:\", data_vector)\n",
    "print(\"L1 norm of A:\", np.linalg.norm(data_vector, ord=1))  # |-13| + |9| = 22\n",
    "print(\"L2 norm of A:\", np.linalg.norm(data_vector, ord=2))  # np.sqrt((-13)**2 + (9)**2 ) "
   ]
  },
  {
   "cell_type": "code",
   "execution_count": 61,
   "metadata": {},
   "outputs": [
    {
     "name": "stdout",
     "output_type": "stream",
     "text": [
      "norm is upper to 0: True\n",
      "t * norm(x) == norm(t * x):  True\n",
      "norm(x + y) <= norm(x) + norm(y):  True\n"
     ]
    }
   ],
   "source": [
    "# 5.1. Norm property\n",
    "\n",
    "# norm is must uppper to 0\n",
    "print(\"norm is upper to 0:\", np.linalg.norm(data_vector) > 0)\n",
    "\n",
    "# t * norm(x) == norm(t * x)\n",
    "print(\"t * norm(x) == norm(t * x): \", np.allclose(3 * np.linalg.norm(data_vector), np.linalg.norm(3 * data_vector)))\n",
    "\n",
    "# norm(x + y) <= norm(x) + norm(y)\n",
    "print(\"norm(x + y) <= norm(x) + norm(y): \", np.linalg.norm(data_vector + data_vector) <= np.linalg.norm(data_vector) + np.linalg.norm(data_vector))"
   ]
  },
  {
   "cell_type": "code",
   "execution_count": 62,
   "metadata": {},
   "outputs": [],
   "source": [
    "# 6. Linear independent (线性独立, dependent：相关的意思，独立就是互相没有影响，相关就是说一个向量可以用其他向量线性相加得到) \n",
    "# Assume you have n vectors {x1, x2, ... xn} (- (m), these vectors are same dimension with mD(D means dimension), linear depement\n",
    "# means that one vector could be computed with others vector sum with weights, like this: xn = a1*x1 + a2*x2+ ..+an*xn (a1, a2 ..an) \n",
    "# is weights are some content variable. like x1 = [1, 2], x2 = [2, 3], x3 = [4, 7], so x3 = 2*x1 + x2\n",
    "# Linear independent means that we couldn't find the weights to compute one vector with others sum with weights. Linear dependent\n",
    "# could be used to compute the linear function like  AX = b, AS A is matrix(matrix are just some vectors combined), b is a vector,\n",
    "# so A's vector and b also a vector, they are dependent when x could be computed, otherwise they are independent.\n",
    "# Noted: not all linear function has solution, like this: {x1 + 2*x2 = 1, 2*x2 + 4 * x2 = 2} this we couldn't find one\n",
    "# unique solution for this function, as they are dependent with each other(second function = first function * 2)"
   ]
  },
  {
   "cell_type": "code",
   "execution_count": 64,
   "metadata": {},
   "outputs": [
    {
     "name": "stdout",
     "output_type": "stream",
     "text": [
      "Matrix is:  [[ 1.54857288  0.72267192 -0.31090072 -0.07399397]\n",
      " [ 1.70813862  0.46655917  1.06191653 -2.51648034]\n",
      " [ 1.49626721 -1.09170817  1.73840425 -0.77898378]\n",
      " [-0.25234205 -0.73771393  0.42080921  0.36295027]]\n",
      "Rank of A is :  4\n"
     ]
    }
   ],
   "source": [
    "# 7. Rank （矩阵的秩[zhi四声]）\n",
    "# matrix A (- (m, n) m rows and n columns. column rank is the number that subset of columns of A that are independent with each\n",
    "# other(now matrix A is compressed with columns for n columns); row rank is the number of subset of rows of A that are \n",
    "# independent with each other(m rows). \n",
    "# Noted: given any matrix A, column rank is same with row rank  (you could think with Transpose of A, row rank of A is the \n",
    "# column rank of A.T), you could just know this property.\n",
    "\n",
    "\n",
    "# here we just to compute the rank of matrix\n",
    "print(\"Matrix is: \", A)\n",
    "\n",
    "print(\"Rank of A is : \", np.linalg.matrix_rank(A))"
   ]
  },
  {
   "cell_type": "code",
   "execution_count": 66,
   "metadata": {},
   "outputs": [
    {
     "name": "stdout",
     "output_type": "stream",
     "text": [
      "min function test to get the min :  3\n",
      "rank(A) <= min(m, n):  True\n",
      "rank(A) = rank(A.T):  True\n",
      "rank(A * B) <= min(Rank(A), Rank(B)):  True\n",
      "rank(A + B) <= rank(A) + rank(B):  True\n"
     ]
    }
   ],
   "source": [
    "# 7.1 Rank property\n",
    "\n",
    "# rank(A) <= min(m, n)  min means 两个值中的最小的那个, \n",
    "# important:  if rank(A) = min(m, n), then A is full rank (满秩)！！！！\n",
    "\n",
    "print(\"min function test to get the min : \", min(4, 3))\n",
    "\n",
    "print(\"rank(A) <= min(m, n): \", np.linalg.matrix_rank(A) <= min(A.shape))   # get the shape of A as (m, n), m rows and n columns\n",
    "\n",
    "# rank(A) = rank(A.T)\n",
    "print(\"rank(A) = rank(A.T): \", np.linalg.matrix_rank(A) == np.linalg.matrix_rank(A.T))\n",
    "\n",
    "# rank(A * B) <= min(Rank(A), Rank(B))\n",
    "A = np.matrix(np.random.randn(4, 4))\n",
    "B = np.matrix(np.random.randn(4, 4))\n",
    "print(\"rank(A * B) <= min(Rank(A), Rank(B)): \", \n",
    "      np.linalg.matrix_rank(np.dot(A, B)) <= min(np.linalg.matrix_rank(A), np.linalg.matrix_rank(B)))\n",
    "\n",
    "# rank(A + B) <= rank(A) + rank(B)\n",
    "print(\"rank(A + B) <= rank(A) + rank(B): \", np.linalg.matrix_rank(A + B) <= np.linalg.matrix_rank(A) + np.linalg.matrix_rank(B))"
   ]
  },
  {
   "cell_type": "code",
   "execution_count": 69,
   "metadata": {},
   "outputs": [
    {
     "name": "stdout",
     "output_type": "stream",
     "text": [
      "original matrix:  [[ 0.14594637 -0.38210768  0.12607345  3.16021619]\n",
      " [-0.72209548  0.13631996 -0.12496719  0.68497759]\n",
      " [-3.06052343  0.25301834 -1.25486347 -1.90082792]\n",
      " [ 0.95958359 -1.23599602 -1.65887101  2.04606418]]\n",
      "inverse of matrix:  [[-0.83586385  1.35056268 -0.5957664   0.28540449]\n",
      " [-2.79208208  6.9367809  -1.61672528  0.48821881]\n",
      " [ 1.54243638 -3.26881379  0.62218241 -0.71000048]\n",
      " [-0.04409349  0.90677282 -0.19278867  0.0741755 ]]\n",
      "dot product of A and A-1, should be identity matrix:  [[ 1.00000000e+00  8.08639401e-16 -2.82567118e-17  1.32246867e-16]\n",
      " [-4.39023462e-19  1.00000000e+00 -4.93113407e-17 -4.18599180e-19]\n",
      " [-7.15431503e-20 -7.75960340e-17  1.00000000e+00  1.52393716e-17]\n",
      " [-1.12953535e-16  3.40819075e-16 -4.43471226e-18  1.00000000e+00]]\n"
     ]
    }
   ],
   "source": [
    "# 8. Inverse (矩阵的逆)\n",
    "# matrix inverse is important but easy to understand!!! How to represent the inverse is: A-1\n",
    "# inverse property:  A * A-1 == I == A-1 * A !!!! Another important tip: A must be square matrix as A (- (n, n) rows = columns\n",
    "# But even for square matrix, doesn't means that it will have inverse matrix, \n",
    "# so if A has A-1, then called A is non-singular(非奇异的)\n",
    "# if A doesn't have A-1, then A is called singular (奇异的).\n",
    "\n",
    "# here to compute the inverse of matrix A\n",
    "print('original matrix: ', A)\n",
    "\n",
    "print('inverse of matrix: ', A.I)  # I means inverse\n",
    "\n",
    "print(\"dot product of A and A-1, should be identity matrix: \", np.dot(A, A.I))  \n",
    "# e-10 means 0.0000000001 (-10 means 0.十个0) 非常小，可以忽略不计，所以是一个对角为1，其他为0的对角阵\n"
   ]
  },
  {
   "cell_type": "code",
   "execution_count": 71,
   "metadata": {},
   "outputs": [
    {
     "name": "stdout",
     "output_type": "stream",
     "text": [
      "A.I.I = A:  True\n",
      "(A*B).I = B.I * A.I:  True\n",
      "A.I.T = A.T.I: True\n"
     ]
    }
   ],
   "source": [
    "# 8.1 inverse property\n",
    "\n",
    "# A.I.I = A\n",
    "print(\"A.I.I = A: \", np.allclose(A.I.I, A))\n",
    "\n",
    "# (A*B).I = B.I * A.I\n",
    "print(\"(A*B).I = B.I * A.I: \", np.allclose(np.dot(A, B).I, np.dot(B.I, A.I)))\n",
    "\n",
    "# A.I.T = A.T.I   # means A的转置的逆 = A的逆的转置\n",
    "print(\"A.I.T = A.T.I:\", np.allclose(A.I.T, A.T.I))"
   ]
  },
  {
   "cell_type": "code",
   "execution_count": 72,
   "metadata": {},
   "outputs": [
    {
     "name": "stdout",
     "output_type": "stream",
     "text": [
      "diagonal matrix is a orthogonal matrix:  [[1 0 0]\n",
      " [0 2 0]\n",
      " [0 0 3]]\n"
     ]
    }
   ],
   "source": [
    "# 9. Orthogonal matrix (正交阵, 正交means向量夹角为90度，如x, y, z三维坐标)\n",
    "# x, y is nD(dimension) vector, if x*y = 0, then x, y are orthogonal! like (1, 0) * (0, 1) = 0\n",
    "# if A (- (N, N) is square matrix if and only if A's whole columns are orthogonal with each other.\n",
    "# diagonal matrix is a orthogonal matrix:\n",
    "print(\"diagonal matrix is a orthogonal matrix: \", np.matrix(np.diag([1, 2, 3])))"
   ]
  },
  {
   "cell_type": "code",
   "execution_count": 73,
   "metadata": {},
   "outputs": [
    {
     "name": "stdout",
     "output_type": "stream",
     "text": [
      "A * A.T = I = A.T * A:  True\n",
      "A * A.T is:  [[1 0 0]\n",
      " [0 4 0]\n",
      " [0 0 9]]\n"
     ]
    }
   ],
   "source": [
    "# 9.1 orthogonal matrix property\n",
    "# if A is orthogonal matrix and A is normalized, then A * A.T = I = A.T * A\n",
    "diag_matrix = np.matrix(np.diag([1, 2, 3]))\n",
    "print(\"A * A.T = I = A.T * A: \", np.allclose(np.dot(diag_matrix , diag_matrix.T), np.dot(diag_matrix.T, diag_matrix)))\n",
    "\n",
    "print(\"A * A.T is: \", np.dot(diag_matrix , diag_matrix.T))"
   ]
  },
  {
   "cell_type": "code",
   "execution_count": 75,
   "metadata": {},
   "outputs": [
    {
     "name": "stdout",
     "output_type": "stream",
     "text": [
      "Origin data:  [[ 0.14594637 -0.38210768  0.12607345  3.16021619]\n",
      " [-0.72209548  0.13631996 -0.12496719  0.68497759]\n",
      " [-3.06052343  0.25301834 -1.25486347 -1.90082792]\n",
      " [ 0.95958359 -1.23599602 -1.65887101  2.04606418]]\n",
      "Determinant of matrix is:  2.8218299972245084\n"
     ]
    }
   ],
   "source": [
    "# 10. Determinant （行列式）\n",
    "# The determinant of a squared matrix A means the volume of the matrix, a little tip: if the matrix is A is singular, then the \n",
    "# determinant of the matrix is 0!\n",
    "\n",
    "print(\"Origin data: \", A)\n",
    "\n",
    "print(\"Determinant of matrix is: \", np.linalg.det(A))"
   ]
  },
  {
   "cell_type": "code",
   "execution_count": 87,
   "metadata": {},
   "outputs": [
    {
     "name": "stdout",
     "output_type": "stream",
     "text": [
      "identity_matrix:  [[1 0 0]\n",
      " [0 1 0]\n",
      " [0 0 1]]\n",
      "identity matrix determinant:  1.0\n",
      "Singular_matrix is:  [[1. 1.]\n",
      " [1. 1.]]\n",
      "Singular matrix determinant should be zero:  0.0\n",
      "det(A) = det(A.T):  True\n",
      "det(A*B) = det(A) * det(B):  True\n",
      "det(A.I) = 1/ det(A) if A is non-singular:  True\n"
     ]
    }
   ],
   "source": [
    "# 10.1 Determinant property\n",
    "\n",
    "# identity matrix determinant is 1\n",
    "identity_matrix = np.matrix(np.diag([1, 1, 1]))\n",
    "print(\"identity_matrix: \", identity_matrix)\n",
    "print(\"identity matrix determinant: \", np.linalg.det(identity_matrix))\n",
    "\n",
    "singular_matrix = iden_matrix[:2, :2]\n",
    "print(\"Singular_matrix is: \", singular_matrix)\n",
    "print(\"Singular matrix determinant should be zero: \", np.linalg.det(singular_matrix))\n",
    "\n",
    "# det(A) = det(A.T)\n",
    "print(\"det(A) = det(A.T): \", np.allclose(np.linalg.det(A), np.linalg.det(A.T)))\n",
    "\n",
    "# det(A*B) = det(A) * det(B)\n",
    "print(\"det(A*B) = det(A) * det(B): \", np.allclose(np.linalg.det(np.dot(A, B)), np.linalg.det(A) * np.linalg.det(B)))\n",
    "\n",
    "# det(A.I) = 1/ det(A) if A is non-singular (columns are independent with each other)\n",
    "print(\"det(A.I) = 1/ det(A) if A is non-singular: \", np.allclose(np.linalg.det(A.I), 1./ np.linalg.det(A) ))"
   ]
  },
  {
   "cell_type": "code",
   "execution_count": 96,
   "metadata": {},
   "outputs": [
    {
     "name": "stdout",
     "output_type": "stream",
     "text": [
      "Orig data:  [[1 2]\n",
      " [3 4]]\n",
      "Eigen value:  [-0.37228132  5.37228132]\n",
      "Eigen vector:  [[-0.82456484 -0.41597356]\n",
      " [ 0.56576746 -0.90937671]]\n"
     ]
    }
   ],
   "source": [
    "# 11. Eigen value and eigen vector (特征值及特征向量)\n",
    "# for square matrix A (- (N, N), a is eigen value and x is eigen vector if A*X = a*X\n",
    "# this definition means that multiplying A by the vector x results in a new vector\n",
    "# that points in the same direction as x, but scaled by a factor λ. (if you don't understand this, I will show you)\n",
    "\n",
    "# Here is to compute the eigen value and eigen vector\n",
    "eigen_value, eigen_vector = np.linalg.eig(data)\n",
    "print(\"Orig data: \", data)\n",
    "print(\"Eigen value: \", eigen_value)\n",
    "print(\"Eigen vector: \", eigen_vector)\n"
   ]
  },
  {
   "cell_type": "code",
   "execution_count": 107,
   "metadata": {},
   "outputs": [
    {
     "name": "stdout",
     "output_type": "stream",
     "text": [
      "trace of matrix is sum of the eigen values:  True\n",
      "determinant of matrix is product of eigen values:  True\n",
      "non-zero value: (array([0, 1], dtype=int64),)\n",
      "rank of matrix is number of non-zero of eigen value:  True\n"
     ]
    },
    {
     "name": "stderr",
     "output_type": "stream",
     "text": [
      "C:\\Users\\Public\\anaconda\\lib\\site-packages\\ipykernel_launcher.py:14: VisibleDeprecationWarning: `rank` is deprecated; use the `ndim` attribute or function instead. To find the rank of a matrix see `numpy.linalg.matrix_rank`.\n",
      "  \n"
     ]
    }
   ],
   "source": [
    "# 11.1 eigen value and eigen vector property\n",
    "# as eigen value and eigen vector is really important for some machine learning alogirithm to reduce the dimension of data,\n",
    "# bellow property could be known.\n",
    "\n",
    "# trace of matrix is sum of the eigen values\n",
    "print(\"trace of matrix is sum of the eigen values: \", np.allclose(np.trace(data), np.sum(eigen_value)))\n",
    "\n",
    "# determinant of matrix is product of eigen values, as det(A) = eigen_value[0] * eigen_value[1] * ...\n",
    "# np.prod(eigen_value) is multiply with each variables\n",
    "print(\"determinant of matrix is product of eigen values: \", np.allclose(np.linalg.det(data), np.prod(eigen_value) ))\n",
    "\n",
    "# rank of matrix is number of non-zero of eigen value\n",
    "print(\"non-zero value:\",np.nonzero(eigen_value))\n",
    "print(\"rank of matrix is number of non-zero of eigen value: \", np.rank(data) == len(np.nonzero(eigen_value)[0]))"
   ]
  },
  {
   "cell_type": "code",
   "execution_count": null,
   "metadata": {},
   "outputs": [],
   "source": []
  }
 ],
 "metadata": {
  "kernelspec": {
   "display_name": "Python 3",
   "language": "python",
   "name": "python3"
  },
  "language_info": {
   "codemirror_mode": {
    "name": "ipython",
    "version": 3
   },
   "file_extension": ".py",
   "mimetype": "text/x-python",
   "name": "python",
   "nbconvert_exporter": "python",
   "pygments_lexer": "ipython3",
   "version": "3.6.5"
  }
 },
 "nbformat": 4,
 "nbformat_minor": 2
}
