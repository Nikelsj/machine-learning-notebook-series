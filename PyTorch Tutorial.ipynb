{
 "cells": [
  {
   "cell_type": "markdown",
   "metadata": {},
   "source": [
    "## PyTorch Tutorial\n",
    "\n",
    "As deep learning is really powerful when we have really huge data, the huge data is always means that over 100,000 samples in my previous job experience that you will be benifited with **deep learning**. So we could use deep learning to do so many things, which tools that I should use? In fact, I have used many libaries like **TensorFlow**, **Keras** in production, but as **PyTorch** is really popular, this tutorial is focused on **PyTorch**.\n",
    "\n",
    "You should first install **PyTorch** first, just reference this link: [Install PyTorch](https://pytorch.org/get-started/locally/).\n",
    "\n",
    "This tutorial will cover following materials:\n",
    "\n",
    "* Basic PyTorch\n",
    "* Auto Grad\n",
    "* NN network\n",
    "* CNN in PyTorch"
   ]
  },
  {
   "cell_type": "markdown",
   "metadata": {},
   "source": [
    "### Basic PyTorch"
   ]
  },
  {
   "cell_type": "code",
   "execution_count": 1,
   "metadata": {},
   "outputs": [],
   "source": [
    "# frist import torch module\n",
    "import torch\n",
    "import numpy as np\n",
    "import torch.nn as nn\n",
    "import torch.optim as optim\n",
    "import torch.nn.functional as F"
   ]
  },
  {
   "cell_type": "markdown",
   "metadata": {},
   "source": [
    "One thing to notice that the reason that we use **PyTorch** is that this is really like **numpy** but could use **GPU** power, also we could do just like **numpy** module. The only difference is that for **PyTorch**, the core object is **Tensor**, just like **TensorFlow**'s Tensor. **Tensor** object could represent N-D matrix more powerful in GPU. You could just treat the **Tensor** as your training data!"
   ]
  },
  {
   "cell_type": "code",
   "execution_count": 2,
   "metadata": {},
   "outputs": [
    {
     "data": {
      "text/plain": [
       "tensor([[2.0615e-19, 4.8354e+30],\n",
       "        [4.9640e+28, 1.3556e-19]])"
      ]
     },
     "execution_count": 2,
     "metadata": {},
     "output_type": "execute_result"
    }
   ],
   "source": [
    "# init empty matrix\n",
    "x = torch.empty(2, 2)\n",
    "x"
   ]
  },
  {
   "cell_type": "code",
   "execution_count": 3,
   "metadata": {},
   "outputs": [
    {
     "data": {
      "text/plain": [
       "tensor([[-0.8578, -0.6176, -0.2281],\n",
       "        [-0.4034,  1.1562, -0.6602],\n",
       "        [ 0.1885, -1.0944,  1.0578]])"
      ]
     },
     "execution_count": 3,
     "metadata": {},
     "output_type": "execute_result"
    }
   ],
   "source": [
    "# random matrix\n",
    "x = torch.randn(3, 3)\n",
    "x"
   ]
  },
  {
   "cell_type": "code",
   "execution_count": 4,
   "metadata": {},
   "outputs": [
    {
     "data": {
      "text/plain": [
       "tensor([[0., 0., 0.],\n",
       "        [0., 0., 0.],\n",
       "        [0., 0., 0.]])"
      ]
     },
     "execution_count": 4,
     "metadata": {},
     "output_type": "execute_result"
    }
   ],
   "source": [
    "# we could create another tensor shape like x, just like numpy does\n",
    "y = torch.empty_like(x, dtype=torch.float)\n",
    "y"
   ]
  },
  {
   "cell_type": "code",
   "execution_count": 5,
   "metadata": {},
   "outputs": [
    {
     "data": {
      "text/plain": [
       "tensor([[0., 0.],\n",
       "        [0., 0.]])"
      ]
     },
     "execution_count": 5,
     "metadata": {},
     "output_type": "execute_result"
    }
   ],
   "source": [
    "# we could create 0 tensor\n",
    "y = torch.zeros(2, 2)\n",
    "y"
   ]
  },
  {
   "cell_type": "code",
   "execution_count": 6,
   "metadata": {},
   "outputs": [
    {
     "data": {
      "text/plain": [
       "tensor([1., 2., 3.])"
      ]
     },
     "execution_count": 6,
     "metadata": {},
     "output_type": "execute_result"
    }
   ],
   "source": [
    "# we could create tensor based on matrix\n",
    "y = torch.Tensor([1, 2, 3])\n",
    "y"
   ]
  },
  {
   "cell_type": "code",
   "execution_count": 7,
   "metadata": {},
   "outputs": [
    {
     "name": "stdout",
     "output_type": "stream",
     "text": [
      "x data:\n",
      "tensor([[-0.8578, -0.6176, -0.2281],\n",
      "        [-0.4034,  1.1562, -0.6602],\n",
      "        [ 0.1885, -1.0944,  1.0578]])\n",
      "y data:\n",
      "tensor([[ 0.2000, -0.3080,  0.7717],\n",
      "        [-0.0045, -2.2594, -0.3388],\n",
      "        [-0.5783,  0.3670, -1.5884]])\n"
     ]
    }
   ],
   "source": [
    "# we could do compute operation just like numpy\n",
    "y = torch.randn(3, 3)\n",
    "print(\"x data:\")\n",
    "print(x)\n",
    "print(\"y data:\")\n",
    "print(y)"
   ]
  },
  {
   "cell_type": "code",
   "execution_count": 8,
   "metadata": {},
   "outputs": [
    {
     "name": "stdout",
     "output_type": "stream",
     "text": [
      "shape of tensor: torch.Size([3, 3])\n",
      "with shape for tensor: torch.Size([3, 3])\n"
     ]
    }
   ],
   "source": [
    "# we could get the shape of tensor\n",
    "print(\"shape of tensor:\", x.size())\n",
    "print(\"with shape for tensor:\", x.shape)"
   ]
  },
  {
   "cell_type": "code",
   "execution_count": 9,
   "metadata": {},
   "outputs": [
    {
     "data": {
      "text/plain": [
       "tensor([[-0.6577, -0.9256,  0.5436],\n",
       "        [-0.4079, -1.1032, -0.9990],\n",
       "        [-0.3898, -0.7275, -0.5307]])"
      ]
     },
     "execution_count": 9,
     "metadata": {},
     "output_type": "execute_result"
    }
   ],
   "source": [
    "# we could do +, -, *, / operations\n",
    "z = x + y\n",
    "z"
   ]
  },
  {
   "cell_type": "code",
   "execution_count": 10,
   "metadata": {},
   "outputs": [
    {
     "data": {
      "text/plain": [
       "tensor([[-1.7158e-01,  1.9024e-01, -1.7602e-01],\n",
       "        [ 1.8028e-03, -2.6124e+00,  2.2368e-01],\n",
       "        [-1.0901e-01, -4.0163e-01, -1.6802e+00]])"
      ]
     },
     "execution_count": 10,
     "metadata": {},
     "output_type": "execute_result"
    }
   ],
   "source": [
    "# with* means element wise multiply\n",
    "z = x * y\n",
    "z"
   ]
  },
  {
   "cell_type": "code",
   "execution_count": 11,
   "metadata": {},
   "outputs": [
    {
     "name": "stdout",
     "output_type": "stream",
     "text": [
      "previous y:\n",
      "tensor([[ 0.2000, -0.3080,  0.7717],\n",
      "        [-0.0045, -2.2594, -0.3388],\n",
      "        [-0.5783,  0.3670, -1.5884]])\n",
      "new y:\n",
      "tensor([[-0.6577, -0.9256,  0.5436],\n",
      "        [-0.4079, -1.1032, -0.9990],\n",
      "        [-0.3898, -0.7275, -0.5307]])\n"
     ]
    }
   ],
   "source": [
    "# we could just change the value with _ operation\n",
    "print(\"previous y:\")\n",
    "print(y)\n",
    "y.add_(x)\n",
    "print(\"new y:\")\n",
    "print(y)"
   ]
  },
  {
   "cell_type": "code",
   "execution_count": 12,
   "metadata": {},
   "outputs": [
    {
     "name": "stdout",
     "output_type": "stream",
     "text": [
      "pre Y:\n",
      "tensor([[-0.6577, -0.9256,  0.5436],\n",
      "        [-0.4079, -1.1032, -0.9990],\n",
      "        [-0.3898, -0.7275, -0.5307]])\n",
      "new Y:\n",
      "tensor([[-1.5155, -1.5432,  0.3155],\n",
      "        [-0.8112,  0.0531, -1.6592],\n",
      "        [-0.2014, -1.8219,  0.5271]])\n"
     ]
    }
   ],
   "source": [
    "# or we could just change with torch operation\n",
    "print(\"pre Y:\")\n",
    "print(y)\n",
    "torch.add(x, y, out=y)\n",
    "print(\"new Y:\")\n",
    "print(y)"
   ]
  },
  {
   "cell_type": "code",
   "execution_count": 13,
   "metadata": {},
   "outputs": [
    {
     "name": "stdout",
     "output_type": "stream",
     "text": [
      "X data:\n",
      "tensor([[-0.8578, -0.6176, -0.2281],\n",
      "        [-0.4034,  1.1562, -0.6602],\n",
      "        [ 0.1885, -1.0944,  1.0578]])\n",
      "silice:\n",
      "tensor([-0.8578, -0.4034,  0.1885])\n"
     ]
    }
   ],
   "source": [
    "# we could get data with slice as numpy.ndarray\n",
    "print('X data:')\n",
    "print(x)\n",
    "print('silice:')\n",
    "print(x[:, 0])"
   ]
  },
  {
   "cell_type": "code",
   "execution_count": 14,
   "metadata": {},
   "outputs": [
    {
     "name": "stdout",
     "output_type": "stream",
     "text": [
      "torch.Size([3, 3])\n",
      "flatten:  tensor([[-0.8578, -0.6176, -0.2281, -0.4034,  1.1562, -0.6602,  0.1885, -1.0944,\n",
      "          1.0578]])\n",
      "torch.Size([1, 9])\n"
     ]
    }
   ],
   "source": [
    "# we could flatten our data\n",
    "print(x.shape)\n",
    "print(\"flatten: \", x.view(1, -1))\n",
    "print(x.view(1, -1).shape)"
   ]
  },
  {
   "cell_type": "code",
   "execution_count": 15,
   "metadata": {},
   "outputs": [
    {
     "data": {
      "text/plain": [
       "tensor([-0.5961])"
      ]
     },
     "execution_count": 15,
     "metadata": {},
     "output_type": "execute_result"
    }
   ],
   "source": [
    "# we could just create one random variable\n",
    "r = torch.randn(1)\n",
    "r"
   ]
  },
  {
   "cell_type": "code",
   "execution_count": 16,
   "metadata": {},
   "outputs": [
    {
     "name": "stdout",
     "output_type": "stream",
     "text": [
      "Data: [[1. 1.]\n",
      " [1. 1.]]\n",
      "Tensor:  tensor([[1., 1.],\n",
      "        [1., 1.]], dtype=torch.float64)\n"
     ]
    }
   ],
   "source": [
    "# we could create tensor based on numpy.ndarray\n",
    "d = np.ones((2, 2))\n",
    "print(\"Data:\", d)\n",
    "\n",
    "d_torch = torch.from_numpy(d)\n",
    "print(\"Tensor: \", d_torch)"
   ]
  },
  {
   "cell_type": "code",
   "execution_count": 17,
   "metadata": {},
   "outputs": [
    {
     "data": {
      "text/plain": [
       "array([[1., 1.],\n",
       "       [1., 1.]])"
      ]
     },
     "execution_count": 17,
     "metadata": {},
     "output_type": "execute_result"
    }
   ],
   "source": [
    "# we could get tensor to ndarray\n",
    "d_array = d_torch.numpy()\n",
    "d_array"
   ]
  },
  {
   "cell_type": "markdown",
   "metadata": {},
   "source": [
    "### Auto Grad\n",
    "\n",
    "The whole logic for deep learning is **Back propagation**, the logic of back propagation is really easy, as what we just want is to change the network parameters as weights and bias to better fit for data, so here is back propagation comes out. Back propagation is just based on the current model loss to change the weights and bias of model with gradient!\n",
    "\n",
    "PyTorch just provides auto gradient based computation, without the math to get the computation funcion! That's why we use **PyTorch**! It will keep track with the whole variable that we want to keep track with gradient, for easy example, support you have a function with `y = x ** 2`, then you will get the gradient function with `grad_y = 2 * x`, PyTorch will help you without computing gradient function.\n",
    "\n",
    " If we want to keep track variable, just set variable with : `requires_grad=True`!"
   ]
  },
  {
   "cell_type": "code",
   "execution_count": 18,
   "metadata": {},
   "outputs": [],
   "source": [
    "x = torch.randn(2, 2, requires_grad=True)"
   ]
  },
  {
   "cell_type": "code",
   "execution_count": 19,
   "metadata": {},
   "outputs": [],
   "source": [
    "# with function computation\n",
    "y = x * x\n",
    "z = y.mean()"
   ]
  },
  {
   "cell_type": "code",
   "execution_count": 20,
   "metadata": {},
   "outputs": [
    {
     "data": {
      "text/plain": [
       "<MeanBackward0 at 0x19829eabeb8>"
      ]
     },
     "execution_count": 20,
     "metadata": {},
     "output_type": "execute_result"
    }
   ],
   "source": [
    "# we could get the gradient function\n",
    "z.grad_fn"
   ]
  },
  {
   "cell_type": "code",
   "execution_count": 21,
   "metadata": {},
   "outputs": [
    {
     "data": {
      "text/plain": [
       "tensor(0.2448, grad_fn=<MeanBackward0>)"
      ]
     },
     "execution_count": 21,
     "metadata": {},
     "output_type": "execute_result"
    }
   ],
   "source": [
    "# we could compute the mean of data\n",
    "z"
   ]
  },
  {
   "cell_type": "code",
   "execution_count": 22,
   "metadata": {},
   "outputs": [],
   "source": [
    "# just call backward on the result scalar\n",
    "z.backward(retain_graph=True)"
   ]
  },
  {
   "cell_type": "code",
   "execution_count": 23,
   "metadata": {},
   "outputs": [
    {
     "data": {
      "text/plain": [
       "tensor([[ 0.0161, -0.3714],\n",
       "        [-0.0197, -0.3259]])"
      ]
     },
     "execution_count": 23,
     "metadata": {},
     "output_type": "execute_result"
    }
   ],
   "source": [
    "# then we could get the gradient of input variable x\n",
    "x.grad"
   ]
  },
  {
   "cell_type": "code",
   "execution_count": 24,
   "metadata": {},
   "outputs": [
    {
     "name": "stdout",
     "output_type": "stream",
     "text": [
      "False\n"
     ]
    }
   ],
   "source": [
    "# in fact, we could also change not to track the gradient\n",
    "with torch.no_grad():\n",
    "    print((x * 2).requires_grad)"
   ]
  },
  {
   "cell_type": "code",
   "execution_count": 25,
   "metadata": {},
   "outputs": [
    {
     "data": {
      "text/plain": [
       "False"
      ]
     },
     "execution_count": 25,
     "metadata": {},
     "output_type": "execute_result"
    }
   ],
   "source": [
    "# or manually set that\n",
    "x.requires_grad = False\n",
    "x.requires_grad"
   ]
  },
  {
   "cell_type": "markdown",
   "metadata": {},
   "source": [
    "### NN network\n",
    "\n",
    "When we use **PyTorch**, what we want to do is to train a deep neural network, no matter for `Dense`, `CNN`, `RNN`, `LSTM`, etc. We could do both of whole these models!\n",
    "\n",
    "But if you have learned deep learning with **Keras**, then you will find that with **PyTorch**, it is more code to make the model, we have to define the model class, with the whole thing step by step, with manually backward, but one thing is really important with **PyTorch** is that it is a dynamical computation graph, not like **TensorFlow** with static graph, means that with PyTorch, we could get the gradient of the trainable varaible right once!"
   ]
  },
  {
   "cell_type": "code",
   "execution_count": 26,
   "metadata": {},
   "outputs": [],
   "source": [
    "# now we could create the model class\n",
    "class Net(nn.Module):\n",
    "    def __init__(self):\n",
    "        super(Net, self).__init__()\n",
    "        self.fc1 = nn.Linear(4, 128)\n",
    "        self.fc2 =  nn.Linear(128, 3)\n",
    "    \n",
    "    def forward(self, x):\n",
    "        x = x.float()   # as I get error when doing prediction, so here with changing x to float, solve it.\n",
    "        x = F.relu(self.fc1(x))\n",
    "        x = F.relu(self.fc2(x))\n",
    "        return x"
   ]
  },
  {
   "cell_type": "code",
   "execution_count": 27,
   "metadata": {},
   "outputs": [
    {
     "data": {
      "text/plain": [
       "Net(\n",
       "  (fc1): Linear(in_features=4, out_features=128, bias=True)\n",
       "  (fc2): Linear(in_features=128, out_features=3, bias=True)\n",
       ")"
      ]
     },
     "execution_count": 27,
     "metadata": {},
     "output_type": "execute_result"
    }
   ],
   "source": [
    "# no that we have created the class, then we could instance the module object\n",
    "network = Net()\n",
    "\n",
    "# we could get the structure of our created model\n",
    "network"
   ]
  },
  {
   "cell_type": "code",
   "execution_count": 28,
   "metadata": {},
   "outputs": [],
   "source": [
    "# here I should create our dataset, here I use iris datasets\n",
    "from sklearn.datasets import load_iris\n",
    "from sklearn.preprocessing import OneHotEncoder\n",
    "\n",
    "x, y = load_iris(return_X_y=True)\n",
    "\n",
    "x_torch = torch.from_numpy(x)\n",
    "\n",
    "### in fact, with so many failer time, that I found that Torch doesn't need the label to be one-hot! \n",
    "### must be integer with long type!!!\n",
    "\n",
    "# # we have to convert the label to 2D\n",
    "# y_one = y[:, np.newaxis]\n",
    "\n",
    "# # we have to convert the integer label to onehot label\n",
    "# y_one = OneHotEncoder().fit_transform(y_one).todense()\n",
    "\n",
    "# print(\"We get data shape:\", x.shape)\n",
    "# print(\"We get label shape:\", y_one.shape)"
   ]
  },
  {
   "cell_type": "code",
   "execution_count": 29,
   "metadata": {},
   "outputs": [
    {
     "data": {
      "text/plain": [
       "tensor([[0.0000, 0.5777, 1.1117],\n",
       "        [0.0000, 0.5620, 1.1007],\n",
       "        [0.0000, 0.5320, 1.0369],\n",
       "        [0.0000, 0.5314, 1.0624],\n",
       "        [0.0000, 0.5666, 1.0866],\n",
       "        [0.0000, 0.6139, 1.2172],\n",
       "        [0.0000, 0.5209, 1.0321],\n",
       "        [0.0000, 0.5723, 1.1183],\n",
       "        [0.0000, 0.5060, 1.0172],\n",
       "        [0.0000, 0.5680, 1.1100]], grad_fn=<SliceBackward>)"
      ]
     },
     "execution_count": 29,
     "metadata": {},
     "output_type": "execute_result"
    }
   ],
   "source": [
    "# now that we have the input and target, we could just first get model prediction\n",
    "pred = network(x_torch)\n",
    "# pred = torch.argmax(pred, axis=1)\n",
    "\n",
    "# we could show first 10 rows of prediction\n",
    "pred[:10]"
   ]
  },
  {
   "cell_type": "code",
   "execution_count": 30,
   "metadata": {},
   "outputs": [],
   "source": [
    "# create cross entropy loss object\n",
    "criterion = nn.CrossEntropyLoss()"
   ]
  },
  {
   "cell_type": "code",
   "execution_count": 31,
   "metadata": {},
   "outputs": [],
   "source": [
    "# we have to change the label to be long torch tensor!!!\n",
    "y = torch.from_numpy(y)\n",
    "y = y.type(torch.LongTensor)"
   ]
  },
  {
   "cell_type": "code",
   "execution_count": 32,
   "metadata": {},
   "outputs": [
    {
     "name": "stdout",
     "output_type": "stream",
     "text": [
      "with loss:  tensor(1.1787, grad_fn=<NllLossBackward>)\n"
     ]
    }
   ],
   "source": [
    "# then we could get the cross entropy loss\n",
    "loss = criterion(pred, y)\n",
    "print(\"with loss: \", loss)"
   ]
  },
  {
   "cell_type": "code",
   "execution_count": 33,
   "metadata": {},
   "outputs": [],
   "source": [
    "# after we get the loss value, then we could backward step to get the gradient\n",
    "# remove zero gradient\n",
    "network.zero_grad()\n",
    "loss.backward()"
   ]
  },
  {
   "cell_type": "code",
   "execution_count": 34,
   "metadata": {},
   "outputs": [
    {
     "data": {
      "text/plain": [
       "Parameter containing:\n",
       "tensor([ 0.0622,  0.1124,  0.0609, -0.4821,  0.4266, -0.4092,  0.3418, -0.1009,\n",
       "        -0.1039, -0.2590, -0.1316,  0.4811, -0.4597,  0.1936,  0.4532, -0.3769,\n",
       "         0.4155, -0.2490,  0.2086, -0.1432,  0.3488, -0.4409,  0.0885,  0.0302,\n",
       "         0.1896, -0.0171, -0.0412,  0.1857,  0.1977,  0.2441,  0.1797,  0.2733,\n",
       "         0.0830,  0.0541,  0.4985, -0.0462, -0.2447,  0.1547, -0.3999,  0.1758,\n",
       "        -0.0660, -0.0808, -0.3470, -0.1462, -0.1865, -0.0264,  0.0938,  0.3955,\n",
       "         0.1729,  0.0742,  0.1185,  0.1957, -0.1785, -0.3614,  0.2351, -0.3249,\n",
       "        -0.4031, -0.0455, -0.1900,  0.3854,  0.0654,  0.1866,  0.3369, -0.1012,\n",
       "        -0.2300, -0.4944,  0.4969, -0.4336, -0.0026, -0.1433,  0.3995,  0.3411,\n",
       "         0.1313, -0.4142, -0.1110, -0.3877, -0.4689,  0.0282,  0.2934,  0.4019,\n",
       "         0.1538,  0.4518, -0.4062,  0.2961,  0.3208, -0.0912, -0.1877,  0.2542,\n",
       "        -0.4610, -0.0915, -0.4290,  0.1753, -0.2683, -0.3372,  0.3836,  0.1601,\n",
       "         0.3169, -0.1439, -0.4595,  0.3716, -0.3397, -0.0226,  0.1316, -0.0893,\n",
       "         0.1929,  0.2808, -0.4560, -0.2636,  0.0342,  0.4783, -0.1907,  0.1767,\n",
       "         0.4520, -0.4159,  0.2181,  0.4338, -0.4091, -0.4182, -0.3198,  0.4299,\n",
       "        -0.4407,  0.4105, -0.4180, -0.1885,  0.0271, -0.4122, -0.3517, -0.2457],\n",
       "       requires_grad=True)"
      ]
     },
     "execution_count": 34,
     "metadata": {},
     "output_type": "execute_result"
    }
   ],
   "source": [
    "# we could check with the bias gradient\n",
    "# so that you could see that with one backward step, the gradient of bais is not 0\n",
    "# means we do find the gradient!\n",
    "network.fc1.bias"
   ]
  },
  {
   "cell_type": "code",
   "execution_count": 35,
   "metadata": {},
   "outputs": [],
   "source": [
    "# then we could do just simple update for whole trainable parameters with w := w - lr * grad_w\n",
    "# but we have to set learning rate\n",
    "learning_rate = .01\n",
    "\n",
    "for f in network.parameters():\n",
    "    f.data.sub_(f.grad.data * learning_rate)"
   ]
  },
  {
   "cell_type": "code",
   "execution_count": 41,
   "metadata": {},
   "outputs": [
    {
     "name": "stdout",
     "output_type": "stream",
     "text": [
      "Epoch: 0 with loss: 0.81\n",
      "Epoch: 5 with loss: 0.80\n",
      "Epoch: 10 with loss: 0.80\n",
      "Epoch: 15 with loss: 0.79\n",
      "Epoch: 20 with loss: 0.78\n",
      "Epoch: 25 with loss: 0.78\n",
      "Epoch: 30 with loss: 0.77\n",
      "Epoch: 35 with loss: 0.77\n",
      "Epoch: 40 with loss: 0.76\n",
      "Epoch: 45 with loss: 0.76\n",
      "Epoch: 50 with loss: 0.75\n",
      "Epoch: 55 with loss: 0.75\n",
      "Epoch: 60 with loss: 0.74\n",
      "Epoch: 65 with loss: 0.74\n",
      "Epoch: 70 with loss: 0.73\n",
      "Epoch: 75 with loss: 0.73\n",
      "Epoch: 80 with loss: 0.72\n",
      "Epoch: 85 with loss: 0.72\n",
      "Epoch: 90 with loss: 0.72\n",
      "Epoch: 95 with loss: 0.71\n"
     ]
    }
   ],
   "source": [
    "# in fact, we could use so more advance optimizer to optimize out model\n",
    "# here I also with many epochs(one epoch means model will see the whole training data!)\n",
    "epochs = 100\n",
    "\n",
    "# other optimizer could also been used! you should pass the model's parameters and the learning rate for that model\n",
    "optimizer = optim.SGD(network.parameters(), lr=.01)\n",
    "\n",
    "# as we have defined what optimizer to use, then we could start our training loop\n",
    "for e in range(epochs):\n",
    "    # remove the zero gradient\n",
    "    optimizer.zero_grad()\n",
    "    # now that we could get model predictiond\n",
    "    pred = network(x_torch)\n",
    "    # then compare the prediction and truth data\n",
    "    loss = criterion(pred, y)\n",
    "    # then we could do backward step\n",
    "    loss.backward()\n",
    "    # after getting the backward gradient, then we could do our optimizer step to update our parameters\n",
    "    optimizer.step()\n",
    "    if e % 5 == 0:\n",
    "        print(\"Epoch: %d with loss: %.2f\" % (e, loss))\n",
    "        \n",
    "# as you could see that we do make the loss to be lower by using the advanced optimizer! so great!"
   ]
  },
  {
   "cell_type": "code",
   "execution_count": 82,
   "metadata": {},
   "outputs": [
    {
     "name": "stdout",
     "output_type": "stream",
     "text": [
      "data shape: (1797, 64)\n",
      "label unique: [0 1 2 3 4 5 6 7 8 9]\n",
      "model strcture: NetDense(\n",
      "  (fc1): Linear(in_features=64, out_features=512, bias=True)\n",
      "  (fc2): Linear(in_features=512, out_features=10, bias=True)\n",
      ")\n"
     ]
    },
    {
     "name": "stderr",
     "output_type": "stream",
     "text": [
      "C:\\Users\\Public\\anaconda\\lib\\site-packages\\ipykernel_launcher.py:48: UserWarning: Implicit dimension choice for softmax has been deprecated. Change the call to include dim=X as an argument.\n"
     ]
    },
    {
     "name": "stdout",
     "output_type": "stream",
     "text": [
      "Epoch : 0 with training loss: 2.31, with testing loss: 2.25\n",
      "Epoch : 10 with training loss: 2.10, with testing loss: 2.09\n",
      "Epoch : 20 with training loss: 1.95, with testing loss: 2.00\n",
      "Epoch : 30 with training loss: 1.86, with testing loss: 1.87\n",
      "Epoch : 40 with training loss: 1.82, with testing loss: 1.85\n",
      "Epoch : 50 with training loss: 1.81, with testing loss: 1.85\n",
      "Epoch : 60 with training loss: 1.81, with testing loss: 1.84\n",
      "Epoch : 70 with training loss: 1.80, with testing loss: 1.84\n",
      "Epoch : 80 with training loss: 1.80, with testing loss: 1.84\n",
      "Epoch : 90 with training loss: 1.80, with testing loss: 1.84\n",
      "train accuracy:  0.6965901183020181\n",
      "test accuracy:  0.6472222222222223\n"
     ]
    },
    {
     "data": {
      "image/png": "[encoded data removed]",
      "text/plain": [
       "<Figure size 432x288 with 1 Axes>"
      ]
     },
     "metadata": {},
     "output_type": "display_data"
    }
   ],
   "source": [
    "# one more thing, as you train the deep learning models, you should focus on the training accuracy\n",
    "# and evaluate the model based on the test data to plot the training accuracy and test loss curve\n",
    "# to find out whether our model is overfitting or underfitting (really important for evaluate the generalization of model!)\n",
    "\n",
    "# here I just create a whole new class for classification problem for sklearn digits problems(0 - 9 numbers)\n",
    "# also with train and test data to evaluate model in one cell\n",
    "from sklearn.datasets import load_digits\n",
    "from sklearn.model_selection import train_test_split\n",
    "import matplotlib.pyplot as plt\n",
    "from matplotlib import style\n",
    "\n",
    "# want to plot a beautiful graph\n",
    "style.use('ggplot')\n",
    "\n",
    "# ----------------------------\n",
    "# 1. load data and make data to pytorch tensor\n",
    "# ----------------------------\n",
    "\n",
    "x, y = load_digits(return_X_y=True)\n",
    "print(\"data shape:\", x.shape)\n",
    "print(\"label unique:\", np.unique(y))\n",
    "\n",
    "xtrain, xtest, ytrain, ytest = train_test_split(x, y, test_size=.2, random_state=1234)\n",
    "\n",
    "# convert numpy ndarray to PyTorch tensor\n",
    "xtrain = torch.from_numpy(xtrain)\n",
    "ytrain = torch.from_numpy(ytrain)\n",
    "ytrain = ytrain.type(torch.LongTensor)    # change the label to long type\n",
    "\n",
    "xtest = torch.from_numpy(xtest)\n",
    "ytest = torch.from_numpy(ytest)\n",
    "ytest = ytest.type(torch.LongTensor)    # change the label to long type\n",
    "\n",
    "# ------------------------\n",
    "# 2. create model class and instance model\n",
    "# ------------------------\n",
    "\n",
    "# create a new module with feedwark network as just with dense layers\n",
    "# this is how many units in each layer! this is really important! you could try different units, really will affact the result!\n",
    "hidden_units = 512   \n",
    "\n",
    "class NetDense(nn.Module):\n",
    "    def __init__(self):\n",
    "        super(NetDense, self).__init__()\n",
    "        self.fc1 = nn.Linear(x.shape[1], hidden_units)\n",
    "        self.fc2 = nn.Linear(hidden_units, len(np.unique(y)))\n",
    "        \n",
    "    def forward(self, x):\n",
    "        x = x.float()    # change data types\n",
    "        x = F.relu(self.fc1(x))\n",
    "        x = F.relu(self.fc2(x))    # this will return the logits result\n",
    "        x = F.softmax(x)   # this will change the model logits sum to 1 with softmax function\n",
    "        return x     # you have to return the result! as the model call forward step, we have to get the result from the model\n",
    "\n",
    "# as we have created out model, first should create our model object\n",
    "model = NetDense()\n",
    "# show our model\n",
    "print(\"model strcture:\", model)\n",
    "\n",
    "# ---------------------\n",
    "# 3. instance the optimizer and evaluation object\n",
    "# ---------------------\n",
    "\n",
    "#so here we could choose our opimitimizer, as the adam optimizer is an advance method \n",
    "# to change its' learning rate dynamic\n",
    "# but I set the learning rate too high, then the loss doesn't go down! \n",
    "# so you should try with the best learning rate using cross-validation!\n",
    "optimizer = optim.Adam(model.parameters(), lr=.005)     \n",
    "# optimizer = optim.SGD(model.parameters(), lr=.01)\n",
    "\n",
    "# what criterian that we should use for evaluating our model\n",
    "# as we are doing multi-class problem, we should use cross-entropy = - sum(y * log(y))\n",
    "criterion = nn.CrossEntropyLoss()\n",
    "\n",
    "# how many epochs that we want the model to see\n",
    "epochs = 100\n",
    "\n",
    "train_loss_list = []\n",
    "test_loss_list = []\n",
    "\n",
    "p = model(xtrain)\n",
    "\n",
    "# ----------------------\n",
    "# 4. start training and get the loss for both train and test data\n",
    "# ----------------------\n",
    "\n",
    "# then we could start our training loop\n",
    "for e in range(epochs):\n",
    "    # get prediction of our model based on the training data\n",
    "    pred_train = model(xtrain)\n",
    "    # get loss\n",
    "    loss_train = criterion(pred_train, ytrain)\n",
    "    train_loss_list.append(loss_train)\n",
    "    \n",
    "    # after we get our training loss, then we could do backward step to compute our loss\n",
    "    optimizer.zero_grad()\n",
    "    loss_train.backward()\n",
    "    \n",
    "    # after we have get our training loss, then we could update our model parameters \n",
    "    # according to our training loss \n",
    "    optimizer.step()\n",
    "    \n",
    "    # then we should evaluate our trained model for test data\n",
    "    pred_test = model(xtest)\n",
    "    loss_test = criterion(pred_test, ytest)\n",
    "    test_loss_list.append(loss_test)\n",
    "    \n",
    "    if e % 10 == 0:\n",
    "        print(\"Epoch : %d with training loss: %.2f, with testing loss: %.2f\" % (e, loss_train, loss_test))\n",
    "        \n",
    "# --------------------\n",
    "# 5. get model train accuracy and test accuracy\n",
    "# --------------------\n",
    "\n",
    "# after the model has been trained, \n",
    "# so we want to evaluate the model accuracy on both the train and test data\n",
    "pred_train = model(xtrain)\n",
    "pred_test = model(xtest)\n",
    "# you have to remember that for train and test prediction is probability, \n",
    "# we have to change the proba to classes and we want to use numpy to compute accuracy\n",
    "pred_train = torch.argmax(pred_train, axis=1)\n",
    "pred_test = torch.argmax(pred_test, axis=1)\n",
    "\n",
    "print(\"train accuracy: \", torch.sum(pred_train == ytrain).numpy() / ytrain.size()[0])\n",
    "print(\"test accuracy: \", torch.sum(pred_test == ytest).numpy() / ytest.size()[0])\n",
    "\n",
    "# ------------------\n",
    "# 6. plot the training and testing loss curve\n",
    "# ------------------\n",
    "\n",
    "# after the training step finished, then we could plot the training loss and testing loss in one graph, \n",
    "# so that we could figure out what is going on during the training step\n",
    "plt.plot(range(len(train_loss_list)), train_loss_list, label='training_loss')\n",
    "plt.plot(range(len(test_loss_list)), test_loss_list, label='testing_loss')\n",
    "\n",
    "plt.title('train and test loss')\n",
    "plt.xlabel(\"Epochs\")\n",
    "plt.ylabel('losses')\n",
    "\n",
    "plt.legend()\n",
    "plt.show()"
   ]
  },
  {
   "cell_type": "markdown",
   "metadata": {},
   "source": [
    "As you could see that we do train our model learning something in the training data, but you could see that for both training and test data is really low, but we could use more advanced algorithms that could fix this problem better!\n",
    "\n",
    "But the important thing is to figure out how to solve the problem!"
   ]
  },
  {
   "cell_type": "markdown",
   "metadata": {},
   "source": [
    "### CNN in PyTorch\n",
    "\n",
    "As deep learning is famous in image, voice, natural language or something else, so here I just to show use case for CNN module for Image, like if you want to classify an image is a cat or dog, this is called: `Classification` problem.\n",
    "\n",
    "As PyTorch provides computer vision module called `torchvision` to load data, process data and some useful transformation steps, so here just use `torchvision` module. There are many predefined useful funcationality in `torchvision`, we will step by step."
   ]
  },
  {
   "cell_type": "code",
   "execution_count": 83,
   "metadata": {},
   "outputs": [],
   "source": [
    "import torchvision\n",
    "import torchvision.transforms as transforms"
   ]
  },
  {
   "cell_type": "code",
   "execution_count": 86,
   "metadata": {},
   "outputs": [
    {
     "name": "stdout",
     "output_type": "stream",
     "text": [
      "Files already downloaded and verified\n",
      "Files already downloaded and verified\n"
     ]
    }
   ],
   "source": [
    "# here we will download the CIFAR 10 examples, there are 10 classes images\n",
    "# I will show you later, as the data download is from 0 to 1, but we need to make the data to -1 to 1\n",
    "# so we should first define the transform\n",
    "transform = transforms.Compose([transforms.ToTensor(), transforms.Normalize((.5, .5, .5), (.5, .5, .5))])\n",
    "\n",
    "# then we should download data and load data\n",
    "traindata = torchvision.datasets.CIFAR10(root='./data', train=True, download=True, transform=transform)\n",
    "testdata = torchvision.datasets.CIFAR10(root='./data', train=True, download=True, transform=transform)\n",
    "\n",
    "trainloader = torch.utils.data.DataLoader(traindata, batch_size=4, shuffle=True, num_workers=2)\n",
    "testloader = torch.utils.data.DataLoader(testdata, batch_size=4, shuffle=False, num_workers=2)\n",
    "\n",
    "classes = ('plane', 'car', 'bird', 'cat',\n",
    "           'deer', 'dog', 'frog', 'horse', 'ship', 'truck')"
   ]
  },
  {
   "cell_type": "code",
   "execution_count": 92,
   "metadata": {},
   "outputs": [
    {
     "data": {
      "image/png": "[encoded data removed]",
      "text/plain": [
       "<Figure size 432x288 with 1 Axes>"
      ]
     },
     "metadata": {},
     "output_type": "display_data"
    },
    {
     "name": "stdout",
     "output_type": "stream",
     "text": [
      "       cat       plane       plane        deer \n"
     ]
    }
   ],
   "source": [
    "# then we could plot some data samples to show\n",
    "def imshow(image):\n",
    "    image = image / 2 + .5   # unnormalize the data\n",
    "    image = image.numpy()   # convert tensor to numpy ndarray\n",
    "    plt.imshow(np.transpose(image, (1, 2, 0)))\n",
    "    plt.show()\n",
    "\n",
    "# we could iterate data \n",
    "data_rand = iter(trainloader)\n",
    "images, labels = data_rand.next()   # as we set the batch_size to 4, so here for both images and labels are 4 records\n",
    "\n",
    "show_images = torchvision.utils.make_grid(images)\n",
    "\n",
    "imshow(show_images)\n",
    "\n",
    "# get the label\n",
    "print(\" \".join(\"%10s \" % (classes[labels[j]]) for j in range(4)))\n",
    "\n",
    "# as the images really contain some objects"
   ]
  },
  {
   "cell_type": "code",
   "execution_count": 98,
   "metadata": {},
   "outputs": [
    {
     "name": "stdout",
     "output_type": "stream",
     "text": [
      "Model:  CNNNet(\n",
      "  (conv1): Conv2d(3, 6, kernel_size=(5, 5), stride=(1, 1))\n",
      "  (pool): MaxPool2d(kernel_size=2, stride=2, padding=0, dilation=1, ceil_mode=False)\n",
      "  (conv2): Conv2d(6, 16, kernel_size=(5, 5), stride=(1, 1))\n",
      "  (fc1): Linear(in_features=400, out_features=128, bias=True)\n",
      "  (fc2): Linear(in_features=128, out_features=64, bias=True)\n",
      "  (fc3): Linear(in_features=64, out_features=10, bias=True)\n",
      ")\n"
     ]
    },
    {
     "name": "stderr",
     "output_type": "stream",
     "text": [
      "C:\\Users\\Public\\anaconda\\lib\\site-packages\\ipykernel_launcher.py:20: UserWarning: Implicit dimension choice for softmax has been deprecated. Change the call to include dim=X as an argument.\n"
     ]
    },
    {
     "name": "stdout",
     "output_type": "stream",
     "text": [
      "[Epochs: 1, 0 samples] with this epoch loss: 0.00\n",
      "[Epochs: 1, 2000 samples] with this epoch loss: 2.30\n",
      "[Epochs: 1, 4000 samples] with this epoch loss: 2.30\n",
      "[Epochs: 1, 6000 samples] with this epoch loss: 2.30\n",
      "[Epochs: 1, 8000 samples] with this epoch loss: 2.23\n",
      "[Epochs: 1, 10000 samples] with this epoch loss: 2.17\n",
      "[Epochs: 1, 12000 samples] with this epoch loss: 2.14\n",
      "[Epochs: 2, 0 samples] with this epoch loss: 0.00\n",
      "[Epochs: 2, 2000 samples] with this epoch loss: 2.11\n",
      "[Epochs: 2, 4000 samples] with this epoch loss: 2.09\n",
      "[Epochs: 2, 6000 samples] with this epoch loss: 2.07\n",
      "[Epochs: 2, 8000 samples] with this epoch loss: 2.07\n",
      "[Epochs: 2, 10000 samples] with this epoch loss: 2.06\n",
      "[Epochs: 2, 12000 samples] with this epoch loss: 2.05\n",
      "[Epochs: 3, 0 samples] with this epoch loss: 0.00\n",
      "[Epochs: 3, 2000 samples] with this epoch loss: 2.04\n",
      "[Epochs: 3, 4000 samples] with this epoch loss: 2.05\n",
      "[Epochs: 3, 6000 samples] with this epoch loss: 2.05\n",
      "[Epochs: 3, 8000 samples] with this epoch loss: 2.06\n",
      "[Epochs: 3, 10000 samples] with this epoch loss: 2.06\n",
      "[Epochs: 3, 12000 samples] with this epoch loss: 2.07\n",
      "whole training step finished!\n"
     ]
    }
   ],
   "source": [
    "# -------------------\n",
    "# here we should create a class to process the image\n",
    "# -------------------\n",
    "class CNNNet(nn.Module):\n",
    "    def __init__(self):\n",
    "        super(CNNNet, self).__init__()\n",
    "        # Conv2d: 3 means input channels (as we have 3 D data); 6 means kernals number; 5 means kernel size\n",
    "        # so this is just means how many channels we have, how many kernels that you use and how big the kernel.\n",
    "        self.conv1 = nn.Conv2d(3, 6, 5)\n",
    "        self.pool = nn.MaxPool2d(2, 2)\n",
    "        self.conv2 = nn.Conv2d(6, 16, 5)\n",
    "        self.fc1 = nn.Linear(16 * 5 * 5, 128)\n",
    "        self.fc2 = nn.Linear(128, 64)\n",
    "        self.fc3 = nn.Linear(64, 10)\n",
    "    \n",
    "    def forward(self, x):\n",
    "        x = self.pool(F.relu(self.conv1(x)))\n",
    "        x = self.pool(F.relu(self.conv2(x)))\n",
    "        x = x.view(-1, 16 * 5 * 5)   # flatten the data\n",
    "        x = F.relu(self.fc1(x))\n",
    "        x = F.relu(self.fc2(x))\n",
    "        x = F.softmax(self.fc3(x))\n",
    "        return x\n",
    "\n",
    "model = CNNNet()\n",
    "print(\"Model: \", model)\n",
    "\n",
    "# ---------------------\n",
    "# start training \n",
    "# ---------------------\n",
    "\n",
    "# then we should define our optimizer, also with momentum for faster training\n",
    "optimizer = optim.SGD(model.parameters(), lr=.002, momentum=.9)\n",
    "# also define the criterion that we should take, as this is multi-class problem, so we should use cross-entropy\n",
    "criterion = nn.CrossEntropyLoss()\n",
    "\n",
    "# after we have defined the whole things, then we could start our training step\n",
    "epochs = 3\n",
    "for e in range(epochs):\n",
    "    # whole loss for each epoch\n",
    "    running_loss = .0\n",
    "    for i, data in enumerate(trainloader):\n",
    "        # means that we will make our model with each image and update the weights!\n",
    "        # one time one image\n",
    "        input_data, label = data\n",
    "        \n",
    "        # we should remove the zero gradient\n",
    "        optimizer.zero_grad()\n",
    "        \n",
    "        # we could get the prediction\n",
    "        pred_train = model(input_data)\n",
    "        # as we get the prediction, we should get the loss\n",
    "        loss_train = criterion(pred_train, label)\n",
    "        # backward step\n",
    "        loss_train.backward()\n",
    "        # update the model parameters\n",
    "        optimizer.step()\n",
    "        \n",
    "        # then we should add the current image loss with total loss\n",
    "        running_loss += loss_train.item()\n",
    "        \n",
    "        # print loss\n",
    "        if i % 2000 == 0:\n",
    "            print(\"[Epochs: %d, %d samples] with this epoch loss: %.2f\" % (e + 1, i, running_loss / 2000))\n",
    "            running_loss = .0\n",
    "\n",
    "print(\"whole training step finished!\")"
   ]
  },
  {
   "cell_type": "markdown",
   "metadata": {},
   "source": [
    "##### Noticed thing\n",
    "As you could see that during the 2 epochs, the model's loss is continously descreas, but the model will make more wrong choice for 3th epoch, what does this means? The whole training is based on train data, but why the training loss will go high?\n",
    "\n",
    "One thing should be noticed that each time to process the data, we will shuffle our data! but this shouldn't be the reason why our model go wrong than before. I guess that this is because of the our model's capacity is really small that we couldn't learn the whole inherent logic in our training data, if possible we should add more kernles."
   ]
  },
  {
   "cell_type": "code",
   "execution_count": 107,
   "metadata": {},
   "outputs": [
    {
     "name": "stderr",
     "output_type": "stream",
     "text": [
      "C:\\Users\\Public\\anaconda\\lib\\site-packages\\ipykernel_launcher.py:20: UserWarning: Implicit dimension choice for softmax has been deprecated. Change the call to include dim=X as an argument.\n"
     ]
    },
    {
     "name": "stdout",
     "output_type": "stream",
     "text": [
      "Train data accuracy: 40.06 %\n",
      "Test data accuracy: 40.06 %\n"
     ]
    }
   ],
   "source": [
    "# as we have trained our model, so here we should get our test data accuracy based on our trained model\n",
    "total_test = 0\n",
    "correct_pred_test = 0\n",
    "\n",
    "# as we don't need to change the model's parameters, so we should change the model parameters with no_grad\n",
    "with torch.no_grad():\n",
    "    # then we could iterater the whole test dataset\n",
    "    for data in testloader:\n",
    "        images, labels = data\n",
    "        outputs = model(images)\n",
    "        _, pred = torch.max(outputs.data, 1)    # get the prediction\n",
    "        total_test += labels.size()[0]\n",
    "        correct_pred_test += (pred == labels).sum().item()  # this should based on the bach label, as prediction will be 4D\n",
    "        \n",
    "# here I also want to know how good model perform on train data\n",
    "total_train = 0\n",
    "correct_pred_train = 0\n",
    "\n",
    "with torch.no_grad():\n",
    "    for data in trainloader:\n",
    "        images, labels = data\n",
    "        outputs = model(images)\n",
    "        _, pred = torch.max(outputs.data, 1)\n",
    "        total_train += labels.size()[0]\n",
    "        correct_pred_train += (pred == labels).sum().item()\n",
    "\n",
    "print(\"Train data accuracy: %.2f %s\" % ((correct_pred_train / total_train) * 100, \"%\"))\n",
    "print(\"Test data accuracy: %.2f %s\" % ((correct_pred_test / total_test) * 100, \"%\"))\n",
    "\n",
    "# as you could see that you just get 40% accuracy on test data, not good, \n",
    "# you should tune the model parameters as you want\n",
    "# But how could this happen? both train accuracy and test accuracy same with each other?"
   ]
  },
  {
   "cell_type": "markdown",
   "metadata": {},
   "source": [
    "### Final words\n",
    "\n",
    "This is the end of **PyTorch** tutorial, I think I will write more implements for both basic model structures and deep learning model structure implement with **PyTorch**, as I would also write tutorials for **TensorFlow**, so please keep patient, I will try my best to implement more things with deep learning modules.\n",
    "\n",
    "**Practice will be the only way to learn things!**"
   ]
  },
  {
   "cell_type": "code",
   "execution_count": null,
   "metadata": {},
   "outputs": [],
   "source": []
  }
 ],
 "metadata": {
  "kernelspec": {
   "display_name": "Python 3",
   "language": "python",
   "name": "python3"
  },
  "language_info": {
   "codemirror_mode": {
    "name": "ipython",
    "version": 3
   },
   "file_extension": ".py",
   "mimetype": "text/x-python",
   "name": "python",
   "nbconvert_exporter": "python",
   "pygments_lexer": "ipython3",
   "version": "3.6.5"
  }
 },
 "nbformat": 4,
 "nbformat_minor": 2
}
