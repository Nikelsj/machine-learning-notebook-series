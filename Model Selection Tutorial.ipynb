{
 "cells": [
  {
   "cell_type": "markdown",
   "metadata": {},
   "source": [
    "### Model Selection\n",
    "\n",
    "In fact, when we are given a datasets, what the standard step for the machine learning parts should follow the bellow step:\n",
    "\n",
    "   1. Data clearning\n",
    "   2. Data exploration\n",
    "   3. Data preprocessing\n",
    "   4. Baseline model building\n",
    "   5. Algorithms chosen and model training\n",
    "   6. Model evaluation\n",
    "   7. Model tuning\n",
    "   8. Model saving\n",
    "   9. Model deployment\n",
    "  \n",
    "These is the general step that you should take, but I have make the parts more clearly. You have to know that the most important part is the feature engineering step aka preprossing part! Feature engineering is the upper bound of algorithms. But this tutorial will guide you with the model selection part, as we have so many algorithms that we could use and we have so many parameters that we could tune during the training step, so how to find the best model and parameters are the most important part after we have processed data(as you know that after we process the data, the feature space is fixed!)\n",
    "\n",
    "For the model selection part, it contains 4 parts: \n",
    "\n",
    "   1. cross-validation\n",
    "   2. model parameter selection\n",
    "   3. model evalution\n",
    "   4. model storation\n",
    "   \n",
    "I will show you each step with examples.\n",
    "Here we go..."
   ]
  },
  {
   "cell_type": "markdown",
   "metadata": {},
   "source": [
    "### 1. Cross-validation\n",
    "\n",
    "What is cross-validation? The thing is that for the data we could use, one thing you should know is that if we get more and more data, then we could get a better model in fact, as the data gives us more chance to express more insight in the data! \n",
    "\n",
    "But we couldn't just use the whole data to train our model and use the data to evaluate our model, as the model has seen the data before, so the model will just give the perfect result of our train data, so we should split the data to 3 parts: `train data`, `validation data` and `test data`, we could use the `train data` to train our model and use the `validation data` to evaluate our various models(many different models), the `test data` should just use once!!! after we have decided to use which model(important!)\n",
    "\n",
    "But you will know that we couldn't use the whole data, but can we use as much as data we can to fit the model? Here is cross-validation come out! Cross-validation is to split the train data to be `cv` parts(cv is integer number), then we could use `cv -1` parts to train our model and use `1` the rest part to evaluate our model parameters, you have to know that cross-validation is really time consuming, as you choose one piece of parameters of one algorithm, then you have to fit the model with `cv` times! But it is worthy! as using the cross-validation will reduce the variance of the model parameters also we use more data to train our model. \n",
    "\n",
    "Here I will show you how to use the cross-validation in sklearn."
   ]
  },
  {
   "cell_type": "code",
   "execution_count": 2,
   "metadata": {},
   "outputs": [],
   "source": [
    "# import modules\n",
    "import numpy as np\n",
    "import matplotlib.pyplot as plt\n",
    "import warnings\n",
    "from sklearn.model_selection import train_test_split, cross_val_predict, cross_val_score, cross_validate\n",
    "from sklearn import metrics\n",
    "from sklearn.linear_model import LogisticRegression\n",
    "from sklearn.datasets import load_iris\n",
    "\n",
    "warnings.simplefilter('ignore')\n",
    "\n",
    "x, y = load_iris(return_X_y=True)\n",
    "\n",
    "# first we should split the data to train and test, \n",
    "# in fact we should use split the train data to train and validation parts\n",
    "# but as the data is really small, you should do this in future work.\n",
    "xtrain, xtest, ytrain, ytest = train_test_split(x, y, test_size=.2, random_state=1234)"
   ]
  },
  {
   "cell_type": "code",
   "execution_count": 3,
   "metadata": {},
   "outputs": [
    {
     "name": "stdout",
     "output_type": "stream",
     "text": [
      "score:  0.9666666666666667\n"
     ]
    }
   ],
   "source": [
    "# use the lr model without any parameter tuning and validation\n",
    "lr = LogisticRegression()\n",
    "lr.fit(xtrain, ytrain)\n",
    "\n",
    "# compute the score on the testing data.\n",
    "print('score: ', lr.score(xtest, ytest))"
   ]
  },
  {
   "cell_type": "code",
   "execution_count": 7,
   "metadata": {},
   "outputs": [
    {
     "name": "stdout",
     "output_type": "stream",
     "text": [
      "with 10 times cv, model score list:\n",
      "[0.92857143 0.92307692 1.         0.83333333 0.83333333 0.83333333\n",
      " 1.         0.90909091 1.         1.        ]\n",
      "mean model accuracy: 0.9261 (with std +/- 0.07)\n"
     ]
    }
   ],
   "source": [
    "# so here we should use the cross-validation to evaluate our default parameters\n",
    "# sklearn provides us with 3 types: cross_val_predict, cross_val_score, cross_validate;\n",
    "# in fact, there are almost same with each other, but with different use case, logic is same\n",
    "# Tips: cross-validation use 5-folds and 10-folds most common!\n",
    "\n",
    "# first use the cross_val_score\n",
    "cv_scores = cross_val_score(estimator=lr, X=xtrain, y=ytrain, cv=10)\n",
    "\n",
    "print('with 10 times cv, model score list:')\n",
    "print(cv_scores)\n",
    "\n",
    "# not good as before, but we don't have too much variance. really small variance.\n",
    "# about what is variance in machine learning, if you ask me, I will tell you\n",
    "print('mean model accuracy: %.4f (with std +/- %.2f)' % (np.mean(cv_scores), np.std(cv_scores)))"
   ]
  },
  {
   "cell_type": "code",
   "execution_count": 8,
   "metadata": {},
   "outputs": [
    {
     "name": "stdout",
     "output_type": "stream",
     "text": [
      "with 10 times cv, model score list:\n",
      "[0.91666667 0.95833333 0.95833333 0.83333333 1.         0.79166667\n",
      " 0.875      1.         1.         0.95833333]\n",
      "mean model accuracy: 0.9292 (with std +/- 0.07)\n"
     ]
    }
   ],
   "source": [
    "# in fact, we could even shuffle（打乱） our train data to get a more robust(鲁棒性) model(means better model)\n",
    "from sklearn.model_selection import ShuffleSplit\n",
    "\n",
    "# ShuffleSplit will split the data after shuffle the data\n",
    "# cv object is the the shuffle iterator result\n",
    "cv = ShuffleSplit(n_splits=10, test_size=.2, random_state=1234)\n",
    "\n",
    "cv_scores = cross_val_score(estimator=lr, X=xtrain, y=ytrain, cv=cv)\n",
    "\n",
    "print('with 10 times cv, model score list:')\n",
    "print(cv_scores)\n",
    "\n",
    "# not too much variance with above result(you know what? as the default is also shuffle the data.)\n",
    "print('mean model accuracy: %.4f (with std +/- %.2f)' % (np.mean(cv_scores), np.std(cv_scores)))"
   ]
  },
  {
   "cell_type": "markdown",
   "metadata": {},
   "source": [
    "#### Pipeline(管道)\n",
    "\n",
    "Sequeece the whole step with one object. in fact, you have learned the preproessing step to process the data like StandardScaler to make the data to be a normal distributin by with (x - x.mean(axis=0)) / x.std(axis=0).\n",
    "\n",
    "what if we want to first standard the data, then evluate the model.you could just use the manually step to init the standard object and the lr object and fit and you will use the standard model to transform the test data and predict the test data. \n",
    "But there is a more effecient way to do this by using the pipeline. I will show you the both way.\n",
    "\n",
    "The reason we use the pipeline is that when there are so many steps that we take like: Onehot-> standard-> lr -> ..., so we could combine the whole thing to be one."
   ]
  },
  {
   "cell_type": "code",
   "execution_count": 11,
   "metadata": {},
   "outputs": [
    {
     "name": "stdout",
     "output_type": "stream",
     "text": [
      "test accuracy: 0.9333333333333333\n"
     ]
    }
   ],
   "source": [
    "# manaull step\n",
    "from sklearn.preprocessing import StandardScaler\n",
    "\n",
    "scaler = StandardScaler()\n",
    "scaler.fit(xtrain)\n",
    "\n",
    "xtrain_scaler = scaler.transform(xtrain)\n",
    "\n",
    "# xtest should also use the same scaler with fitted on the training data.\n",
    "xtest_scaler = scaler.transform(xtest)\n",
    "\n",
    "# fit and evaluate\n",
    "lr = LogisticRegression()\n",
    "lr.fit(xtrain_scaler, ytrain)\n",
    "\n",
    "print('test accuracy:', lr.score(xtest_scaler, ytest))"
   ]
  },
  {
   "cell_type": "code",
   "execution_count": 16,
   "metadata": {},
   "outputs": [
    {
     "name": "stdout",
     "output_type": "stream",
     "text": [
      "pipeline accuracy: 0.9333333333333333\n"
     ]
    }
   ],
   "source": [
    "# with the pipeline to combine the whole step with one\n",
    "from sklearn.pipeline import make_pipeline\n",
    "from sklearn.preprocessing import StandardScaler\n",
    "\n",
    "# init the object that we need to use.\n",
    "scaler = StandardScaler()\n",
    "lr = LogisticRegression()\n",
    "\n",
    "# combine into one pipeline object\n",
    "pipe = make_pipeline(scaler, lr)\n",
    "\n",
    "# fit the data by standard data then use lr, just use the pipe object will be fine\n",
    "pipe.fit(xtrain, ytrain)\n",
    "\n",
    "# evaluate on test data\n",
    "# same result as before.\n",
    "print('pipeline accuracy:', pipe.score(xtest, ytest))"
   ]
  },
  {
   "cell_type": "markdown",
   "metadata": {},
   "source": [
    "#### Cross_validate \n",
    "\n",
    "The cross_validate is same use case like cross_val_score, the only difference is two: `1. it could use multiple metrics function; 2. it also return the fit time and test time with other info`. The use case is really easy."
   ]
  },
  {
   "cell_type": "code",
   "execution_count": 27,
   "metadata": {},
   "outputs": [
    {
     "name": "stdout",
     "output_type": "stream",
     "text": [
      "with 10 times cv, model score list:\n",
      "{'fit_time': array([0.00199437, 0.00099659, 0.00097561, 0.00099754, 0.00099802,\n",
      "       0.00098944, 0.00099421, 0.        , 0.00098443, 0.00099754]), 'score_time': array([0.00199389, 0.        , 0.00099921, 0.00099635, 0.00099754,\n",
      "       0.00099707, 0.        , 0.00100994, 0.        , 0.        ]), 'test_acc': array([0.92857143, 0.92307692, 1.        , 0.83333333, 0.83333333,\n",
      "       0.83333333, 1.        , 0.90909091, 1.        , 1.        ]), 'train_acc': array([0.94339623, 0.93457944, 0.93518519, 0.93518519, 0.93518519,\n",
      "       0.94444444, 0.93518519, 0.93577982, 0.93577982, 0.9266055 ]), 'test_f1_micro': array([0.92857143, 0.92307692, 1.        , 0.83333333, 0.83333333,\n",
      "       0.83333333, 1.        , 0.90909091, 1.        , 1.        ]), 'train_f1_micro': array([0.94339623, 0.93457944, 0.93518519, 0.93518519, 0.93518519,\n",
      "       0.94444444, 0.93518519, 0.93577982, 0.93577982, 0.9266055 ])}\n",
      "****************************************\n",
      "mean model accuracy: 0.9261 (with std +/- 0.07)\n",
      "****************************************\n",
      "whole returned metrics:  ['fit_time', 'score_time', 'test_acc', 'test_f1_micro', 'train_acc', 'train_f1_micro']\n",
      "micro recall score of the cv result:  0.926073926073926\n"
     ]
    }
   ],
   "source": [
    "# use more metrics for evaluation\n",
    "# (this should notice that we could not only use the accuracy to evaluate the model but also others)\n",
    "from sklearn.metrics import f1_score\n",
    "from sklearn.metrics.scorer import make_scorer\n",
    "scoring = {'acc':'accuracy', \n",
    "           'f1_micro':make_scorer(f1_score, average='micro')}\n",
    "\n",
    "cv_scores = cross_validate(estimator=lr, X=xtrain, y=ytrain, cv=10, scoring=scoring)\n",
    "\n",
    "print('with 10 times cv, model score list:')\n",
    "print(cv_scores)\n",
    "\n",
    "print('*'* 40)\n",
    "# not too much variance with above result(you know what? as the default is also shuffle the data.)\n",
    "print('mean model accuracy: %.4f (with std +/- %.2f)' % (np.mean(cv_scores['test_acc']), np.std(cv_scores['test_acc'])))\n",
    "\n",
    "print('*' * 40)\n",
    "# here are some other info\n",
    "print('whole returned metrics: ', sorted(cv_scores.keys()))\n",
    "\n",
    "print('micro recall score of the cv result: ', cv_scores['test_f1_micro'].mean())"
   ]
  },
  {
   "cell_type": "markdown",
   "metadata": {},
   "source": [
    "#### cross_val_predict\n",
    "\n",
    "This function is just to get the prediction by using the whole training data and get the prediction of the whole training data, not use too much, but you could know it."
   ]
  },
  {
   "cell_type": "code",
   "execution_count": 29,
   "metadata": {},
   "outputs": [
    {
     "name": "stdout",
     "output_type": "stream",
     "text": [
      "cv prediction first 10 samples:  [1 2 0 2 2 0 0 0 0 1]\n",
      "Truth first 10 sample:  [1 2 0 2 1 0 0 0 0 1]\n",
      "training step accuracy:  0.925\n"
     ]
    }
   ],
   "source": [
    "pred_cv_train = cross_val_predict(estimator=lr, X=xtrain, y=ytrain, cv=10)\n",
    "\n",
    "print('cv prediction first 10 samples: ', pred_cv_train[:10])\n",
    "print('Truth first 10 sample: ', ytrain[:10])\n",
    "\n",
    "# we could evaluate the training accuracy in fact\n",
    "print('training step accuracy: ', metrics.accuracy_score(ytrain, pred_cv_train))"
   ]
  },
  {
   "cell_type": "markdown",
   "metadata": {},
   "source": [
    "#### Tips\n",
    "\n",
    "In fact there are so many functionalities in the sklearn, but the most common use case is as up show you, if you have any time, you could check with sklearn official website for cross-valiation [cross-validation](https://scikit-learn.org/stable/modules/cross_validation.html).\n",
    "\n",
    "But I just recommend that you should first have the ability to use the cross-validation!"
   ]
  },
  {
   "cell_type": "markdown",
   "metadata": {},
   "source": [
    "### 2. Model hyper-parameters tuning\n",
    "\n",
    "In fact, I have finished the another tutorial base on the parameters tuning, as this is really another important part for machine learning. You could check it out with I provide with you.\n",
    "\n",
    "But here I also just provide with you a another way also could use the cross-validation with the grid-search for parameter tuning(But I really recommend that you should learn the grid search part tutorial first, in fact, this no much difference between the GridSearch and GridSearchCV, only difference is GridSearchCV add the cross-validation parts)."
   ]
  },
  {
   "cell_type": "code",
   "execution_count": 32,
   "metadata": {},
   "outputs": [
    {
     "name": "stdout",
     "output_type": "stream",
     "text": [
      "best model:  LogisticRegression(C=10.0, class_weight=None, dual=False, fit_intercept=True,\n",
      "          intercept_scaling=1, max_iter=100, multi_class='ovr', n_jobs=1,\n",
      "          penalty='l2', random_state=None, solver='liblinear', tol=0.0001,\n",
      "          verbose=0, warm_start=False)\n",
      "best parameters based on training data:  {'C': 10.0, 'fit_intercept': True}\n",
      "best training score on the training dataset:  0.9333333333333333\n"
     ]
    }
   ],
   "source": [
    "# cv means the cross-validation\n",
    "from sklearn.grid_search import GridSearchCV\n",
    "\n",
    "param_grid = {'C': [.1, 1., 10. ], 'fit_intercept': [True, False]}\n",
    "\n",
    "grid_model = GridSearchCV(estimator=lr, param_grid=param_grid, cv=3)\n",
    "\n",
    "# start to fit the model to find the best parameters\n",
    "grid_model.fit(xtrain, ytrain)\n",
    "\n",
    "# get the best model\n",
    "# Noted: the best model is not only based on the whole parameters also based on the cv best score\n",
    "best_model = grid_model.best_estimator_\n",
    "print('best model: ', best_model)\n",
    "\n",
    "# Get best parameters\n",
    "print('best parameters based on training data: ', grid_model.best_params_)\n",
    "\n",
    "# get the best score based on the training data\n",
    "print('best training score on the training dataset: ', grid_model.best_score_)\n"
   ]
  },
  {
   "cell_type": "markdown",
   "metadata": {},
   "source": [
    "### 3. Model evaluation\n",
    "\n",
    "During the finding best parameters processing step, we need to evaluate our model performence based on some criteria like most used accuracy for classification, based on different scenario, we need different metrics to evaluate our model. \n",
    "So this part is mainly to find the properly evaluation parts for training and testing step.\n",
    "\n",
    "Generally speaking, for classification, most used metrics is `accuracy`, but there are also some other useful metrics could be used to dive deeper about how our model perform on the test data. Here I just list some useful metrics for different problems:\n",
    "\n",
    "`Classification`:\n",
    "  1. Accuracy\n",
    "  2. recall score\n",
    "  3. precision score\n",
    "  4. f1 score\n",
    "  5. confusion matrix\n",
    "  6. ROC curve\n",
    "  7. AUC score\n",
    " \n",
    "`regression`:\n",
    "  1. mean absolutely error\n",
    "  2. mean squared error\n",
    "  3. root mean squared error\n",
    "  4. R2 score\n",
    " \n",
    "I will show you one by one during the whole process for `classification` and `regression` problems, also with explain for each metric meaning."
   ]
  },
  {
   "cell_type": "markdown",
   "metadata": {},
   "source": [
    "##### Classification problem"
   ]
  },
  {
   "cell_type": "code",
   "execution_count": 81,
   "metadata": {},
   "outputs": [
    {
     "name": "stdout",
     "output_type": "stream",
     "text": [
      "first 3 prediction classes for first 3 samples:  [0 0 0]\n",
      "first 3 predict probability for first 3 samples:  [[0.92875378 0.07124622]\n",
      " [0.86114367 0.13885633]\n",
      " [0.84596677 0.15403323]]\n"
     ]
    }
   ],
   "source": [
    "from sklearn.datasets import load_iris\n",
    "from sklearn.linear_model import LogisticRegression\n",
    "from sklearn import metrics\n",
    "\n",
    "x, y = load_iris(return_X_y=True)\n",
    "\n",
    "# as we just want to make the data to 2 classes, as some metrics couldn't support multiple classes like recall, precision ..\n",
    "# I will also tell you which metrics dosen't support multi-classes\n",
    "x, y = x[:100], y[:100]   # just get first 100th rows\n",
    "\n",
    "# I will add some noise\n",
    "x += np.random.randint(1, 5, size=x.shape)\n",
    "\n",
    "lr = LogisticRegression()\n",
    "lr.fit(x, y)\n",
    "\n",
    "# this is to get the prediction classes of the model\n",
    "pred = lr.predict(x)\n",
    "\n",
    "# this is to get the probability of the classes, \n",
    "# here is 3 classes, so the probability of model is n_samples * 2 (means for each class probability)\n",
    "prob = lr.predict_proba(x)\n",
    "\n",
    "print('first 3 prediction classes for first 3 samples: ', pred[:3])\n",
    "\n",
    "# as you can see that the prob is 2D\n",
    "print('first 3 predict probability for first 3 samples: ', prob[:3])"
   ]
  },
  {
   "cell_type": "code",
   "execution_count": 50,
   "metadata": {},
   "outputs": [
    {
     "name": "stdout",
     "output_type": "stream",
     "text": [
      "Accuracy :  0.87\n"
     ]
    }
   ],
   "source": [
    "# 1. accuracy score: count the correct pred divied by whole numbers of samples(how much we predict correctly)\n",
    "print('Accuracy : ', metrics.accuracy_score(y_true=y, y_pred=pred))"
   ]
  },
  {
   "cell_type": "markdown",
   "metadata": {},
   "source": [
    "##### Noted:\n",
    "Metrics of classification like: `recall`, `precision`, `f1-score`, `AUC score` and `ROC curve` dosen't support multi-class problem inherently, `BUT` we could use this scores during our training step using other solution, I will teach you also with my free time. You only have to know that these metrics also could be used for multi-class."
   ]
  },
  {
   "cell_type": "code",
   "execution_count": 53,
   "metadata": {},
   "outputs": [],
   "source": [
    "# I will plot the metrics, then you will get a better idea \n",
    "from scikitplot.metrics import plot_roc, plot_precision_recall, plot_confusion_matrix, plot_ks_statistic"
   ]
  },
  {
   "cell_type": "code",
   "execution_count": 52,
   "metadata": {},
   "outputs": [
    {
     "name": "stdout",
     "output_type": "stream",
     "text": [
      "recall score:  0.92\n"
     ]
    },
    {
     "data": {
      "image/png": "[encoded data removed]",
      "text/plain": [
       "<Figure size 432x288 with 1 Axes>"
      ]
     },
     "metadata": {},
     "output_type": "display_data"
    }
   ],
   "source": [
    "# 2. recall score(really important!): for recall score and precision score, \n",
    "# I have teach you once I have time, as this is a little complex\n",
    "# but use is really easy for sklearn\n",
    "# largest is 1.0 like accuracy, bigger is better\n",
    "print('recall score: ', metrics.recall_score(y_true=y, y_pred=pred))\n",
    "\n",
    "# as the result is 1, so you could find the result is best\n",
    "plot_precision_recall(y_true=y, y_probas=prob)\n",
    "plt.show()"
   ]
  },
  {
   "cell_type": "code",
   "execution_count": 85,
   "metadata": {},
   "outputs": [
    {
     "name": "stdout",
     "output_type": "stream",
     "text": [
      "precision score:  0.8333333333333334\n"
     ]
    }
   ],
   "source": [
    "# 3. precision score(really important!): I will teach you\n",
    "# largest is 1.0 like accuracy, bigger is better\n",
    "print('precision score: ', metrics.precision_score(y_true=y, y_pred=pred))"
   ]
  },
  {
   "cell_type": "code",
   "execution_count": 86,
   "metadata": {},
   "outputs": [
    {
     "name": "stdout",
     "output_type": "stream",
     "text": [
      "f1 score:  0.8653846153846153\n"
     ]
    }
   ],
   "source": [
    "# 4. f1 score(really important!): I will teach you\n",
    "# largest is 1.0 like accuracy, bigger is better\n",
    "print('f1 score: ', metrics.f1_score(y_true=y, y_pred=pred))"
   ]
  },
  {
   "cell_type": "code",
   "execution_count": 87,
   "metadata": {},
   "outputs": [
    {
     "name": "stdout",
     "output_type": "stream",
     "text": [
      "confusion matrix:\n"
     ]
    },
    {
     "data": {
      "image/png": "[encoded data removed]",
      "text/plain": [
       "<Figure size 432x288 with 2 Axes>"
      ]
     },
     "metadata": {},
     "output_type": "display_data"
    }
   ],
   "source": [
    "# 5. confusion matrix(really important!) I will teach you\n",
    "print('confusion matrix:')\n",
    "metrics.confusion_matrix(y_true=y, y_pred=pred)\n",
    "\n",
    "plot_confusion_matrix(y_true=y, y_pred=pred)\n",
    "plt.show()"
   ]
  },
  {
   "cell_type": "code",
   "execution_count": 88,
   "metadata": {},
   "outputs": [
    {
     "name": "stdout",
     "output_type": "stream",
     "text": [
      "AUC score is:  0.9456\n"
     ]
    },
    {
     "data": {
      "image/png": "[encoded data removed]",
      "text/plain": [
       "<Figure size 432x288 with 1 Axes>"
      ]
     },
     "metadata": {},
     "output_type": "display_data"
    }
   ],
   "source": [
    "# 6. ROC curve and AUC score\n",
    "print('AUC score is: ', metrics.roc_auc_score(y, prob[:, 1]))\n",
    "\n",
    "plot_roc(y, prob)\n",
    "plt.show()"
   ]
  },
  {
   "cell_type": "code",
   "execution_count": 89,
   "metadata": {},
   "outputs": [
    {
     "data": {
      "image/png": "[encoded data removed]",
      "text/plain": [
       "<Figure size 432x288 with 1 Axes>"
      ]
     },
     "metadata": {},
     "output_type": "display_data"
    }
   ],
   "source": [
    "# 7. KS Score for binary classification\n",
    "plot_ks_statistic(y, prob)\n",
    "plt.show()"
   ]
  },
  {
   "cell_type": "markdown",
   "metadata": {},
   "source": [
    "##### Regression problem"
   ]
  },
  {
   "cell_type": "code",
   "execution_count": 64,
   "metadata": {},
   "outputs": [
    {
     "name": "stdout",
     "output_type": "stream",
     "text": [
      "MSE:  21.8977792176875\n"
     ]
    }
   ],
   "source": [
    "from sklearn.datasets import load_boston\n",
    "from sklearn.linear_model import LinearRegression\n",
    "from sklearn import metrics\n",
    "\n",
    "x, y = load_boston(return_X_y = True)\n",
    "\n",
    "lr = LinearRegression()\n",
    "\n",
    "# baseline\n",
    "lr.fit(x, y)\n",
    "\n",
    "# get the prediction\n",
    "pred = lr.predict(x)\n",
    "\n",
    "# use the mean squared error\n",
    "print('MSE: ', metrics.mean_squared_error(y, pred))"
   ]
  },
  {
   "cell_type": "markdown",
   "metadata": {},
   "source": [
    "Mean square error aka `MSE` is used most in regression problem, the result is really easy: `sum((y - pred) ** 2)`, so the MSE is the residual error of the whole dataset with the truth and prediction, with squared error.\n",
    "Here I just make the plot for example."
   ]
  },
  {
   "cell_type": "code",
   "execution_count": 75,
   "metadata": {},
   "outputs": [
    {
     "data": {
      "image/png": "[encoded data removed]",
      "text/plain": [
       "<Figure size 432x288 with 1 Axes>"
      ]
     },
     "metadata": {},
     "output_type": "display_data"
    }
   ],
   "source": [
    "data_y = np.random.random(20)\n",
    "data_x = np.array(range(len(data_y))).reshape(-1, 1)\n",
    "\n",
    "plt.scatter(data_x, data_y)\n",
    "\n",
    "lr = LinearRegression()\n",
    "lr.fit(data_x, data_y)\n",
    "\n",
    "# plot fitted regression line: x * w + b\n",
    "w = lr.coef_\n",
    "b = lr.intercept_\n",
    "\n",
    "plt.plot(data_x, data_x * w + b, label='fitted_line')\n",
    "plt.legend()\n",
    "\n",
    "plt.show()\n",
    "\n",
    "# the mean squared error is to compute every data point minus the prediction with that x data and squared."
   ]
  },
  {
   "cell_type": "markdown",
   "metadata": {},
   "source": [
    "Mean absolutely error aka `MAE` is used most in regression problem, the result is really easy: `sum(||y - pred||)`, so the `MAE` is the residual error of the whole dataset with the truth and prediction , with absolutely error."
   ]
  },
  {
   "cell_type": "code",
   "execution_count": 69,
   "metadata": {},
   "outputs": [
    {
     "name": "stdout",
     "output_type": "stream",
     "text": [
      "Mean absolutely error:  3.2729446379969347\n"
     ]
    }
   ],
   "source": [
    "# use the prediction with linear regression\n",
    "print('Mean absolutely error: ', metrics.mean_absolute_error(y_true=y, y_pred=pred))"
   ]
  },
  {
   "cell_type": "markdown",
   "metadata": {},
   "source": [
    "Root mean square error aka `RMSE` is used `most` in regression problem, the result is really easy: `sqrt(sum((y - pred) ** 2))`, so the RMSE is the residual error of the whole dataset with the truth and prediction, with squared error and with sqrt!\n",
    "In fact, you know that the `RMSE` is based on the `MSE`, but why we also use the `RSME` as metric? The only reason is that the error is smaller then `MSE`(:)). We use `RMSE` many and many times!"
   ]
  },
  {
   "cell_type": "code",
   "execution_count": 70,
   "metadata": {},
   "outputs": [
    {
     "name": "stdout",
     "output_type": "stream",
     "text": [
      "Root mean squared error:  4.679506300635516\n"
     ]
    }
   ],
   "source": [
    "# it is smaller than MSE, right?\n",
    "print('Root mean squared error: ', np.sqrt(metrics.mean_squared_error(y_true=y, y_pred=pred)))"
   ]
  },
  {
   "cell_type": "markdown",
   "metadata": {},
   "source": [
    "R2-score is used to explain how much the model express the variance of the label, R2-score is computed with: `1 - sum(y - pred) / sum(y - mean(y))`, the best R2-score is 1 and could be negative. The constant predictor(to predict whole data with a constant number with mean value, then the r2 is 0.0). The intutive explain is that how much the difference between the truth and prediction, the variance is means the whole data difference with their means, if the most predict very well, then the r2 should be 1.(as `sum(y-pred) == 0`).\n",
    "You may wonder why we should use R2-score, the reason is that we couldn't get the volumn with `RMSE` and `MAE` like metrics as we couldn't get whether this model is best with lowest error, but the R2-score with the upper bound with 1, then if the model predict with 1, then you are the best :))."
   ]
  },
  {
   "cell_type": "code",
   "execution_count": 72,
   "metadata": {},
   "outputs": [
    {
     "name": "stdout",
     "output_type": "stream",
     "text": [
      "R2 score of the regression:  0.7406077428649427\n"
     ]
    }
   ],
   "source": [
    "# as you could see, r2 is not 1., but not very close.\n",
    "print('R2 score of the regression: ', metrics.r2_score(y_true=y, y_pred=pred))"
   ]
  },
  {
   "cell_type": "markdown",
   "metadata": {},
   "source": [
    "### 4. Model storage\n",
    "\n",
    "The last part is to store the trained model into disk or server side. The storage is really easy for model storage. "
   ]
  },
  {
   "cell_type": "code",
   "execution_count": 84,
   "metadata": {},
   "outputs": [
    {
     "name": "stdout",
     "output_type": "stream",
     "text": [
      "prediction with new loaded lr with pickle: [0 0 0]\n",
      "prediction with new loaded with joblib:  [0 0 0]\n"
     ]
    }
   ],
   "source": [
    "from sklearn.externals import joblib\n",
    "import pickle\n",
    "import tempfile\n",
    "import shutil\n",
    "import os\n",
    "\n",
    "tmp_path = tempfile.mkdtemp()\n",
    "\n",
    "lr = LogisticRegression()\n",
    "lr.fit(x, y)\n",
    "\n",
    "# in fact, we could use two ways to store the model\n",
    "# fisrt is to use the picke(not recommend)\n",
    "s = pickle.dumps(lr)\n",
    "\n",
    "# load the model, we could use the loaded model to get the prediction\n",
    "lr_new_pickle = pickle.loads(s)\n",
    "\n",
    "print('prediction with new loaded lr with pickle:', lr_new_pickle.predict(x)[:3])\n",
    "\n",
    "# second way to store with joblib (more efficient for bigger model, recommend)\n",
    "joblib.dump(lr, os.path.join(tmp_path, 'lr.joblib'))\n",
    "\n",
    "lr_new_joblib = joblib.load(os.path.join(tmp_path, 'lr.joblib'))\n",
    "\n",
    "print('prediction with new loaded with joblib: ', lr_new_joblib.predict(x)[:3])\n",
    "\n",
    "# you could see the same result."
   ]
  },
  {
   "cell_type": "code",
   "execution_count": null,
   "metadata": {},
   "outputs": [],
   "source": []
  }
 ],
 "metadata": {
  "kernelspec": {
   "display_name": "Python 3",
   "language": "python",
   "name": "python3"
  },
  "language_info": {
   "codemirror_mode": {
    "name": "ipython",
    "version": 3
   },
   "file_extension": ".py",
   "mimetype": "text/x-python",
   "name": "python",
   "nbconvert_exporter": "python",
   "pygments_lexer": "ipython3",
   "version": "3.6.5"
  }
 },
 "nbformat": 4,
 "nbformat_minor": 2
}
