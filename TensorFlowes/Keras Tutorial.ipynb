{
 "cells": [
  {
   "cell_type": "markdown",
   "metadata": {},
   "source": [
    "### Keras Tutorial\n",
    "\n",
    "This tutorial is the next tutorial after **TensorFlow** tutorial, here I just want to make another tutorial for most popular deep learning framework: **Keras**! In fact, for using keras is really easy to build deep learning models, I will show you step by step with **Keras** to make deep learning models.\n",
    "\n",
    "Before you step up, you should install keras with pip: `pip install keras`! But one thing to notice, keras itself is not an directly framework, it's build upon with some other deep learning framework like: `TensorFlow`, `theano`, etc. As for now, keras is high level framework for **TensorFlow**, I really recommend you should install **TensorFlow**! If without GPU, then you could just install it with pip: `pip install tensorflow`, but if you have GPU, then you could install it with `pip install tensorflow-gpu`, but you should install the driver from CuDNN etc."
   ]
  },
  {
   "cell_type": "code",
   "execution_count": 1,
   "metadata": {},
   "outputs": [
    {
     "name": "stderr",
     "output_type": "stream",
     "text": [
      "Using TensorFlow backend.\n"
     ]
    }
   ],
   "source": [
    "import keras\n",
    "# as you could see that for my computer, I just use tensorflow backand."
   ]
  },
  {
   "cell_type": "markdown",
   "metadata": {},
   "source": [
    "### Sequencial\n",
    "\n",
    "Most basic use case to build model is to use `Sequence` module, as when you just want your model with linked layers, the `Sequence` module really should be used. Here I just show you with model to fit for digits datasets for example."
   ]
  },
  {
   "cell_type": "code",
   "execution_count": 2,
   "metadata": {},
   "outputs": [],
   "source": [
    "from sklearn.datasets import load_digits\n",
    "from sklearn.model_selection import train_test_split\n",
    "\n",
    "x, y = load_digits(return_X_y=True)\n",
    "\n",
    "xtrain, xtest, ytrain, ytest = train_test_split(x, y, test_size=.2, random_state=1234)"
   ]
  },
  {
   "cell_type": "code",
   "execution_count": 14,
   "metadata": {},
   "outputs": [],
   "source": [
    "# as we have get the training and testing data, then we could build our model\n",
    "# first we should import sequencial module\n",
    "from keras.models import Sequential\n",
    "\n",
    "# then we could first build our init model \n",
    "model = Sequential()"
   ]
  },
  {
   "cell_type": "code",
   "execution_count": 15,
   "metadata": {},
   "outputs": [
    {
     "name": "stdout",
     "output_type": "stream",
     "text": [
      "_________________________________________________________________\n",
      "Layer (type)                 Output Shape              Param #   \n",
      "=================================================================\n",
      "Total params: 0\n",
      "Trainable params: 0\n",
      "Non-trainable params: 0\n",
      "_________________________________________________________________\n"
     ]
    }
   ],
   "source": [
    "# then we could get some info with current model, we could just use summay() function!\n",
    "# we could see that there is nothing in the model for now.\n",
    "model.summary()"
   ]
  },
  {
   "cell_type": "code",
   "execution_count": 16,
   "metadata": {},
   "outputs": [],
   "source": [
    "# we could add some layers to current model\n",
    "# keras is really objective, layers are object, you could easily add layer to sequencial objct\n",
    "from keras.layers import Dense\n",
    "\n",
    "# here is just one hidden layer with 128 units, we should add the keras input_dim for the input data shape\n",
    "# then keras could inference the whole models' parameters\n",
    "model.add(Dense(128, activation='relu',  input_dim=(x.shape[1])))\n",
    "model.add(Dense(10, activation='softmax'))"
   ]
  },
  {
   "cell_type": "code",
   "execution_count": 17,
   "metadata": {},
   "outputs": [
    {
     "name": "stdout",
     "output_type": "stream",
     "text": [
      "_________________________________________________________________\n",
      "Layer (type)                 Output Shape              Param #   \n",
      "=================================================================\n",
      "dense_5 (Dense)              (None, 128)               8320      \n",
      "_________________________________________________________________\n",
      "dense_6 (Dense)              (None, 10)                1290      \n",
      "=================================================================\n",
      "Total params: 9,610\n",
      "Trainable params: 9,610\n",
      "Non-trainable params: 0\n",
      "_________________________________________________________________\n"
     ]
    }
   ],
   "source": [
    "# see model's structure and parameters\n",
    "# as you could see that we just with 9610 units for whole model.\n",
    "# for large model, there will be far more than current model\n",
    "model.summary()"
   ]
  },
  {
   "cell_type": "code",
   "execution_count": 18,
   "metadata": {},
   "outputs": [],
   "source": [
    "# then we should compile our model, to define the loss function, optimizer, evaluation object\n",
    "model.compile(loss='sparse_categorical_crossentropy', metrics=['accuracy'], optimizer=keras.optimizers.adam())"
   ]
  },
  {
   "cell_type": "code",
   "execution_count": 19,
   "metadata": {},
   "outputs": [
    {
     "name": "stdout",
     "output_type": "stream",
     "text": [
      "Train on 1437 samples, validate on 360 samples\n",
      "Epoch 1/100\n",
      "1437/1437 [==============================] - 0s 135us/step - loss: 7.7370 - acc: 0.0668 - val_loss: 6.2559 - val_acc: 0.0639\n",
      "Epoch 2/100\n",
      "1437/1437 [==============================] - 0s 12us/step - loss: 5.6408 - acc: 0.0905 - val_loss: 4.8711 - val_acc: 0.0972\n",
      "Epoch 3/100\n",
      "1437/1437 [==============================] - 0s 12us/step - loss: 4.3199 - acc: 0.1461 - val_loss: 3.7113 - val_acc: 0.2083\n",
      "Epoch 4/100\n",
      "1437/1437 [==============================] - 0s 15us/step - loss: 3.2347 - acc: 0.2784 - val_loss: 2.8987 - val_acc: 0.3278\n",
      "Epoch 5/100\n",
      "1437/1437 [==============================] - 0s 14us/step - loss: 2.4760 - acc: 0.4050 - val_loss: 2.2298 - val_acc: 0.4278\n",
      "Epoch 6/100\n",
      "1437/1437 [==============================] - 0s 13us/step - loss: 1.8908 - acc: 0.5003 - val_loss: 1.6584 - val_acc: 0.5361\n",
      "Epoch 7/100\n",
      "1437/1437 [==============================] - 0s 14us/step - loss: 1.4329 - acc: 0.5887 - val_loss: 1.2969 - val_acc: 0.6139\n",
      "Epoch 8/100\n",
      "1437/1437 [==============================] - 0s 12us/step - loss: 1.1463 - acc: 0.6653 - val_loss: 1.0598 - val_acc: 0.6944\n",
      "Epoch 9/100\n",
      "1437/1437 [==============================] - 0s 13us/step - loss: 0.9286 - acc: 0.7272 - val_loss: 0.8805 - val_acc: 0.7472\n",
      "Epoch 10/100\n",
      "1437/1437 [==============================] - 0s 14us/step - loss: 0.7643 - acc: 0.7780 - val_loss: 0.7538 - val_acc: 0.7750\n",
      "Epoch 11/100\n",
      "1437/1437 [==============================] - 0s 13us/step - loss: 0.6441 - acc: 0.8072 - val_loss: 0.6513 - val_acc: 0.7861\n",
      "Epoch 12/100\n",
      "1437/1437 [==============================] - 0s 13us/step - loss: 0.5507 - acc: 0.8302 - val_loss: 0.5563 - val_acc: 0.8194\n",
      "Epoch 13/100\n",
      "1437/1437 [==============================] - 0s 15us/step - loss: 0.4704 - acc: 0.8476 - val_loss: 0.4766 - val_acc: 0.8444\n",
      "Epoch 14/100\n",
      "1437/1437 [==============================] - 0s 12us/step - loss: 0.4112 - acc: 0.8699 - val_loss: 0.4169 - val_acc: 0.8583\n",
      "Epoch 15/100\n",
      "1437/1437 [==============================] - 0s 12us/step - loss: 0.3659 - acc: 0.8894 - val_loss: 0.3722 - val_acc: 0.8806\n",
      "Epoch 16/100\n",
      "1437/1437 [==============================] - 0s 15us/step - loss: 0.3252 - acc: 0.8970 - val_loss: 0.3365 - val_acc: 0.8917\n",
      "Epoch 17/100\n",
      "1437/1437 [==============================] - 0s 14us/step - loss: 0.2900 - acc: 0.9068 - val_loss: 0.3102 - val_acc: 0.8917\n",
      "Epoch 18/100\n",
      "1437/1437 [==============================] - 0s 14us/step - loss: 0.2650 - acc: 0.9130 - val_loss: 0.2860 - val_acc: 0.9028\n",
      "Epoch 19/100\n",
      "1437/1437 [==============================] - 0s 12us/step - loss: 0.2422 - acc: 0.9221 - val_loss: 0.2638 - val_acc: 0.9111\n",
      "Epoch 20/100\n",
      "1437/1437 [==============================] - 0s 12us/step - loss: 0.2218 - acc: 0.9290 - val_loss: 0.2459 - val_acc: 0.9222\n",
      "Epoch 21/100\n",
      "1437/1437 [==============================] - 0s 12us/step - loss: 0.2053 - acc: 0.9332 - val_loss: 0.2319 - val_acc: 0.9278\n",
      "Epoch 22/100\n",
      "1437/1437 [==============================] - 0s 11us/step - loss: 0.1905 - acc: 0.9422 - val_loss: 0.2220 - val_acc: 0.9278\n",
      "Epoch 23/100\n",
      "1437/1437 [==============================] - 0s 12us/step - loss: 0.1771 - acc: 0.9485 - val_loss: 0.2134 - val_acc: 0.9250\n",
      "Epoch 24/100\n",
      "1437/1437 [==============================] - 0s 11us/step - loss: 0.1651 - acc: 0.9520 - val_loss: 0.2058 - val_acc: 0.9333\n",
      "Epoch 25/100\n",
      "1437/1437 [==============================] - 0s 12us/step - loss: 0.1548 - acc: 0.9569 - val_loss: 0.1991 - val_acc: 0.9361\n",
      "Epoch 26/100\n",
      "1437/1437 [==============================] - 0s 12us/step - loss: 0.1460 - acc: 0.9610 - val_loss: 0.1929 - val_acc: 0.9389\n",
      "Epoch 27/100\n",
      "1437/1437 [==============================] - 0s 12us/step - loss: 0.1376 - acc: 0.9631 - val_loss: 0.1875 - val_acc: 0.9389\n",
      "Epoch 28/100\n",
      "1437/1437 [==============================] - 0s 11us/step - loss: 0.1298 - acc: 0.9673 - val_loss: 0.1823 - val_acc: 0.9472\n",
      "Epoch 29/100\n",
      "1437/1437 [==============================] - 0s 12us/step - loss: 0.1224 - acc: 0.9694 - val_loss: 0.1776 - val_acc: 0.9500\n",
      "Epoch 30/100\n",
      "1437/1437 [==============================] - 0s 10us/step - loss: 0.1158 - acc: 0.9736 - val_loss: 0.1729 - val_acc: 0.9472\n",
      "Epoch 31/100\n",
      "1437/1437 [==============================] - 0s 12us/step - loss: 0.1100 - acc: 0.9743 - val_loss: 0.1686 - val_acc: 0.9472\n",
      "Epoch 32/100\n",
      "1437/1437 [==============================] - 0s 11us/step - loss: 0.1045 - acc: 0.9770 - val_loss: 0.1659 - val_acc: 0.9472\n",
      "Epoch 33/100\n",
      "1437/1437 [==============================] - 0s 12us/step - loss: 0.0995 - acc: 0.9784 - val_loss: 0.1627 - val_acc: 0.9556\n",
      "Epoch 34/100\n",
      "1437/1437 [==============================] - 0s 12us/step - loss: 0.0948 - acc: 0.9784 - val_loss: 0.1587 - val_acc: 0.9528\n",
      "Epoch 35/100\n",
      "1437/1437 [==============================] - 0s 10us/step - loss: 0.0900 - acc: 0.9798 - val_loss: 0.1555 - val_acc: 0.9556\n",
      "Epoch 36/100\n",
      "1437/1437 [==============================] - 0s 10us/step - loss: 0.0863 - acc: 0.9812 - val_loss: 0.1530 - val_acc: 0.9556\n",
      "Epoch 37/100\n",
      "1437/1437 [==============================] - 0s 10us/step - loss: 0.0820 - acc: 0.9826 - val_loss: 0.1502 - val_acc: 0.9528\n",
      "Epoch 38/100\n",
      "1437/1437 [==============================] - 0s 12us/step - loss: 0.0788 - acc: 0.9840 - val_loss: 0.1473 - val_acc: 0.9528\n",
      "Epoch 39/100\n",
      "1437/1437 [==============================] - 0s 8us/step - loss: 0.0755 - acc: 0.9847 - val_loss: 0.1445 - val_acc: 0.9528\n",
      "Epoch 40/100\n",
      "1437/1437 [==============================] - 0s 12us/step - loss: 0.0725 - acc: 0.9868 - val_loss: 0.1428 - val_acc: 0.9528\n",
      "Epoch 41/100\n",
      "1437/1437 [==============================] - 0s 11us/step - loss: 0.0694 - acc: 0.9889 - val_loss: 0.1405 - val_acc: 0.9528\n",
      "Epoch 42/100\n",
      "1437/1437 [==============================] - 0s 9us/step - loss: 0.0669 - acc: 0.9889 - val_loss: 0.1381 - val_acc: 0.9528\n",
      "Epoch 43/100\n",
      "1437/1437 [==============================] - 0s 11us/step - loss: 0.0642 - acc: 0.9889 - val_loss: 0.1367 - val_acc: 0.9528\n",
      "Epoch 44/100\n",
      "1437/1437 [==============================] - 0s 12us/step - loss: 0.0618 - acc: 0.9889 - val_loss: 0.1346 - val_acc: 0.9556\n",
      "Epoch 45/100\n",
      "1437/1437 [==============================] - 0s 11us/step - loss: 0.0598 - acc: 0.9889 - val_loss: 0.1326 - val_acc: 0.9556\n",
      "Epoch 46/100\n",
      "1437/1437 [==============================] - 0s 9us/step - loss: 0.0577 - acc: 0.9889 - val_loss: 0.1313 - val_acc: 0.9528\n",
      "Epoch 47/100\n",
      "1437/1437 [==============================] - 0s 12us/step - loss: 0.0553 - acc: 0.9889 - val_loss: 0.1302 - val_acc: 0.9528\n",
      "Epoch 48/100\n",
      "1437/1437 [==============================] - 0s 10us/step - loss: 0.0535 - acc: 0.9889 - val_loss: 0.1284 - val_acc: 0.9583\n",
      "Epoch 49/100\n",
      "1437/1437 [==============================] - 0s 10us/step - loss: 0.0517 - acc: 0.9916 - val_loss: 0.1270 - val_acc: 0.9583\n",
      "Epoch 50/100\n",
      "1437/1437 [==============================] - 0s 11us/step - loss: 0.0501 - acc: 0.9923 - val_loss: 0.1257 - val_acc: 0.9583\n",
      "Epoch 51/100\n",
      "1437/1437 [==============================] - 0s 9us/step - loss: 0.0483 - acc: 0.9923 - val_loss: 0.1248 - val_acc: 0.9611\n",
      "Epoch 52/100\n",
      "1437/1437 [==============================] - 0s 12us/step - loss: 0.0468 - acc: 0.9923 - val_loss: 0.1235 - val_acc: 0.9611\n",
      "Epoch 53/100\n",
      "1437/1437 [==============================] - 0s 11us/step - loss: 0.0453 - acc: 0.9944 - val_loss: 0.1218 - val_acc: 0.9583\n",
      "Epoch 54/100\n",
      "1437/1437 [==============================] - 0s 9us/step - loss: 0.0438 - acc: 0.9951 - val_loss: 0.1206 - val_acc: 0.9611\n",
      "Epoch 55/100\n",
      "1437/1437 [==============================] - 0s 12us/step - loss: 0.0426 - acc: 0.9958 - val_loss: 0.1198 - val_acc: 0.9611\n",
      "Epoch 56/100\n",
      "1437/1437 [==============================] - 0s 10us/step - loss: 0.0413 - acc: 0.9958 - val_loss: 0.1190 - val_acc: 0.9639\n",
      "Epoch 57/100\n",
      "1437/1437 [==============================] - 0s 9us/step - loss: 0.0401 - acc: 0.9965 - val_loss: 0.1186 - val_acc: 0.9639\n",
      "Epoch 58/100\n",
      "1437/1437 [==============================] - 0s 10us/step - loss: 0.0389 - acc: 0.9972 - val_loss: 0.1180 - val_acc: 0.9639\n",
      "Epoch 59/100\n",
      "1437/1437 [==============================] - 0s 9us/step - loss: 0.0379 - acc: 0.9972 - val_loss: 0.1170 - val_acc: 0.9639\n",
      "Epoch 60/100\n"
     ]
    },
    {
     "name": "stdout",
     "output_type": "stream",
     "text": [
      "1437/1437 [==============================] - 0s 10us/step - loss: 0.0368 - acc: 0.9972 - val_loss: 0.1161 - val_acc: 0.9667\n",
      "Epoch 61/100\n",
      "1437/1437 [==============================] - 0s 10us/step - loss: 0.0356 - acc: 0.9972 - val_loss: 0.1147 - val_acc: 0.9667\n",
      "Epoch 62/100\n",
      "1437/1437 [==============================] - 0s 10us/step - loss: 0.0347 - acc: 0.9972 - val_loss: 0.1139 - val_acc: 0.9667\n",
      "Epoch 63/100\n",
      "1437/1437 [==============================] - 0s 10us/step - loss: 0.0339 - acc: 0.9972 - val_loss: 0.1135 - val_acc: 0.9667\n",
      "Epoch 64/100\n",
      "1437/1437 [==============================] - 0s 10us/step - loss: 0.0329 - acc: 0.9972 - val_loss: 0.1125 - val_acc: 0.9667\n",
      "Epoch 65/100\n",
      "1437/1437 [==============================] - 0s 10us/step - loss: 0.0319 - acc: 0.9979 - val_loss: 0.1115 - val_acc: 0.9667\n",
      "Epoch 66/100\n",
      "1437/1437 [==============================] - 0s 9us/step - loss: 0.0312 - acc: 0.9979 - val_loss: 0.1110 - val_acc: 0.9667\n",
      "Epoch 67/100\n",
      "1437/1437 [==============================] - 0s 12us/step - loss: 0.0304 - acc: 0.9979 - val_loss: 0.1105 - val_acc: 0.9667\n",
      "Epoch 68/100\n",
      "1437/1437 [==============================] - 0s 12us/step - loss: 0.0295 - acc: 0.9979 - val_loss: 0.1102 - val_acc: 0.9667\n",
      "Epoch 69/100\n",
      "1437/1437 [==============================] - 0s 10us/step - loss: 0.0288 - acc: 0.9979 - val_loss: 0.1098 - val_acc: 0.9667\n",
      "Epoch 70/100\n",
      "1437/1437 [==============================] - 0s 12us/step - loss: 0.0280 - acc: 0.9979 - val_loss: 0.1088 - val_acc: 0.9667\n",
      "Epoch 71/100\n",
      "1437/1437 [==============================] - 0s 12us/step - loss: 0.0274 - acc: 0.9986 - val_loss: 0.1078 - val_acc: 0.9667\n",
      "Epoch 72/100\n",
      "1437/1437 [==============================] - 0s 13us/step - loss: 0.0266 - acc: 0.9986 - val_loss: 0.1072 - val_acc: 0.9667\n",
      "Epoch 73/100\n",
      "1437/1437 [==============================] - 0s 10us/step - loss: 0.0260 - acc: 0.9986 - val_loss: 0.1065 - val_acc: 0.9667\n",
      "Epoch 74/100\n",
      "1437/1437 [==============================] - 0s 14us/step - loss: 0.0253 - acc: 0.9986 - val_loss: 0.1059 - val_acc: 0.9667\n",
      "Epoch 75/100\n",
      "1437/1437 [==============================] - 0s 13us/step - loss: 0.0248 - acc: 0.9986 - val_loss: 0.1056 - val_acc: 0.9667\n",
      "Epoch 76/100\n",
      "1437/1437 [==============================] - 0s 11us/step - loss: 0.0242 - acc: 0.9986 - val_loss: 0.1047 - val_acc: 0.9694\n",
      "Epoch 77/100\n",
      "1437/1437 [==============================] - 0s 12us/step - loss: 0.0236 - acc: 0.9986 - val_loss: 0.1041 - val_acc: 0.9694\n",
      "Epoch 78/100\n",
      "1437/1437 [==============================] - 0s 15us/step - loss: 0.0231 - acc: 0.9986 - val_loss: 0.1034 - val_acc: 0.9694\n",
      "Epoch 79/100\n",
      "1437/1437 [==============================] - 0s 15us/step - loss: 0.0225 - acc: 0.9986 - val_loss: 0.1034 - val_acc: 0.9694\n",
      "Epoch 80/100\n",
      "1437/1437 [==============================] - 0s 12us/step - loss: 0.0221 - acc: 0.9986 - val_loss: 0.1036 - val_acc: 0.9694\n",
      "Epoch 81/100\n",
      "1437/1437 [==============================] - 0s 14us/step - loss: 0.0216 - acc: 0.9986 - val_loss: 0.1033 - val_acc: 0.9694\n",
      "Epoch 82/100\n",
      "1437/1437 [==============================] - 0s 12us/step - loss: 0.0211 - acc: 0.9986 - val_loss: 0.1027 - val_acc: 0.9722\n",
      "Epoch 83/100\n",
      "1437/1437 [==============================] - 0s 10us/step - loss: 0.0206 - acc: 0.9986 - val_loss: 0.1022 - val_acc: 0.9722\n",
      "Epoch 84/100\n",
      "1437/1437 [==============================] - 0s 12us/step - loss: 0.0201 - acc: 0.9986 - val_loss: 0.1014 - val_acc: 0.9694\n",
      "Epoch 85/100\n",
      "1437/1437 [==============================] - 0s 12us/step - loss: 0.0197 - acc: 0.9986 - val_loss: 0.1007 - val_acc: 0.9694\n",
      "Epoch 86/100\n",
      "1437/1437 [==============================] - 0s 11us/step - loss: 0.0194 - acc: 0.9986 - val_loss: 0.1005 - val_acc: 0.9722\n",
      "Epoch 87/100\n",
      "1437/1437 [==============================] - 0s 13us/step - loss: 0.0189 - acc: 0.9986 - val_loss: 0.1003 - val_acc: 0.9722\n",
      "Epoch 88/100\n",
      "1437/1437 [==============================] - 0s 10us/step - loss: 0.0186 - acc: 0.9986 - val_loss: 0.0998 - val_acc: 0.9722\n",
      "Epoch 89/100\n",
      "1437/1437 [==============================] - 0s 12us/step - loss: 0.0182 - acc: 0.9986 - val_loss: 0.0993 - val_acc: 0.9722\n",
      "Epoch 90/100\n",
      "1437/1437 [==============================] - 0s 11us/step - loss: 0.0178 - acc: 0.9986 - val_loss: 0.0989 - val_acc: 0.9722\n",
      "Epoch 91/100\n",
      "1437/1437 [==============================] - 0s 11us/step - loss: 0.0175 - acc: 0.9986 - val_loss: 0.0987 - val_acc: 0.9722\n",
      "Epoch 92/100\n",
      "1437/1437 [==============================] - 0s 15us/step - loss: 0.0172 - acc: 0.9986 - val_loss: 0.0986 - val_acc: 0.9722\n",
      "Epoch 93/100\n",
      "1437/1437 [==============================] - 0s 11us/step - loss: 0.0168 - acc: 0.9993 - val_loss: 0.0984 - val_acc: 0.9722\n",
      "Epoch 94/100\n",
      "1437/1437 [==============================] - 0s 10us/step - loss: 0.0165 - acc: 0.9986 - val_loss: 0.0975 - val_acc: 0.9722\n",
      "Epoch 95/100\n",
      "1437/1437 [==============================] - 0s 11us/step - loss: 0.0163 - acc: 0.9986 - val_loss: 0.0965 - val_acc: 0.9722\n",
      "Epoch 96/100\n",
      "1437/1437 [==============================] - 0s 10us/step - loss: 0.0159 - acc: 0.9986 - val_loss: 0.0963 - val_acc: 0.9722\n",
      "Epoch 97/100\n",
      "1437/1437 [==============================] - 0s 11us/step - loss: 0.0156 - acc: 0.9993 - val_loss: 0.0966 - val_acc: 0.9722\n",
      "Epoch 98/100\n",
      "1437/1437 [==============================] - 0s 10us/step - loss: 0.0154 - acc: 0.9993 - val_loss: 0.0963 - val_acc: 0.9722\n",
      "Epoch 99/100\n",
      "1437/1437 [==============================] - 0s 10us/step - loss: 0.0151 - acc: 0.9993 - val_loss: 0.0961 - val_acc: 0.9722\n",
      "Epoch 100/100\n",
      "1437/1437 [==============================] - 0s 13us/step - loss: 0.0149 - acc: 1.0000 - val_loss: 0.0955 - val_acc: 0.9722\n"
     ]
    }
   ],
   "source": [
    "# then we could start our training step with model fit\n",
    "his = model.fit(xtrain, ytrain, epochs=100, batch_size=512, validation_data=(xtest, ytest), verbose=1)"
   ]
  },
  {
   "cell_type": "code",
   "execution_count": 24,
   "metadata": {},
   "outputs": [
    {
     "data": {
      "image/png": "[encoded data removed]",
      "text/plain": [
       "<Figure size 432x288 with 1 Axes>"
      ]
     },
     "metadata": {},
     "output_type": "display_data"
    },
    {
     "data": {
      "image/png": "[encoded data removed]",
      "text/plain": [
       "<Figure size 432x288 with 1 Axes>"
      ]
     },
     "metadata": {},
     "output_type": "display_data"
    }
   ],
   "source": [
    "# we could plot our training loss and test loss\n",
    "import matplotlib.pyplot as plt\n",
    "\n",
    "plt.plot(his.history['loss'], label='train loss')\n",
    "plt.plot(his.history['val_loss'], label='test loss')\n",
    "\n",
    "plt.legend()\n",
    "\n",
    "plt.show()\n",
    "# -------------accuracy\n",
    "plt.plot(his.history['acc'], label='train accuracy')\n",
    "plt.plot(his.history['val_acc'], label='test accuracy')\n",
    "\n",
    "plt.legend()\n",
    "\n",
    "plt.show()"
   ]
  },
  {
   "cell_type": "code",
   "execution_count": null,
   "metadata": {},
   "outputs": [],
   "source": []
  }
 ],
 "metadata": {
  "kernelspec": {
   "display_name": "Python 3",
   "language": "python",
   "name": "python3"
  },
  "language_info": {
   "codemirror_mode": {
    "name": "ipython",
    "version": 3
   },
   "file_extension": ".py",
   "mimetype": "text/x-python",
   "name": "python",
   "nbconvert_exporter": "python",
   "pygments_lexer": "ipython3",
   "version": "3.6.5"
  }
 },
 "nbformat": 4,
 "nbformat_minor": 2
}
